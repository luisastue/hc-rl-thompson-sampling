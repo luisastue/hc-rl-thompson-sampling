{
 "cells": [
  {
   "cell_type": "code",
   "execution_count": null,
   "metadata": {},
   "outputs": [],
   "source": [
    "include(\"main.jl\")\n",
    "using PyCall\n",
    "using CairoMakie\n",
    "sepsis_gym = pyimport(\"custom_sepsis\")\n",
    "using Statistics\n"
   ]
  },
  {
   "cell_type": "code",
   "execution_count": null,
   "metadata": {},
   "outputs": [],
   "source": [
    "ts = Dict(\n",
    "    :Simple => [sepsis_gym.DirThompsonSampling.load_json(\"json/dirichlet/ts/Simple-$i.json\") for i in 0:2],\n",
    "    :Medium => [sepsis_gym.DirThompsonSampling.load_json(\"json/dirichlet/ts/Medium-$i.json\") for i in 0:2],\n",
    "    :None => [sepsis_gym.DirThompsonSampling.load_json(\"json/dirichlet/ts/None-$i.json\") for i in 0:2],\n",
    "    :Softmax => [load_jld(\"data/mcmc/runs/SoftmaxPPL-$i.jld\")  for i in 1:3],\n",
    "    :SimplePPL => [load_jld(\"data/mcmc/runs/SimplePPL-$i.jld\")  for i in 1:3]\n",
    ")"
   ]
  },
  {
   "cell_type": "code",
   "execution_count": null,
   "metadata": {},
   "outputs": [],
   "source": [
    "dqn_1M = load_dqn_from_json(\"json/dqn/DQN-mean-rewards-1M.json\")"
   ]
  },
  {
   "cell_type": "code",
   "execution_count": null,
   "metadata": {},
   "outputs": [],
   "source": [
    "dqn_35000 = load_dqn_from_json(\"json/dqn/DQN-mean-rewards-35000.json\")\n"
   ]
  },
  {
   "cell_type": "code",
   "execution_count": null,
   "metadata": {},
   "outputs": [],
   "source": [
    "dqn_5000 = load_dqn_from_json(\"json/dqn/DQN-mean-rewards-5000.json\")\n"
   ]
  },
  {
   "cell_type": "code",
   "execution_count": null,
   "metadata": {},
   "outputs": [],
   "source": [
    "function plot_mean_rewards(ts, batch_size, types=[:SimplePPL, :Softmax, :Simple, :Medium, :None], dqn=nothing, window_size=5, dqn_window=1000, x_lim=nothing, )\n",
    "    fig = Figure(resolution=(900, 500))  \n",
    "    ax = Axis(fig[1, 1], xlabel = \"Number of Episodes\", ylabel = \"Mean Reward Across 100'000 Episodes\", title = \"Mean Rewards for Thompson Sampling with Batch Size $batch_size\")\n",
    "\n",
    "    # Data storage for accessing smoothed values later\n",
    "    data = Dict()\n",
    "\n",
    "    ks = []\n",
    "    for (i, type) in enumerate(types)\n",
    "        if isempty(ts[type])\n",
    "            continue\n",
    "        end\n",
    "\n",
    "        all_keys = [sort(collect(keys(model.mean_rewards))) for model in ts[type]]\n",
    "        min_keys = minimum(length.(all_keys))\n",
    "        ks = all_keys[1][1:min_keys]\n",
    "        filled_rewards = []\n",
    "        all_rewards = []\n",
    "        for model in ts[type]\n",
    "            rewards = [model.mean_rewards[1]]\n",
    "            for i in 2:min_keys\n",
    "                key = all_keys[1][i]\n",
    "                mult_factor = key - all_keys[1][i-1]\n",
    "                push!(rewards, fill(model.mean_rewards[key], mult_factor)...)\n",
    "            end\n",
    "            push!(all_rewards, [model.mean_rewards[k] for k in ks])\n",
    "            push!(filled_rewards, rewards)\n",
    "            lines!(ax, Float64.(rewards), color=(colors_dict[type], 0.2))\n",
    "        end\n",
    "        mean_filled_rewards = mean(filled_rewards)\n",
    "        mean_rewards = mean(all_rewards)\n",
    "        smoothed_mean_rewards = moving_avg(mean_rewards, window_size)\n",
    "        lines!(ax, ks, Float64.(smoothed_mean_rewards), color=colors_dict[type], linewidth=1.5, label=label_dict[type])\n",
    "\n",
    "        std_rewards = std(all_rewards)\n",
    "        smoothed_std_rewards = Float64.(moving_avg(std_rewards, window_size))\n",
    "        low = smoothed_mean_rewards .- smoothed_std_rewards\n",
    "        high = smoothed_mean_rewards .+ smoothed_std_rewards\n",
    "        band!(ax, Float64.(ks), low, high, color=(colors_dict[type], 0.2))\n",
    "\n",
    "        # Save smoothed data for future use\n",
    "        data[type] = mean_filled_rewards\n",
    "    end\n",
    "    len = maximum(length(data[type]) for type in types)\n",
    "\n",
    "    lines!(ax, 1:len, fill(random_mean, len), color=:black, linestyle=:dash, label=\"Random Policy\")\n",
    "    if dqn != nothing\n",
    "        smoothed = add_dqn!(ax, dqn, dqn_window)\n",
    "        data[:DQN] = dqn.mean_rewards\n",
    "        data[:SmoothedDQN] = smoothed\n",
    "    end\n",
    "    # axislegend(ax, position=(:right, :bottom))\n",
    "    Legend(fig[1, 2], ax, position = :right)\n",
    "\n",
    "    if x_lim != nothing\n",
    "        xlims!(ax, 0, x_lim)\n",
    "    end\n",
    "    \n",
    "    ylims!(ax, -1, 0)\n",
    "    ax.yticks = -1:0.05:0\n",
    "    save(\"ts.png\", fig)\n",
    "    display(fig)\n",
    "\n",
    "    return data\n",
    "end\n"
   ]
  },
  {
   "cell_type": "code",
   "execution_count": null,
   "metadata": {},
   "outputs": [],
   "source": [
    "plot_mean_rewards(ts, 100, [:SimplePPL, :Softmax, :Simple, :Medium, :None], dqn, 5, 300, 3400)\n"
   ]
  },
  {
   "cell_type": "code",
   "execution_count": null,
   "metadata": {},
   "outputs": [],
   "source": [
    "# mean_rewards = plot_mean_rewards(ts, 100)\n",
    "mean_rewards = plot_mean_rewards(ts, 100, [:SimplePPL, :Softmax, :Simple, :Medium, :None], dqn_1M, 5, 300)\n"
   ]
  },
  {
   "cell_type": "code",
   "execution_count": null,
   "metadata": {},
   "outputs": [],
   "source": [
    "plot_mean_rewards(ts, 100, [:SimplePPL, :Softmax, :Simple, :Medium, :None], dqn_5000, 5, 400, 3500)"
   ]
  },
  {
   "cell_type": "code",
   "execution_count": null,
   "metadata": {},
   "outputs": [],
   "source": [
    "mean_rewards_35000 = plot_mean_rewards(ts, 100, [:SimplePPL, :Softmax, :Simple, :Medium, :None], dqn_35000, 5, 400, 3500)"
   ]
  },
  {
   "cell_type": "code",
   "execution_count": null,
   "metadata": {},
   "outputs": [],
   "source": [
    "ts_every = Dict(\n",
    "    :Simple => [sepsis_gym.DirThompsonSampling.load_json(\"json/dirichlet/ts/Simple-every-$i.json\") for i in 1:3],\n",
    "    :Medium => [sepsis_gym.DirThompsonSampling.load_json(\"json/dirichlet/ts/Medium-every-$i.json\") for i in 1:3],\n",
    "    :Softmax => [load_jld(\"data/mcmc/runs/SoftmaxPPL-every-$i.jld\")  for i in 1:3],\n",
    "    :SimplePPL => [load_jld(\"data/mcmc/runs/SimplePPL-every-$i.jld\")  for i in 1:3]\n",
    ")"
   ]
  },
  {
   "cell_type": "code",
   "execution_count": null,
   "metadata": {},
   "outputs": [],
   "source": [
    "plot_mean_rewards(ts_every, 1, [:SimplePPL, :Softmax, :Simple, :Medium], dqn_5000, 20, 20, 500)\n"
   ]
  },
  {
   "cell_type": "code",
   "execution_count": null,
   "metadata": {},
   "outputs": [],
   "source": [
    "mean_rewards_every = plot_mean_rewards(ts_every, 1, [:SimplePPL, :Softmax, :Simple, :Medium], dqn_5000, 20, 20)\n"
   ]
  },
  {
   "cell_type": "code",
   "execution_count": null,
   "metadata": {},
   "outputs": [],
   "source": [
    "plot_mean_rewards(ts_every, 4, [ :Softmax :Medium], dqn, 10, 300)\n"
   ]
  },
  {
   "cell_type": "code",
   "execution_count": null,
   "metadata": {},
   "outputs": [],
   "source": [
    "type_labels = Dict(\n",
    "    :Softmax => \"\\\\mathsf{SoftmaxPPL}\",\n",
    "    :None => \"\\\\mathsf{FullDBN}\",\n",
    "    :Medium => \"\\\\mathsf{MediumDBN}\",\n",
    "    :DQN => \"\\\\mathsf{DQN}\",\n",
    "    :SmoothedDQN => \"\\\\mathsf{DQN}\",\n",
    "    :Simple => \"\\\\mathsf{SimpleDBN}\",\n",
    "    :SimplePPL => \"\\\\mathsf{SimplePPL}\"\n",
    ")"
   ]
  },
  {
   "cell_type": "code",
   "execution_count": null,
   "metadata": {},
   "outputs": [],
   "source": [
    "function generate_latex_table(cumsums, checkpoints, type_labels, types)\n",
    "    table = \"\\\\begin{tabular}{|l|\" * \"r|\"^length(checkpoints) * \"}\\n\\\\hline\\n\"\n",
    "    table *= \" & \" * join([\"\\$\" * string(ch) * \"\\$\" for ch in checkpoints], \" & \") * \" \\\\\\\\ \\\\hline\\n\"\n",
    "\n",
    "    # Collect all column values to compute min and max later\n",
    "    column_values = [Float64[] for _ in checkpoints]\n",
    "\n",
    "    for (_, values) in cumsums\n",
    "        for (j, checkpoint) in enumerate(checkpoints)\n",
    "            if checkpoint <= length(values)\n",
    "                push!(column_values[j], round(values[checkpoint], digits=2))\n",
    "            else\n",
    "                push!(column_values[j], NaN)\n",
    "            end\n",
    "        end\n",
    "    end\n",
    "\n",
    "    # Identify min and max for each column\n",
    "    column_mins = [isempty(col[.!isnan.(col)]) ? NaN : minimum(col[.!isnan.(col)]) for col in column_values]\n",
    "    column_maxs = [isempty(col[.!isnan.(col)]) ? NaN : maximum(col[.!isnan.(col)]) for col in column_values]\n",
    "\n",
    "\n",
    "    for key in types\n",
    "        label = type_labels[key]\n",
    "        # Generate row data, only include values where checkpoints are valid\n",
    "        row_data = []\n",
    "        for (j, checkpoint) in enumerate(checkpoints)\n",
    "            if checkpoint <= length(cumsums[key])\n",
    "                value = round(cumsums[key][checkpoint], digits=2)\n",
    "                if value == column_mins[j]\n",
    "                    push!(row_data, \"\\\\color{red}{\\$\" * string(value) * \"\\$}\")\n",
    "                elseif value == column_maxs[j]\n",
    "                    push!(row_data, \"\\\\color{blue}{\\$\" * string(value) * \"\\$}\")\n",
    "                else\n",
    "                    push!(row_data, \"\\$\" * string(value) * \"\\$\")\n",
    "                end\n",
    "            else\n",
    "                push!(row_data, \"-\")\n",
    "            end\n",
    "        end\n",
    "        table *= \"\\$\" * label * \"\\$ & \" * join(row_data, \" & \") * \" \\\\\\\\ \\n\"\n",
    "    end\n",
    "\n",
    "    table *= \"\\\\hline \\n\\\\end{tabular}\\n\"\n",
    "    return table\n",
    "end\n"
   ]
  },
  {
   "cell_type": "code",
   "execution_count": null,
   "metadata": {},
   "outputs": [],
   "source": [
    "cumsums = Dict(type => accumulate(.+, mean_rewards_35000[type]) for type in keys(mean_rewards_35000))"
   ]
  },
  {
   "cell_type": "code",
   "execution_count": null,
   "metadata": {},
   "outputs": [],
   "source": [
    "mean_rewards_every"
   ]
  },
  {
   "cell_type": "code",
   "execution_count": null,
   "metadata": {},
   "outputs": [],
   "source": [
    "cumsums_every = Dict(type => accumulate(.+, mean_rewards_every[type]) for type in keys(mean_rewards_every))\n"
   ]
  },
  {
   "cell_type": "code",
   "execution_count": null,
   "metadata": {},
   "outputs": [],
   "source": [
    "print(generate_latex_table(cumsums, [10,100,150,400,1000,3000], type_labels, [:SimplePPL, :Softmax, :Simple, :Medium, :None, :DQN]))"
   ]
  },
  {
   "cell_type": "code",
   "execution_count": null,
   "metadata": {},
   "outputs": [],
   "source": [
    "print(generate_latex_table(cumsums_every, [10,100, 150, 400], type_labels, [:SimplePPL, :Softmax, :Simple, :Medium, :DQN]))\n"
   ]
  },
  {
   "cell_type": "code",
   "execution_count": null,
   "metadata": {},
   "outputs": [],
   "source": [
    "mean_rewards_every"
   ]
  },
  {
   "cell_type": "code",
   "execution_count": null,
   "metadata": {},
   "outputs": [],
   "source": [
    "function calculate_and_generate_sample_efficiency_table(mean_rewards, thresholds, types)\n",
    "    # Calculate sample efficiency\n",
    "    sample_efficiency = Dict{Symbol, Dict{Float64, Int}}()\n",
    "    \n",
    "    for (type, rewards) in mean_rewards\n",
    "        type_efficiency = Dict{Float64, Int}()\n",
    "\n",
    "        for threshold in thresholds\n",
    "            # Find the first index where the cumulative reward reaches or exceeds the threshold\n",
    "            index = findfirst(x -> x >= threshold, rewards)\n",
    "\n",
    "            if isnothing(index)\n",
    "                continue\n",
    "            else\n",
    "                type_efficiency[threshold] = index\n",
    "            end\n",
    "        end\n",
    "\n",
    "        sample_efficiency[type] = type_efficiency\n",
    "    end\n",
    "\n",
    "    # Generate LaTeX table\n",
    "    table = \"\\\\begin{tabular}{|l|\" * \"r|\"^length(thresholds) * \"}\\n\\\\hline\\n\"\n",
    "    table *= \" & \" * join([\"\\$\" * string(th) * \"\\$\" for th in thresholds], \" & \") * \" \\\\\\\\ \\\\hline\\n\"\n",
    "\n",
    "    # Collect all column values to compute min and max later\n",
    "    column_values = [Float64[] for _ in thresholds]\n",
    "\n",
    "    for (_, values) in sample_efficiency\n",
    "        for (j, threshold) in enumerate(thresholds)\n",
    "            if haskey(values, threshold)\n",
    "                push!(column_values[j], values[threshold])\n",
    "            else\n",
    "                push!(column_values[j], NaN)\n",
    "            end\n",
    "        end\n",
    "    end\n",
    "\n",
    "    # Identify min and max for each column\n",
    "    column_mins = [isempty(col[.!isnan.(col)]) ? NaN : minimum(col[.!isnan.(col)]) for col in column_values]\n",
    "    column_maxs = [isempty(col[.!isnan.(col)]) ? NaN : maximum(col[.!isnan.(col)]) for col in column_values]\n",
    "\n",
    "    # Generate table rows\n",
    "    for key in types\n",
    "        label = type_labels[key]\n",
    "        row_data = []\n",
    "        for (j, threshold) in enumerate(thresholds)\n",
    "            if haskey(sample_efficiency[key], threshold)\n",
    "                value = sample_efficiency[key][threshold]\n",
    "                if value == column_mins[j]\n",
    "                    push!(row_data, \"\\\\color{blue}{\\$\" * string(value) * \"\\$}\")\n",
    "                elseif value == column_maxs[j]\n",
    "                    push!(row_data, \"\\\\color{red}{\\$\" * string(value) * \"\\$}\")\n",
    "                else\n",
    "                    push!(row_data, \"\\$\" * string(value) * \"\\$\")\n",
    "                end\n",
    "            else\n",
    "                push!(row_data, \"-\")\n",
    "            end\n",
    "        end\n",
    "        table *= \"\\$\" * label * \"\\$ & \" * join(row_data, \" & \") * \" \\\\\\\\ \\n\"\n",
    "    end\n",
    "\n",
    "    table *= \"\\\\hline \\\\end{tabular}\\n\"\n",
    "    return table\n",
    "end\n"
   ]
  },
  {
   "cell_type": "code",
   "execution_count": null,
   "metadata": {},
   "outputs": [],
   "source": [
    "\n",
    "thresholds = [-0.6, -0.5, -0.4, -0.3, -0.2, -0.1]\n",
    "\n",
    "latex_table = calculate_and_generate_sample_efficiency_table(mean_rewards_35000, thresholds, [:SimplePPL, :Softmax, :Simple, :Medium, :None, :DQN])\n",
    "println(latex_table)\n"
   ]
  },
  {
   "cell_type": "code",
   "execution_count": null,
   "metadata": {},
   "outputs": [],
   "source": [
    "\n",
    "latex_table = calculate_and_generate_sample_efficiency_table(mean_rewards_every, thresholds, [:SimplePPL, :Softmax, :Simple, :Medium, :DQN])\n",
    "println(latex_table)\n"
   ]
  },
  {
   "cell_type": "code",
   "execution_count": null,
   "metadata": {},
   "outputs": [],
   "source": [
    "mean_rewards[:SmoothedDQN]\n"
   ]
  },
  {
   "cell_type": "code",
   "execution_count": null,
   "metadata": {},
   "outputs": [],
   "source": [
    "mean_rewards_every[:SmoothedDQN]"
   ]
  },
  {
   "cell_type": "code",
   "execution_count": null,
   "metadata": {},
   "outputs": [],
   "source": [
    "function convergence(mean_rewards, checkpoints, types, last_n)\n",
    "    # Calculate asymptotic mean rewards and convergence speeds for each checkpoint\n",
    "    asymptotic_rewards = Dict{Symbol, Float64}()\n",
    "    convergence_speeds = Dict{Symbol, Dict{Float64, Int}}()\n",
    "    lengths = Dict{Symbol, Int}()\n",
    "\n",
    "    for (type, rewards) in mean_rewards\n",
    "        # Store the length of the rewards array\n",
    "        lengths[type] = length(rewards)\n",
    "\n",
    "        # Asymptotic mean reward\n",
    "        if !isempty(rewards)\n",
    "            asymptotic_rewards[type] = mean(rewards[end-last_n:end])\n",
    "        else\n",
    "            asymptotic_rewards[type] = NaN\n",
    "        end\n",
    "\n",
    "        # Convergence speed for each checkpoint\n",
    "        convergence_speeds[type] = Dict()\n",
    "        for checkpoint in checkpoints\n",
    "            min_reward = minimum(rewards)\n",
    "            max_reward = maximum(rewards)\n",
    "            reward_range = max_reward - min_reward\n",
    "\n",
    "            if reward_range == 0\n",
    "                convergence_speeds[type][checkpoint] = -1  # No valid range for convergence\n",
    "                continue\n",
    "            end\n",
    "\n",
    "            threshold_value = min_reward + checkpoint * reward_range\n",
    "            index = findfirst(x -> x >= threshold_value, rewards)\n",
    "            if isnothing(index)\n",
    "                convergence_speeds[type][checkpoint] = -1  # Indicate no convergence\n",
    "            else\n",
    "                convergence_speeds[type][checkpoint] = index\n",
    "            end\n",
    "        end\n",
    "    end\n",
    "\n",
    "    # Generate LaTeX table\n",
    "    table = \"\\\\begin{tabular}{|l|\" * repeat(\"r|\", length(checkpoints) + 2) * \"}\\\\hline\\n\"\n",
    "    table *= \" & Asympt. Rew. \" * join([\"& $(Int(round(cp*100, digits=0)))\\\\%\" for cp in checkpoints]) * \" & Nr. Ep. \\\\\\\\ \\\\hline\\n\"\n",
    "\n",
    "    # Identify min and max for highlighting across checkpoints\n",
    "    all_asymptotic_values = collect(values(asymptotic_rewards))\n",
    "    valid_asymptotic_values = all_asymptotic_values[.!isnan.(all_asymptotic_values)]\n",
    "    min_asymptotic = isempty(valid_asymptotic_values) ? NaN : minimum(valid_asymptotic_values)\n",
    "    max_asymptotic = isempty(valid_asymptotic_values) ? NaN : maximum(valid_asymptotic_values)\n",
    "\n",
    "    for type in types\n",
    "        label = type_labels[type]\n",
    "        asymptotic = asymptotic_rewards[type]\n",
    "        length = lengths[type]\n",
    "\n",
    "        # Asymptotic mean reward formatting\n",
    "        if isnan(asymptotic)\n",
    "            asymptotic_cell = \"-\"\n",
    "        elseif asymptotic == min_asymptotic\n",
    "            asymptotic_cell = \"\\\\color{red}{\\$\" * string(round(asymptotic, digits=2)) * \"\\$}\"\n",
    "        elseif asymptotic == max_asymptotic\n",
    "            asymptotic_cell = \"\\\\color{blue}{\\$\" * string(round(asymptotic, digits=2)) * \"\\$}\"\n",
    "        else\n",
    "            asymptotic_cell = \"\\$\" * string(round(asymptotic, digits=2)) * \"\\$\"\n",
    "        end\n",
    "\n",
    "        # Convergence speed formatting for each checkpoint\n",
    "        convergence_cells = []\n",
    "        for checkpoint in checkpoints\n",
    "            convergence = convergence_speeds[type][checkpoint]\n",
    "            all_convergence_values = [convergence_speeds[t][checkpoint] for t in types if convergence_speeds[t][checkpoint] >= 0]\n",
    "            min_convergence = isempty(all_convergence_values) ? NaN : minimum(all_convergence_values)\n",
    "            max_convergence = isempty(all_convergence_values) ? NaN : maximum(all_convergence_values)\n",
    "\n",
    "            if convergence == -1\n",
    "                push!(convergence_cells, \"-\")\n",
    "            elseif convergence == min_convergence\n",
    "                push!(convergence_cells, \"\\\\color{blue}{\\$\" * string(convergence) * \"\\$}\")\n",
    "            elseif convergence == max_convergence\n",
    "                push!(convergence_cells, \"\\\\color{red}{\\$\" * string(convergence) * \"\\$}\")\n",
    "            else\n",
    "                push!(convergence_cells, \"\\$\" * string(convergence) * \"\\$\")\n",
    "            end\n",
    "        end\n",
    "\n",
    "        table *= \"\\$\" * label * \"\\$ & \" * asymptotic_cell * \" & \" * join(convergence_cells, \" & \") * \" & \\$\" * string(length) * \"\\$ \\\\\\\\ \\n\"\n",
    "    end\n",
    "\n",
    "    table *= \"\\\\hline\\\\end{tabular}\\n\"\n",
    "    return table\n",
    "end\n"
   ]
  },
  {
   "cell_type": "code",
   "execution_count": null,
   "metadata": {},
   "outputs": [],
   "source": [
    "\n",
    "latex_table = convergence(mean_rewards, [0.6,0.7,0.8,0.9,0.99], [:SimplePPL, :Softmax, :Simple, :Medium, :None, :SmoothedDQN], 10)\n",
    "println(latex_table)\n"
   ]
  },
  {
   "cell_type": "code",
   "execution_count": null,
   "metadata": {},
   "outputs": [],
   "source": [
    "\n",
    "latex_table = convergence(mean_rewards_35000, [0.6,0.7,0.8,0.9,0.99], [:SimplePPL, :Softmax, :Simple, :Medium, :None, :SmoothedDQN], 10)\n",
    "println(latex_table)\n"
   ]
  },
  {
   "cell_type": "code",
   "execution_count": null,
   "metadata": {},
   "outputs": [],
   "source": [
    "\n",
    "latex_table = convergence(mean_rewards_every, [0.6,0.7,0.8,0.9,0.99], [:SimplePPL, :Softmax, :Simple, :Medium, :SmoothedDQN], 10)\n",
    "println(latex_table)"
   ]
  },
  {
   "cell_type": "code",
   "execution_count": null,
   "metadata": {},
   "outputs": [],
   "source": [
    "medium = ts[:Medium][1]"
   ]
  },
  {
   "cell_type": "code",
   "execution_count": null,
   "metadata": {},
   "outputs": [],
   "source": [
    "exploration_data = Dict(vs=> [] for vs in [\"HR\", \"BP\", \"O2\", \"GLU\"])\n",
    "iterations = collect(keys(medium.models))\n",
    "inp_vals = [sepsis_gym.HR_STATES, sepsis_gym.BP_STATES, sepsis_gym.O2_STATES, sepsis_gym.GLU_STATES]\n",
    "values = [[sepsis_gym.Level.LOW.value, sepsis_gym.Level.NORMAL.value, sepsis_gym.Level.HIGH.value],\n",
    "          [sepsis_gym.Level.LOW.value, sepsis_gym.Level.NORMAL.value, sepsis_gym.Level.HIGH.value],\n",
    "            [sepsis_gym.Level.LOW.value, sepsis_gym.Level.NORMAL.value,],\n",
    "            [sepsis_gym.Level.SUPER_LOW.value, sepsis_gym.Level.LOW.value, sepsis_gym.Level.NORMAL.value, sepsis_gym.Level.HIGH.value, sepsis_gym.Level.SUPER_HIGH.value]]\n",
    "\n",
    "for iteration in iterations\n",
    "    for (i, vs) in enumerate([\"HR\", \"BP\", \"O2\", \"GLU\"])\n",
    "        state_vals = values[i]\n",
    "        exploration_per_input = Dict()\n",
    "        for state in inp_vals[i]\n",
    "            for action in sepsis_gym.ACTIONS\n",
    "                exploration_per_input[(state, action)] = sum([medium.models[iteration][i][(state, action, next_s)] for next_s in state_vals]) / length(state_vals)\n",
    "            end\n",
    "        end\n",
    "\n",
    "        flat = collect(values(exploration_per_input))\n",
    "        # incorporate sums\n",
    "        explored_percentage = length(filter(x -> x > 1, flat)) / length(flat) * 100\n",
    "        push!(exploration_data[vs], explored_percentage)\n",
    "    end\n",
    "end\n",
    "\n",
    "\n",
    "\n",
    "# plt.figure(figsize=(7, 4))\n",
    "\n",
    "# for vs in [\"HR\", \"BP\", \"O2\", \"GLU\"]:\n",
    "#     plt.plot(iterations, exploration_data[vs], label=f\"{vs} Count Exploration %\")\n",
    "\n",
    "# plt.xlabel(\"Nr Episodes in History\")\n",
    "# plt.ylabel(\"Exploration Percentage (%)\")\n",
    "# plt.title(\"Exploration Percentage Growth Over Nr Episodes in History\")\n",
    "# plt.legend()\n",
    "# plt.xscale(\"log\", base=10)\n",
    "# plt.grid(True)\n",
    "\n",
    "# plt.show()\n"
   ]
  },
  {
   "cell_type": "code",
   "execution_count": null,
   "metadata": {},
   "outputs": [],
   "source": []
  }
 ],
 "metadata": {
  "kernelspec": {
   "display_name": "Julia 1.10.4",
   "language": "julia",
   "name": "julia-1.10"
  },
  "language_info": {
   "file_extension": ".jl",
   "mimetype": "application/julia",
   "name": "julia",
   "version": "1.10.4"
  }
 },
 "nbformat": 4,
 "nbformat_minor": 2
}
