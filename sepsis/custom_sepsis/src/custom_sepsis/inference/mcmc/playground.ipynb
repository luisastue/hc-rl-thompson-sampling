{
 "cells": [
  {
   "cell_type": "code",
   "execution_count": 1,
   "metadata": {},
   "outputs": [],
   "source": [
    "include(\"sepsis.jl\")\n",
    "include(\"sepsis_types.jl\")\n",
    "include(\"inference.jl\")\n",
    "using .Inference\n",
    "using .Sepsis\n",
    "using .SepsisTypes"
   ]
  },
  {
   "cell_type": "code",
   "execution_count": 23,
   "metadata": {},
   "outputs": [
    {
     "ename": "PyCall.PyError",
     "evalue": "PyError ($(Expr(:escape, :(ccall(#= /Users/luisastue/.julia/packages/PyCall/1gn3u/src/pyfncall.jl:43 =# @pysym(:PyObject_Call), PyPtr, (PyPtr, PyPtr, PyPtr), o, pyargsptr, kw))))) <class 'AttributeError'>\nAttributeError(\"'tuple' object has no attribute 'nond_vaso_on_bp_N_H'\")\n  File \"/Users/luisastue/julia/hc-rl-thompson-sampling/sepsis/custom_sepsis/src/custom_sepsis/sepsis_env/sepsis_gym.py\", line 167, in step\n    next_state = get_next_state(self.parameters, state, action)\n  File \"/Users/luisastue/julia/hc-rl-thompson-sampling/sepsis/custom_sepsis/src/custom_sepsis/sepsis_env/sepsis_gym.py\", line 80, in get_next_state\n    if state.bp == Level.NORMAL and np.random.rand() < env_params.nond_vaso_on_bp_N_H:\n",
     "output_type": "error",
     "traceback": [
      "PyError ($(Expr(:escape, :(ccall(#= /Users/luisastue/.julia/packages/PyCall/1gn3u/src/pyfncall.jl:43 =# @pysym(:PyObject_Call), PyPtr, (PyPtr, PyPtr, PyPtr), o, pyargsptr, kw))))) <class 'AttributeError'>\n",
      "AttributeError(\"'tuple' object has no attribute 'nond_vaso_on_bp_N_H'\")\n",
      "  File \"/Users/luisastue/julia/hc-rl-thompson-sampling/sepsis/custom_sepsis/src/custom_sepsis/sepsis_env/sepsis_gym.py\", line 167, in step\n",
      "    next_state = get_next_state(self.parameters, state, action)\n",
      "  File \"/Users/luisastue/julia/hc-rl-thompson-sampling/sepsis/custom_sepsis/src/custom_sepsis/sepsis_env/sepsis_gym.py\", line 80, in get_next_state\n",
      "    if state.bp == Level.NORMAL and np.random.rand() < env_params.nond_vaso_on_bp_N_H:\n",
      "\n",
      "\n",
      "Stacktrace:\n",
      "  [1] pyerr_check\n",
      "    @ ~/.julia/packages/PyCall/1gn3u/src/exception.jl:75 [inlined]\n",
      "  [2] pyerr_check\n",
      "    @ ~/.julia/packages/PyCall/1gn3u/src/exception.jl:79 [inlined]\n",
      "  [3] _handle_error(msg::String)\n",
      "    @ PyCall ~/.julia/packages/PyCall/1gn3u/src/exception.jl:96\n",
      "  [4] macro expansion\n",
      "    @ ~/.julia/packages/PyCall/1gn3u/src/exception.jl:110 [inlined]\n",
      "  [5] #107\n",
      "    @ ~/.julia/packages/PyCall/1gn3u/src/pyfncall.jl:43 [inlined]\n",
      "  [6] disable_sigint\n",
      "    @ ./c.jl:473 [inlined]\n",
      "  [7] __pycall!\n",
      "    @ ~/.julia/packages/PyCall/1gn3u/src/pyfncall.jl:42 [inlined]\n",
      "  [8] _pycall!(ret::PyObject, o::PyObject, args::Tuple{Int64}, nargs::Int64, kw::Ptr{Nothing})\n",
      "    @ PyCall ~/.julia/packages/PyCall/1gn3u/src/pyfncall.jl:29\n",
      "  [9] _pycall!\n",
      "    @ ~/.julia/packages/PyCall/1gn3u/src/pyfncall.jl:11 [inlined]\n",
      " [10] (::PyObject)(args::Int64)\n",
      "    @ PyCall ~/.julia/packages/PyCall/1gn3u/src/pyfncall.jl:86\n",
      " [11] top-level scope\n",
      "    @ ~/julia/hc-rl-thompson-sampling/sepsis/custom_sepsis/src/custom_sepsis/inference/mcmc/jl_notebook_cell_df34fa98e69747e1a8f8a730347b8e2f_W1sZmlsZQ==.jl:9"
     ]
    }
   ],
   "source": [
    "using PyCall;\n",
    "\n",
    "\n",
    "sepsis_gym = pyimport(\"custom_sepsis\")\n",
    "\n",
    "policy = sepsis_gym.random_policy()\n",
    "sepsis_gym.run_episode(policy).rewards\n",
    "\n",
    "sepsis_gym.SepsisEnv(sepsis_gym.TRUE_ENV_PARAMS).step(1)"
   ]
  },
  {
   "cell_type": "code",
   "execution_count": null,
   "metadata": {},
   "outputs": [],
   "source": [
    "steps = 1000\n",
    "\n",
    "gym.make()\n",
    "\n",
    "traces = [trace]\n",
    "\n",
    "for i in 1:steps\n",
    "    trace = block_update(trace, k)\n",
    "    push!(traces, trace)\n",
    "end\n",
    "\n",
    "plot_traces(traces)"
   ]
  }
 ],
 "metadata": {
  "kernelspec": {
   "display_name": "Julia 1.10.6",
   "language": "julia",
   "name": "julia-1.10"
  },
  "language_info": {
   "file_extension": ".jl",
   "mimetype": "application/julia",
   "name": "julia",
   "version": "1.10.6"
  }
 },
 "nbformat": 4,
 "nbformat_minor": 2
}
