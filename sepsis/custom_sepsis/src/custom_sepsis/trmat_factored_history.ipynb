{
 "cells": [
  {
   "cell_type": "code",
   "execution_count": 1,
   "metadata": {},
   "outputs": [],
   "source": [
    "import matplotlib.pyplot as plt\n",
    "import numpy as np\n",
    "from custom_sepsis import *"
   ]
  },
  {
   "cell_type": "code",
   "execution_count": 2,
   "metadata": {},
   "outputs": [],
   "source": [
    "env = TrModelEnv(transition_model_full())\n",
    "# dqn_TRMod_training = train_dqn(env, 100_000, \"Transition_Model_100K\")\n"
   ]
  },
  {
   "cell_type": "code",
   "execution_count": 3,
   "metadata": {},
   "outputs": [],
   "source": [
    "# dqn_TRMod_training.evaluate_policy(100000)"
   ]
  },
  {
   "cell_type": "markdown",
   "metadata": {},
   "source": [
    "## add history"
   ]
  },
  {
   "cell_type": "code",
   "execution_count": 4,
   "metadata": {},
   "outputs": [
    {
     "data": {
      "text/plain": [
       "-0.2027"
      ]
     },
     "execution_count": 4,
     "metadata": {},
     "output_type": "execute_result"
    }
   ],
   "source": [
    "dqn_training = Training.load(\"data/trainings/DQN-Test_object.pkl\")\n",
    "dqn_policy = dqn_training.get_policy()\n",
    "dqn_training.evaluate_policy(10000)"
   ]
  },
  {
   "cell_type": "code",
   "execution_count": 81,
   "metadata": {},
   "outputs": [],
   "source": [
    "history = [run_episode(random_policy()) for _ in range(100)]"
   ]
  },
  {
   "cell_type": "code",
   "execution_count": 82,
   "metadata": {},
   "outputs": [],
   "source": [
    "hr_counts = init_hr_counts()\n",
    "bp_counts = init_bp_counts()\n",
    "o2_counts = init_o2_counts()\n",
    "glu_counts = init_glu_counts()\n",
    "state_counts = hr_counts, bp_counts, o2_counts, glu_counts\n",
    "for episode in history:\n",
    "    state_counts = update_factored_counts(episode, *state_counts)"
   ]
  },
  {
   "cell_type": "code",
   "execution_count": 83,
   "metadata": {},
   "outputs": [],
   "source": [
    "env = TrModelEnv(transition_model_factored(*state_counts))\n",
    "trmod_hist = train_dqn(env=env, nr_iter=100000, name=\"Transition_Model_100_History_100000_train\")\n",
    "# trmod_hist = Training.load(\"data/trainings/DQN-Transition_Model_History_of_100000_object.pkl\")"
   ]
  },
  {
   "cell_type": "code",
   "execution_count": 34,
   "metadata": {},
   "outputs": [
    {
     "data": {
      "text/plain": [
       "-0.2609"
      ]
     },
     "execution_count": 34,
     "metadata": {},
     "output_type": "execute_result"
    }
   ],
   "source": [
    "trmod_hist.evaluate_policy(10000)"
   ]
  },
  {
   "cell_type": "code",
   "execution_count": 84,
   "metadata": {},
   "outputs": [
    {
     "data": {
      "text/plain": [
       "-0.69243"
      ]
     },
     "execution_count": 84,
     "metadata": {},
     "output_type": "execute_result"
    }
   ],
   "source": [
    "dqn_training = train_dqn(true_env, 100, \"test\")\n",
    "dqn_training.evaluate_policy(100000)"
   ]
  },
  {
   "cell_type": "code",
   "execution_count": 37,
   "metadata": {},
   "outputs": [],
   "source": [
    "history_1000 = [run_episode(random_policy()) for _ in range(1000)]\n",
    "hr_counts = init_hr_counts()\n",
    "bp_counts = init_bp_counts()\n",
    "o2_counts = init_o2_counts()\n",
    "glu_counts = init_glu_counts()\n",
    "state_counts = hr_counts, bp_counts, o2_counts, glu_counts\n",
    "for episode in history_1000:\n",
    "    state_counts = update_factored_counts(episode, *state_counts)\n",
    "    \n",
    "env = TrModelEnv(transition_model_factored(*state_counts))\n",
    "trmod_hist_1000 = train_dqn(env=env, nr_iter=100000, name=\"Transition_Model_1000_History_100000_train\")"
   ]
  },
  {
   "cell_type": "code",
   "execution_count": 59,
   "metadata": {},
   "outputs": [
    {
     "data": {
      "text/plain": [
       "-0.18"
      ]
     },
     "execution_count": 59,
     "metadata": {},
     "output_type": "execute_result"
    }
   ],
   "source": [
    "trmod_hist_1000.evaluate_policy(10000)\n"
   ]
  },
  {
   "cell_type": "code",
   "execution_count": null,
   "metadata": {},
   "outputs": [
    {
     "data": {
      "text/plain": [
       "-0.43129"
      ]
     },
     "execution_count": 78,
     "metadata": {},
     "output_type": "execute_result"
    }
   ],
   "source": [
    "dqn_training = train_dqn(true_env, 1000, \"test\")\n",
    "dqn_training.evaluate_policy(100000)"
   ]
  }
 ],
 "metadata": {
  "kernelspec": {
   "display_name": "base",
   "language": "python",
   "name": "python3"
  },
  "language_info": {
   "codemirror_mode": {
    "name": "ipython",
    "version": 3
   },
   "file_extension": ".py",
   "mimetype": "text/x-python",
   "name": "python",
   "nbconvert_exporter": "python",
   "pygments_lexer": "ipython3",
   "version": "3.10.10"
  }
 },
 "nbformat": 4,
 "nbformat_minor": 2
}
