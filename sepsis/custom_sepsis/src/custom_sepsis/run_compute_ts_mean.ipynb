{
 "cells": [
  {
   "cell_type": "code",
   "execution_count": null,
   "metadata": {},
   "outputs": [],
   "source": [
    "include(\"main.jl\")\n",
    "using PyCall\n",
    "using CairoMakie\n",
    "sepsis_gym = pyimport(\"custom_sepsis\")\n",
    "using Statistics\n"
   ]
  },
  {
   "cell_type": "code",
   "execution_count": null,
   "metadata": {},
   "outputs": [],
   "source": [
    "struct MeansType\n",
    "    individual_runs::Vector{Vector{Float64}}\n",
    "    mean_rewards::Vector{Float64}\n",
    "    smoothed_mean::Vector{Float64}\n",
    "    smoothed_std::Vector{Float64}\n",
    "    keys_of_smoothed::Vector{Float64}\n",
    "end\n",
    "function calculate_mean_rewards(results, window_size)\n",
    "    rews = Dict()\n",
    "    means = Dict()\n",
    "    for (type, run) in results\n",
    "        all_keys = [sort(collect(keys(model.mean_rewards))) for model in run]\n",
    "        min_keys = minimum(length.(all_keys))\n",
    "        ks = all_keys[1][1:min_keys]\n",
    "        filled_rewards = []\n",
    "        all_rewards = []\n",
    "        rews = []\n",
    "        for model in run\n",
    "            rewards = [model.mean_rewards[1]]\n",
    "            for i in 2:min_keys\n",
    "                key = all_keys[1][i]\n",
    "                mult_factor = key - all_keys[1][i-1]\n",
    "                push!(rewards, fill(model.mean_rewards[key], mult_factor)...)\n",
    "            end\n",
    "            push!(all_rewards, [model.mean_rewards[k] for k in ks])\n",
    "            push!(filled_rewards, rewards)\n",
    "            push!(rews, rewards)\n",
    "        end\n",
    "        mean_rewards = mean(all_rewards)\n",
    "        std_rewards = std(all_rewards)\n",
    "        means[type] = MeansType( rews,  mean(filled_rewards),  moving_avg(mean_rewards, window_size),  Float64.(moving_avg(std_rewards, window_size)),  Float64.(ks))\n",
    "    end\n",
    "    return means\n",
    "end"
   ]
  },
  {
   "cell_type": "code",
   "execution_count": null,
   "metadata": {},
   "outputs": [],
   "source": [
    "ts = Dict(\n",
    "    :Simple100 => [sepsis_gym.DirThompsonSampling.load_json(\"json/dirichlet/ts/Simple-$i.json\") for i in 0:2],\n",
    "    :Medium100 => [sepsis_gym.DirThompsonSampling.load_json(\"json/dirichlet/ts/Medium-$i.json\") for i in 0:2],\n",
    "    :None100 => [sepsis_gym.DirThompsonSampling.load_json(\"json/dirichlet/ts/None-$i.json\") for i in 0:2],\n",
    "    :Softmax100 => [load_jld(\"data/mcmc/runs/SoftmaxPPL-$i.jld\")  for i in 1:3],\n",
    "    :SimplePPL100 => [load_jld(\"data/mcmc/runs/SimplePPL-$i.jld\")  for i in 1:3],\n",
    "    :Simple1 => [sepsis_gym.DirThompsonSampling.load_json(\"json/dirichlet/ts/Simple-every-$i.json\") for i in 1:3],\n",
    "    :Medium1 => [sepsis_gym.DirThompsonSampling.load_json(\"json/dirichlet/ts/Medium-every-$i.json\") for i in 1:3],\n",
    "    :Softmax1 => [load_jld(\"data/mcmc/runs/SoftmaxPPL-every-$i.jld\")  for i in 1:3],\n",
    "    :SimplePPL1 => [load_jld(\"data/mcmc/runs/SimplePPL-every-$i.jld\")  for i in 1:3],\n",
    ")"
   ]
  },
  {
   "cell_type": "code",
   "execution_count": null,
   "metadata": {},
   "outputs": [],
   "source": [
    "means = calculate_mean_rewards(ts, 5)"
   ]
  },
  {
   "cell_type": "code",
   "execution_count": null,
   "metadata": {},
   "outputs": [],
   "source": [
    "using JSON3\n",
    "\n",
    "function save_means_to_json(means, directory)\n",
    "    for (key, value) in means\n",
    "        file_path = joinpath(directory, \"$(key).json\")\n",
    "        json_data = Dict(\n",
    "            \"individual_runs\" => value.individual_runs,\n",
    "            \"mean_rewards\" => value.mean_rewards,\n",
    "            \"smoothed_mean\" => value.smoothed_mean,\n",
    "            \"smoothed_std\" => value.smoothed_std,\n",
    "            \"keys_of_smoothed\" => value.keys_of_smoothed,\n",
    "            \"name\"=> key,\n",
    "            \"info\" => Dict(),\n",
    "        )\n",
    "        JSON3.write(file_path, json_data)\n",
    "    end\n",
    "end\n",
    "\n",
    "# Save means to JSON files in the \"means_json\" directory\n",
    "save_means_to_json(means, \"json/ts/\")"
   ]
  }
 ],
 "metadata": {
  "kernelspec": {
   "display_name": "Julia 1.10.4",
   "language": "julia",
   "name": "julia-1.10"
  },
  "language_info": {
   "file_extension": ".jl",
   "mimetype": "application/julia",
   "name": "julia",
   "version": "1.10.4"
  }
 },
 "nbformat": 4,
 "nbformat_minor": 2
}
