{
 "cells": [
  {
   "cell_type": "code",
   "execution_count": 1,
   "metadata": {},
   "outputs": [
    {
     "name": "stderr",
     "output_type": "stream",
     "text": [
      "/Users/luisastue/miniconda3/lib/python3.10/site-packages/pandas/core/arrays/masked.py:60: UserWarning: Pandas requires version '1.3.6' or newer of 'bottleneck' (version '1.3.5' currently installed).\n",
      "  from pandas.core import (\n"
     ]
    }
   ],
   "source": [
    "include(\"main.jl\")\n",
    "using PyCall\n",
    "using CairoMakie\n",
    "sepsis_gym = pyimport(\"custom_sepsis\")\n",
    "using Statistics\n"
   ]
  },
  {
   "cell_type": "code",
   "execution_count": 2,
   "metadata": {},
   "outputs": [
    {
     "data": {
      "text/plain": [
       "calculate_mean_rewards (generic function with 1 method)"
      ]
     },
     "execution_count": 2,
     "metadata": {},
     "output_type": "execute_result"
    }
   ],
   "source": [
    "struct MeansType\n",
    "    individual_runs::Vector{Vector{Float64}}\n",
    "    mean_rewards::Vector{Float64}\n",
    "    smoothed_mean::Vector{Float64}\n",
    "    smoothed_std::Vector{Float64}\n",
    "    keys_of_smoothed::Vector{Float64}\n",
    "end\n",
    "function calculate_mean_rewards(results)\n",
    "    rews = Dict()\n",
    "    means = Dict()\n",
    "    for (type, run) in results\n",
    "        if occursin(\"100\", String(type))\n",
    "            window_size = 6\n",
    "        else \n",
    "            window_size = 20\n",
    "        end\n",
    "        all_keys = [sort(collect(keys(model.mean_rewards))) for model in run]\n",
    "        min_keys = minimum(length.(all_keys))\n",
    "        ks = all_keys[1][1:min_keys]\n",
    "        filled_rewards = []\n",
    "        all_rewards = []\n",
    "        rews = []\n",
    "        for model in run\n",
    "            rewards = [model.mean_rewards[1]]\n",
    "            for i in 2:min_keys\n",
    "                key = all_keys[1][i]\n",
    "                mult_factor = key - all_keys[1][i-1]\n",
    "                push!(rewards, fill(model.mean_rewards[key], mult_factor)...)\n",
    "            end\n",
    "            push!(all_rewards, [model.mean_rewards[k] for k in ks])\n",
    "            push!(filled_rewards, rewards)\n",
    "            push!(rews, rewards)\n",
    "        end\n",
    "        mean_rewards = mean(all_rewards)\n",
    "        std_rewards = std(all_rewards)\n",
    "        means[type] = MeansType( rews,  mean(filled_rewards),  moving_avg(mean_rewards, window_size),  Float64.(moving_avg(std_rewards, window_size)),  Float64.(ks))\n",
    "    end\n",
    "    return means\n",
    "end"
   ]
  },
  {
   "cell_type": "code",
   "execution_count": null,
   "metadata": {},
   "outputs": [
    {
     "data": {
      "text/plain": [
       "Dict{Symbol, Vector} with 9 entries:\n",
       "  :Medium1      => PyObject[PyObject <custom_sepsis.models.dirichlet.evaluate.t…\n",
       "  :Softmax1     => RunData[RunData(\"SoftmaxPPL-every-1\", :Softmax, ModelData(Dy…\n",
       "  :SimplePPL1   => RunData[RunData(\"SimplePPL-every-1\", :SimplePPL, ModelData(D…\n",
       "  :SimplePPL100 => RunData[RunData(\"SimplePPL-1\", :SimplePPL, ModelData(Dynamic…\n",
       "  :Medium100    => PyObject[PyObject <custom_sepsis.models.dirichlet.evaluate.t…\n",
       "  :Simple100    => PyObject[PyObject <custom_sepsis.models.dirichlet.evaluate.t…\n",
       "  :None100      => PyObject[PyObject <custom_sepsis.models.dirichlet.evaluate.t…\n",
       "  :Softmax100   => RunData[RunData(\"SoftmaxPPL-1\", :Softmax, ModelData(DynamicC…\n",
       "  :Simple1      => PyObject[PyObject <custom_sepsis.models.dirichlet.evaluate.t…"
      ]
     },
     "execution_count": 3,
     "metadata": {},
     "output_type": "execute_result"
    }
   ],
   "source": [
    "ts = Dict(\n",
    "    :Simple100 => [sepsis_gym.DirThompsonSampling.load_json(\"json/dbn/ts/Simple-$i.json\") for i in 0:2],\n",
    "    :Medium100 => [sepsis_gym.DirThompsonSampling.load_json(\"json/dbn/ts/Medium-$i.json\") for i in 0:2],\n",
    "    :None100 => [sepsis_gym.DirThompsonSampling.load_json(\"json/dbn/ts/None-$i.json\") for i in 0:2],\n",
    "    :None100P => [sepsis_gym.DirThompsonSampling.load_json(\"json/dbn/ts/None-small-prior-$i.json\") for i in 0:2],\n",
    "    :Softmax100 => [load_jld(\"data/mcmc/runs/SoftmaxPPL-$i.jld\")  for i in 1:3],\n",
    "    :SimplePPL100 => [load_jld(\"data/mcmc/runs/SimplePPL-$i.jld\")  for i in 1:3],\n",
    "    :Simple1 => [sepsis_gym.DirThompsonSampling.load_json(\"json/dbn/ts/Simple-every-$i.json\") for i in 1:3],\n",
    "    :Medium1 => [sepsis_gym.DirThompsonSampling.load_json(\"json/dbn/ts/Medium-every-$i.json\") for i in 1:3],\n",
    "    :Softmax1 => [load_jld(\"data/mcmc/runs/SoftmaxPPL-every-$i.jld\")  for i in 1:3],\n",
    "    :SimplePPL1 => [load_jld(\"data/mcmc/runs/SimplePPL-every-$i.jld\")  for i in 1:3],\n",
    ")"
   ]
  },
  {
   "cell_type": "code",
   "execution_count": 4,
   "metadata": {},
   "outputs": [
    {
     "data": {
      "text/plain": [
       "Dict{Any, Any} with 9 entries:\n",
       "  :Simple1      => MeansType([[-0.63441, -0.63441, -0.60263, -0.58272, -0.64829…\n",
       "  :Softmax1     => MeansType([[-0.60985, -0.75268, -0.76046, -0.83145, -0.84843…\n",
       "  :SimplePPL1   => MeansType([[-0.36839, -0.5633, -0.58331, -0.55381, -0.44809,…\n",
       "  :SimplePPL100 => MeansType([[-0.62715, -0.36589, -0.42002, -0.42002, -0.54821…\n",
       "  :Medium100    => MeansType([[-0.70404, -0.66129, -0.62742, -0.62742, -0.69871…\n",
       "  :Simple100    => MeansType([[-0.67862, -0.67333, -0.62492, -0.62492, -0.60324…\n",
       "  :Medium1      => MeansType([[-0.68342, -0.68342, -0.64269, -0.61833, -0.62749…\n",
       "  :None100      => MeansType([[-0.68426, -0.7111, -0.65799, -0.65799, -0.6539, …\n",
       "  :Softmax100   => MeansType([[-0.71519, -0.7079, -0.73134, -0.73134, -0.79105,…"
      ]
     },
     "execution_count": 4,
     "metadata": {},
     "output_type": "execute_result"
    }
   ],
   "source": [
    "means = calculate_mean_rewards(ts)"
   ]
  },
  {
   "cell_type": "code",
   "execution_count": 5,
   "metadata": {},
   "outputs": [],
   "source": [
    "using JSON3\n",
    "\n",
    "function save_means_to_json(means, directory)\n",
    "    for (key, value) in means\n",
    "        file_path = joinpath(directory, \"$(key).json\")\n",
    "        json_data = Dict(\n",
    "            \"individual_runs\" => value.individual_runs,\n",
    "            \"mean_rewards\" => value.mean_rewards,\n",
    "            \"smoothed_mean\" => value.smoothed_mean,\n",
    "            \"smoothed_std\" => value.smoothed_std,\n",
    "            \"keys_of_smoothed\" => value.keys_of_smoothed,\n",
    "            \"name\"=> key,\n",
    "            \"info\" => Dict(),\n",
    "        )\n",
    "        JSON3.write(file_path, json_data)\n",
    "    end\n",
    "end\n",
    "\n",
    "# Save means to JSON files in the \"means_json\" directory\n",
    "save_means_to_json(means, \"json/ts/\")"
   ]
  },
  {
   "cell_type": "code",
   "execution_count": null,
   "metadata": {},
   "outputs": [],
   "source": []
  }
 ],
 "metadata": {
  "kernelspec": {
   "display_name": "Julia 1.10.4",
   "language": "julia",
   "name": "julia-1.10"
  },
  "language_info": {
   "file_extension": ".jl",
   "mimetype": "application/julia",
   "name": "julia",
   "version": "1.10.4"
  }
 },
 "nbformat": 4,
 "nbformat_minor": 2
}
