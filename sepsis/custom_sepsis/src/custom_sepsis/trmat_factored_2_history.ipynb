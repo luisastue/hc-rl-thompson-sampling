{
 "cells": [
  {
   "cell_type": "code",
   "execution_count": 3,
   "metadata": {},
   "outputs": [],
   "source": [
    "import matplotlib.pyplot as plt\n",
    "import numpy as np\n",
    "from custom_sepsis import *"
   ]
  },
  {
   "cell_type": "code",
   "execution_count": 2,
   "metadata": {},
   "outputs": [],
   "source": [
    "env = TrModelEnv(transition_model_factored_2())\n",
    "# dqn_TRMod_training = train_dqn(env, 100_000, \"Transition_Model_100K\")\n"
   ]
  },
  {
   "cell_type": "code",
   "execution_count": 3,
   "metadata": {},
   "outputs": [],
   "source": [
    "# dqn_TRMod_training.evaluate_policy(100000)"
   ]
  },
  {
   "cell_type": "markdown",
   "metadata": {},
   "source": [
    "# History of 100"
   ]
  },
  {
   "cell_type": "code",
   "execution_count": 3,
   "metadata": {},
   "outputs": [],
   "source": [
    "history = [run_episode(random_policy()) for _ in range(100)]"
   ]
  },
  {
   "cell_type": "code",
   "execution_count": 4,
   "metadata": {},
   "outputs": [],
   "source": [
    "hr_counts = init_hr_counts_2()\n",
    "bp_counts = init_bp_counts_2()\n",
    "o2_counts = init_o2_counts_2()\n",
    "glu_counts = init_glu_counts_2()\n",
    "state_counts = hr_counts, bp_counts, o2_counts, glu_counts\n",
    "for episode in history:\n",
    "    state_counts = update_factored_counts_2(episode, *state_counts)"
   ]
  },
  {
   "cell_type": "code",
   "execution_count": 5,
   "metadata": {},
   "outputs": [],
   "source": [
    "env = TrModelEnv(transition_model_factored_2(*state_counts))\n",
    "trmod_hist = train_dqn(env=env, nr_iter=100000, name=\"Transition_Model_2_100_History_100000_train\")\n",
    "# trmod_hist = Training.load(\"data/trainings/DQN-Transition_Model_History_of_100000_object.pkl\")"
   ]
  },
  {
   "cell_type": "code",
   "execution_count": 6,
   "metadata": {},
   "outputs": [
    {
     "data": {
      "text/plain": [
       "-0.4944"
      ]
     },
     "execution_count": 6,
     "metadata": {},
     "output_type": "execute_result"
    }
   ],
   "source": [
    "trmod_hist.evaluate_policy(10000)"
   ]
  },
  {
   "cell_type": "code",
   "execution_count": 7,
   "metadata": {},
   "outputs": [
    {
     "data": {
      "text/plain": [
       "-0.86181"
      ]
     },
     "execution_count": 7,
     "metadata": {},
     "output_type": "execute_result"
    }
   ],
   "source": [
    "dqn_training = train_dqn(true_env, 100, \"test\")\n",
    "dqn_training.evaluate_policy(100000)"
   ]
  },
  {
   "cell_type": "markdown",
   "metadata": {},
   "source": [
    "# History of 1000"
   ]
  },
  {
   "cell_type": "code",
   "execution_count": 8,
   "metadata": {},
   "outputs": [],
   "source": [
    "history_1000 = [run_episode(random_policy()) for _ in range(1000)]\n",
    "hr_counts = init_hr_counts_2()\n",
    "bp_counts = init_bp_counts_2()\n",
    "o2_counts = init_o2_counts_2()\n",
    "glu_counts = init_glu_counts_2()\n",
    "state_counts = hr_counts, bp_counts, o2_counts, glu_counts\n",
    "for episode in history_1000:\n",
    "    state_counts = update_factored_counts_2(episode, *state_counts)\n",
    "    \n",
    "env = TrModelEnv(transition_model_factored_2(*state_counts))\n",
    "trmod_hist_1000 = train_dqn(env=env, nr_iter=100000, name=\"Transition_Model_1000_History_100000_train\")"
   ]
  },
  {
   "cell_type": "code",
   "execution_count": 9,
   "metadata": {},
   "outputs": [
    {
     "data": {
      "text/plain": [
       "-0.2841"
      ]
     },
     "execution_count": 9,
     "metadata": {},
     "output_type": "execute_result"
    }
   ],
   "source": [
    "trmod_hist_1000.evaluate_policy(10000)\n"
   ]
  },
  {
   "cell_type": "code",
   "execution_count": 10,
   "metadata": {},
   "outputs": [
    {
     "data": {
      "text/plain": [
       "-0.55911"
      ]
     },
     "execution_count": 10,
     "metadata": {},
     "output_type": "execute_result"
    }
   ],
   "source": [
    "dqn_training = train_dqn(true_env, 1000, \"test\")\n",
    "dqn_training.evaluate_policy(100000)"
   ]
  },
  {
   "cell_type": "markdown",
   "metadata": {},
   "source": [
    "# History of 5000"
   ]
  },
  {
   "cell_type": "code",
   "execution_count": 11,
   "metadata": {},
   "outputs": [],
   "source": [
    "history_5000 = [run_episode(random_policy()) for _ in range(5000)]\n",
    "hr_counts = init_hr_counts_2()\n",
    "bp_counts = init_bp_counts_2()\n",
    "o2_counts = init_o2_counts_2()\n",
    "glu_counts = init_glu_counts_2()\n",
    "state_counts = hr_counts, bp_counts, o2_counts, glu_counts\n",
    "for episode in history_5000:\n",
    "    state_counts = update_factored_counts_2(episode, *state_counts)\n",
    "    \n",
    "env = TrModelEnv(transition_model_factored_2(*state_counts))\n",
    "trmod_hist_5000 = train_dqn(env=env, nr_iter=100000, name=\"Transition_Model_1000_History_100000_train\")"
   ]
  },
  {
   "cell_type": "code",
   "execution_count": 17,
   "metadata": {},
   "outputs": [
    {
     "data": {
      "text/plain": [
       "-0.1595"
      ]
     },
     "execution_count": 17,
     "metadata": {},
     "output_type": "execute_result"
    }
   ],
   "source": [
    "trmod_hist_5000.evaluate_policy(10000)\n"
   ]
  },
  {
   "cell_type": "code",
   "execution_count": 13,
   "metadata": {},
   "outputs": [
    {
     "data": {
      "text/plain": [
       "-0.4427"
      ]
     },
     "execution_count": 13,
     "metadata": {},
     "output_type": "execute_result"
    }
   ],
   "source": [
    "dqn_training = train_dqn(true_env, 5000, \"test\")\n",
    "dqn_training.evaluate_policy(100000)"
   ]
  },
  {
   "cell_type": "markdown",
   "metadata": {},
   "source": [
    "# History of 10000"
   ]
  },
  {
   "cell_type": "code",
   "execution_count": null,
   "metadata": {},
   "outputs": [],
   "source": [
    "history_10000 = [run_episode(random_policy()) for _ in range(10000)]\n",
    "hr_counts = init_hr_counts_2()\n",
    "bp_counts = init_bp_counts_2()\n",
    "o2_counts = init_o2_counts_2()\n",
    "glu_counts = init_glu_counts_2()\n",
    "state_counts = hr_counts, bp_counts, o2_counts, glu_counts\n",
    "for episode in history_10000:\n",
    "    state_counts = update_factored_counts_2(episode, *state_counts)\n",
    "    \n",
    "env = TrModelEnv(transition_model_factored_2(*state_counts))\n",
    "trmod_hist_10000 = train_dqn(env=env, nr_iter=100000, name=\"Transition_Model_F2_10000_History_100000_train\")"
   ]
  },
  {
   "cell_type": "code",
   "execution_count": 15,
   "metadata": {},
   "outputs": [
    {
     "data": {
      "text/plain": [
       "-0.1531"
      ]
     },
     "execution_count": 15,
     "metadata": {},
     "output_type": "execute_result"
    }
   ],
   "source": [
    "trmod_hist_10000.evaluate_policy(10000)\n"
   ]
  },
  {
   "cell_type": "code",
   "execution_count": 16,
   "metadata": {},
   "outputs": [
    {
     "data": {
      "text/plain": [
       "-0.4115"
      ]
     },
     "execution_count": 16,
     "metadata": {},
     "output_type": "execute_result"
    }
   ],
   "source": [
    "dqn_training = train_dqn(true_env, 10000, \"test\")\n",
    "dqn_training.evaluate_policy(100000)"
   ]
  },
  {
   "cell_type": "markdown",
   "metadata": {},
   "source": [
    "# History of 50'000"
   ]
  },
  {
   "cell_type": "code",
   "execution_count": 19,
   "metadata": {},
   "outputs": [],
   "source": [
    "history_50000 = [run_episode(random_policy()) for _ in range(50000)]\n",
    "hr_counts = init_hr_counts_2()\n",
    "bp_counts = init_bp_counts_2()\n",
    "o2_counts = init_o2_counts_2()\n",
    "glu_counts = init_glu_counts_2()\n",
    "state_counts = hr_counts, bp_counts, o2_counts, glu_counts\n",
    "for episode in history_50000:\n",
    "    state_counts = update_factored_counts_2(episode, *state_counts)\n",
    "    \n",
    "env = TrModelEnv(transition_model_factored_2(*state_counts))\n",
    "trmod_hist_50000 = train_dqn(env=env, nr_iter=100000, name=\"Transition_Model_F2_50000_History_100000_train\")"
   ]
  },
  {
   "cell_type": "code",
   "execution_count": 20,
   "metadata": {},
   "outputs": [
    {
     "data": {
      "text/plain": [
       "-0.1147"
      ]
     },
     "execution_count": 20,
     "metadata": {},
     "output_type": "execute_result"
    }
   ],
   "source": [
    "trmod_hist_50000.evaluate_policy(10000)\n"
   ]
  },
  {
   "cell_type": "code",
   "execution_count": 21,
   "metadata": {},
   "outputs": [
    {
     "data": {
      "text/plain": [
       "-0.19501"
      ]
     },
     "execution_count": 21,
     "metadata": {},
     "output_type": "execute_result"
    }
   ],
   "source": [
    "dqn_training = train_dqn(true_env, 50000, \"test\")\n",
    "dqn_training.evaluate_policy(100000)"
   ]
  },
  {
   "cell_type": "markdown",
   "metadata": {},
   "source": [
    "# History of 100'000"
   ]
  },
  {
   "cell_type": "code",
   "execution_count": null,
   "metadata": {},
   "outputs": [],
   "source": [
    "# history_100000 = [run_episode(random_policy()) for _ in range(100000)]\n",
    "hr_counts = init_hr_counts_2()\n",
    "bp_counts = init_bp_counts_2()\n",
    "o2_counts = init_o2_counts_2()\n",
    "glu_counts = init_glu_counts_2()\n",
    "state_counts = hr_counts, bp_counts, o2_counts, glu_counts\n",
    "for _ in range(100000):\n",
    "    state_counts = update_factored_counts_2(run_episode(random_policy()), *state_counts)\n",
    "    \n",
    "env = TrModelEnv(transition_model_factored_2(*state_counts))\n",
    "trmod_hist_100000 = train_dqn(env=env, nr_iter=100000, name=\"Transition_Model_F2_100000_History_100000_train\")\n",
    "trmod_hist_100000.evaluate_policy(10000)\n"
   ]
  },
  {
   "cell_type": "code",
   "execution_count": null,
   "metadata": {},
   "outputs": [],
   "source": [
    "dqn_training = train_dqn(true_env, 100000, \"test\")\n",
    "dqn_training.evaluate_policy(100000)"
   ]
  },
  {
   "cell_type": "markdown",
   "metadata": {},
   "source": [
    "# Plots"
   ]
  },
  {
   "cell_type": "code",
   "execution_count": 1,
   "metadata": {},
   "outputs": [],
   "source": [
    "# Number of episodes in the history\n",
    "history_sizes = [100, 1000, 5000, 10000, 50000]\n",
    "\n",
    "# Evaluation results\n",
    "evaluation_results = [\n",
    "    -0.4944, \n",
    "    -0.2841,\n",
    "    -0.1595,\n",
    "    -0.1531, \n",
    "    -0.1147\n",
    "]"
   ]
  },
  {
   "cell_type": "code",
   "execution_count": 5,
   "metadata": {},
   "outputs": [
    {
     "data": {
      "image/png": "[encoded data removed]",
      "text/plain": [
       "<Figure size 1000x600 with 1 Axes>"
      ]
     },
     "metadata": {},
     "output_type": "display_data"
    }
   ],
   "source": [
    "\n",
    "# Plotting\n",
    "plt.figure(figsize=(10, 6))\n",
    "plt.plot(history_sizes, evaluation_results, marker='o')\n",
    "plt.xlabel('Number of Episodes in History')\n",
    "plt.ylabel('Evaluation Result')\n",
    "plt.title('Evaluation Results vs Number of Episodes in History')\n",
    "plt.grid(True)\n",
    "plt.show()"
   ]
  },
  {
   "cell_type": "code",
   "execution_count": null,
   "metadata": {},
   "outputs": [],
   "source": []
  }
 ],
 "metadata": {
  "kernelspec": {
   "display_name": "base",
   "language": "python",
   "name": "python3"
  },
  "language_info": {
   "codemirror_mode": {
    "name": "ipython",
    "version": 3
   },
   "file_extension": ".py",
   "mimetype": "text/x-python",
   "name": "python",
   "nbconvert_exporter": "python",
   "pygments_lexer": "ipython3",
   "version": "3.10.10"
  }
 },
 "nbformat": 4,
 "nbformat_minor": 2
}
