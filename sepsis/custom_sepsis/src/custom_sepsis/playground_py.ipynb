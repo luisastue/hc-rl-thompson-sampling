{
 "cells": [
  {
   "cell_type": "code",
   "execution_count": 1,
   "metadata": {},
   "outputs": [],
   "source": [
    "import matplotlib.pyplot as plt\n",
    "import numpy as np\n",
    "from custom_sepsis import *\n"
   ]
  },
  {
   "cell_type": "code",
   "execution_count": 3,
   "metadata": {},
   "outputs": [],
   "source": [
    "models = {\n",
    "    Simplification.NONE: [ DirThompsonSampling.load_json(f\"json/dirichlet/ts/None-{i}.json\") for i in range(3)],\n",
    "    Simplification.MEDIUM:[ DirThompsonSampling.load_json(f\"json/dirichlet/ts/Medium-{i}.json\") for i in range(3)],\n",
    "    Simplification.SIMPLE:[ DirThompsonSampling.load_json(f\"json/dirichlet/ts/Simple-{i}.json\") for i in range(3)],\n",
    "}\n",
    "    "
   ]
  },
  {
   "cell_type": "code",
   "execution_count": null,
   "metadata": {},
   "outputs": [],
   "source": [
    "for model in [Simplification.NONE, Simplification.MEDIUM, Simplification.SIMPLE]:\n",
    "    for i in range(3):\n",
    "        for (k, v) in models[model][i].policies.items():\n",
    "            models[model][i].mean_rewards[k] = [evaluate_policy(v, 100000)]\n",
    "        print(f\"Model: {model} - {i}\")\n",
    "        models[model][i].save_json()\n",
    "        "
   ]
  },
  {
   "cell_type": "code",
   "execution_count": null,
   "metadata": {},
   "outputs": [],
   "source": []
  }
 ],
 "metadata": {
  "kernelspec": {
   "display_name": "base",
   "language": "python",
   "name": "python3"
  },
  "language_info": {
   "codemirror_mode": {
    "name": "ipython",
    "version": 3
   },
   "file_extension": ".py",
   "mimetype": "text/x-python",
   "name": "python",
   "nbconvert_exporter": "python",
   "pygments_lexer": "ipython3",
   "version": "3.10.10"
  }
 },
 "nbformat": 4,
 "nbformat_minor": 2
}
