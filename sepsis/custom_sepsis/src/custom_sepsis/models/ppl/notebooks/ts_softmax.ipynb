{
 "cells": [
  {
   "cell_type": "code",
   "execution_count": 1,
   "metadata": {},
   "outputs": [],
   "source": [
    "include(\"../main.jl\")\n",
    "using PyCall;\n",
    "using Revise;\n",
    "using Gen;\n",
    "using Serialization\n",
    "using CairoMakie\n",
    "sepsis_gym = pyimport(\"custom_sepsis\");"
   ]
  },
  {
   "cell_type": "code",
   "execution_count": 2,
   "metadata": {},
   "outputs": [],
   "source": [
    "softmax_model = MCMCModel(:softmax, softmax_functions, choicemap(), [], []);"
   ]
  },
  {
   "cell_type": "code",
   "execution_count": 3,
   "metadata": {},
   "outputs": [],
   "source": [
    "ts = PPTSRun(\"softmax\", softmax_model);"
   ]
  },
  {
   "cell_type": "code",
   "execution_count": 4,
   "metadata": {},
   "outputs": [
    {
     "data": {
      "text/plain": [
       "save_file (generic function with 1 method)"
      ]
     },
     "execution_count": 4,
     "metadata": {},
     "output_type": "execute_result"
    }
   ],
   "source": [
    "function save_file(self::Any, name::String)\n",
    "    # Implement saving to file, e.g., using Serialization\n",
    "    open(name, \"w\") do io\n",
    "        serialize(io, self)\n",
    "    end\n",
    "end\n"
   ]
  },
  {
   "cell_type": "code",
   "execution_count": 5,
   "metadata": {},
   "outputs": [
    {
     "name": "stdout",
     "output_type": "stream",
     "text": [
      "Finished episode 1\n",
      "Finished episode 2\n",
      "Finished episode 4\n",
      "Finished episode 8\n",
      "Finished episode 16\n",
      "Finished episode 32\n",
      "Finished episode 64\n",
      "Finished episode 128\n"
     ]
    }
   ],
   "source": [
    "for i in 1:200\n",
    "    if log2(i) % 1 == 0\n",
    "        run_ts_mcmc!(ts, i, 200)\n",
    "        policy = ts.policies[i]\n",
    "        update_model!(ts.model, i, policy)\n",
    "        save_file(ts, \"ts-softmax.jld\")\n",
    "        println(\"Finished episode \", i)\n",
    "    end\n",
    "end\n"
   ]
  }
 ],
 "metadata": {
  "kernelspec": {
   "display_name": "Julia 1.10.4",
   "language": "julia",
   "name": "julia-1.10"
  },
  "language_info": {
   "file_extension": ".jl",
   "mimetype": "application/julia",
   "name": "julia",
   "version": "1.10.4"
  }
 },
 "nbformat": 4,
 "nbformat_minor": 2
}
