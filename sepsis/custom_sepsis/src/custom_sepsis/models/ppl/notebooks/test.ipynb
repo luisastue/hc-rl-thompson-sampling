{
 "cells": [
  {
   "cell_type": "code",
   "execution_count": 1,
   "metadata": {},
   "outputs": [],
   "source": [
    "include(\"../model/sepsis_types.jl\")\n",
    "using .SepsisTypes\n",
    "include(\"../model/sepsis_gen.jl\")\n",
    "using .Sepsis\n",
    "include(\"../model/pp_model.jl\")\n",
    "using .PPModel\n",
    "include(\"../value_iter.jl\")\n",
    "using .ValueIteration\n",
    "include(\"../model/inference.jl\")\n",
    "using .Inference\n",
    "include(\"../evaluate/history.jl\")\n",
    "using .History\n",
    "include(\"../model/simple.jl\")\n",
    "using .Simple\n",
    "using PyCall;\n",
    "using Revise;\n",
    "using Gen;\n",
    "using CairoMakie\n",
    "sepsis_gym = pyimport(\"custom_sepsis\");"
   ]
  },
  {
   "cell_type": "code",
   "execution_count": 2,
   "metadata": {},
   "outputs": [],
   "source": [
    "simple_model = MCMCModel(:simple, simple_functions, choicemap(), [], []);"
   ]
  },
  {
   "cell_type": "code",
   "execution_count": 3,
   "metadata": {},
   "outputs": [],
   "source": [
    "history = PPHistoryRun(\"simple\", simple_model);"
   ]
  },
  {
   "cell_type": "code",
   "execution_count": 4,
   "metadata": {},
   "outputs": [
    {
     "data": {
      "text/plain": [
       "save_file (generic function with 1 method)"
      ]
     },
     "execution_count": 4,
     "metadata": {},
     "output_type": "execute_result"
    }
   ],
   "source": [
    "function save_file(self::Any, name::String)\n",
    "    # Implement saving to file, e.g., using Serialization\n",
    "    open(name, \"w\") do io\n",
    "        serialize(io, self)\n",
    "    end\n",
    "end\n"
   ]
  },
  {
   "cell_type": "code",
   "execution_count": null,
   "metadata": {},
   "outputs": [],
   "source": [
    "for i in 1:200\n",
    "    if log2(i) % 1 == 0\n",
    "        update_model!(history.model, i)\n",
    "        run_history_mcmc!(history, i, 200)\n",
    "        save_file(history, \"data/mcmc/history-simple.jld\")\n",
    "        println(\"Finished episode \", i)\n",
    "    end\n",
    "end\n"
   ]
  }
 ],
 "metadata": {
  "kernelspec": {
   "display_name": "Julia 1.10.4",
   "language": "julia",
   "name": "julia-1.10"
  },
  "language_info": {
   "file_extension": ".jl",
   "mimetype": "application/julia",
   "name": "julia",
   "version": "1.10.4"
  }
 },
 "nbformat": 4,
 "nbformat_minor": 2
}
