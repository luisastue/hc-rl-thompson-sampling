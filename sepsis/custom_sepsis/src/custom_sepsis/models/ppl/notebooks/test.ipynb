{
 "cells": [
  {
   "cell_type": "code",
   "execution_count": 1,
   "metadata": {},
   "outputs": [],
   "source": [
    "include(\"../model/sepsis_types.jl\")\n",
    "using .SepsisTypes\n",
    "include(\"../model/sepsis_gen.jl\")\n",
    "using .Sepsis\n",
    "include(\"../model/pp_model.jl\")\n",
    "using .PPModel\n",
    "include(\"../value_iter.jl\")\n",
    "using .ValueIteration\n",
    "include(\"../evaluate/history.jl\")\n",
    "using .History\n",
    "include(\"../model/simple.jl\")\n",
    "using .Simple\n",
    "using PyCall;\n",
    "using Revise;\n",
    "using Gen;\n",
    "using CairoMakie\n",
    "sepsis_gym = pyimport(\"custom_sepsis\");"
   ]
  },
  {
   "cell_type": "code",
   "execution_count": 2,
   "metadata": {},
   "outputs": [],
   "source": [
    "simple_model = MCMCModel(:simple, simple_functions, choicemap(), [], []);"
   ]
  },
  {
   "cell_type": "code",
   "execution_count": 3,
   "metadata": {},
   "outputs": [],
   "source": [
    "history = PPHistoryRun(\"simple\", simple_model, block_update_simple);"
   ]
  },
  {
   "cell_type": "code",
   "execution_count": null,
   "metadata": {},
   "outputs": [],
   "source": [
    "i = 1\n",
    "update_model!(history.model, 1)\n",
    "run_history_mcmc!(history, i, 200)\n",
    "println(\"Finished episode \", i)\n"
   ]
  },
  {
   "cell_type": "code",
   "execution_count": null,
   "metadata": {},
   "outputs": [],
   "source": []
  }
 ],
 "metadata": {
  "kernelspec": {
   "display_name": "Julia 1.10.4",
   "language": "julia",
   "name": "julia-1.10"
  },
  "language_info": {
   "file_extension": ".jl",
   "mimetype": "application/julia",
   "name": "julia",
   "version": "1.10.4"
  }
 },
 "nbformat": 4,
 "nbformat_minor": 2
}
