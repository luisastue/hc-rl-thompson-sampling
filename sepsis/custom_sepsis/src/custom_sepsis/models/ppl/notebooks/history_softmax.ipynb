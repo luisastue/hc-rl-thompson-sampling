{
 "cells": [
  {
   "cell_type": "code",
   "execution_count": 1,
   "metadata": {},
   "outputs": [],
   "source": [
    "include(\"../model/sepsis_types.jl\")\n",
    "using .SepsisTypes\n",
    "include(\"../model/sepsis_gen.jl\")\n",
    "using .Sepsis\n",
    "include(\"../model/pp_model.jl\")\n",
    "using .PPModel\n",
    "include(\"../value_iter.jl\")\n",
    "using .ValueIteration\n",
    "include(\"../model/inference.jl\")\n",
    "using .Inference\n",
    "include(\"../evaluate/history.jl\")\n",
    "using .History\n",
    "include(\"../model/softmax.jl\")\n",
    "using .Softmax\n",
    "using PyCall;\n",
    "using Revise;\n",
    "using Gen;\n",
    "using CairoMakie\n",
    "using Serialization\n",
    "sepsis_gym = pyimport(\"custom_sepsis\");"
   ]
  },
  {
   "cell_type": "code",
   "execution_count": 2,
   "metadata": {},
   "outputs": [],
   "source": [
    "softmax_model = MCMCModel(:softmax, softmax_functions, choicemap(), [], []);"
   ]
  },
  {
   "cell_type": "code",
   "execution_count": 3,
   "metadata": {},
   "outputs": [],
   "source": [
    "history = PPHistoryRun(\"softmax\", softmax_model);"
   ]
  },
  {
   "cell_type": "code",
   "execution_count": 4,
   "metadata": {},
   "outputs": [
    {
     "data": {
      "text/plain": [
       "save_file (generic function with 1 method)"
      ]
     },
     "execution_count": 4,
     "metadata": {},
     "output_type": "execute_result"
    }
   ],
   "source": [
    "function save_file(self::Any, name::String)\n",
    "    # Implement saving to file, e.g., using Serialization\n",
    "    open(name, \"w\") do io\n",
    "        serialize(io, self)\n",
    "    end\n",
    "end\n"
   ]
  },
  {
   "cell_type": "code",
   "execution_count": 7,
   "metadata": {},
   "outputs": [
    {
     "name": "stdout",
     "output_type": "stream",
     "text": [
      "Finished episode 2\n",
      "Finished episode 4\n",
      "Finished episode 8\n",
      "Finished episode 16\n",
      "Finished episode 32\n",
      "Finished episode 64\n"
     ]
    },
    {
     "ename": "LoadError",
     "evalue": "InterruptException:",
     "output_type": "error",
     "traceback": [
      "InterruptException:",
      "",
      "Stacktrace:",
      " [1] value_iteration(transition_model::Array{Float64, 3}, prev_V::Vector{Float64}, gamma::Float64, theta::Float64)",
      "   @ Main.ValueIteration ~/thesis/hc-rl-thompson-sampling/sepsis/custom_sepsis/src/custom_sepsis/models/ppl/value_iter.jl:86",
      " [2] value_iteration(transition_model::Array{Float64, 3})",
      "   @ Main.ValueIteration ~/thesis/hc-rl-thompson-sampling/sepsis/custom_sepsis/src/custom_sepsis/models/ppl/value_iter.jl:67",
      " [3] optimize(parameters::Dict{Tuple{Symbol, Level, Symbol}, Vector{Float64}}, functions::SepsisParams)",
      "   @ Main.ValueIteration ~/thesis/hc-rl-thompson-sampling/sepsis/custom_sepsis/src/custom_sepsis/models/ppl/value_iter.jl:109",
      " [4] run_history_mcmc!(history::PPHistoryRun, index::Int64, steps::Int64)",
      "   @ Main.History ~/thesis/hc-rl-thompson-sampling/sepsis/custom_sepsis/src/custom_sepsis/models/ppl/evaluate/history.jl:61",
      " [5] top-level scope",
      "   @ ./In[7]:4"
     ]
    }
   ],
   "source": [
    "for i in 1:200\n",
    "    if log2(i) % 1 == 0\n",
    "        update_model!(history.model, i)\n",
    "        run_history_mcmc!(history, i, 200)\n",
    "        save_file(history, \"history-softmax.jld\")\n",
    "        println(\"Finished episode \", i)\n",
    "    end\n",
    "end\n"
   ]
  }
 ],
 "metadata": {
  "kernelspec": {
   "display_name": "Julia 1.10.4",
   "language": "julia",
   "name": "julia-1.10"
  },
  "language_info": {
   "file_extension": ".jl",
   "mimetype": "application/julia",
   "name": "julia",
   "version": "1.10.4"
  }
 },
 "nbformat": 4,
 "nbformat_minor": 2
}
