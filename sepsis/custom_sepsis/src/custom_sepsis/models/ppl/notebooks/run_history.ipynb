{
 "cells": [
  {
   "cell_type": "code",
   "execution_count": 1,
   "metadata": {},
   "outputs": [],
   "source": [
    "include(\"../main.jl\")\n",
    "using PyCall;\n",
    "using Revise;\n",
    "using Gen;\n",
    "using CairoMakie\n",
    "using Serialization\n",
    "sepsis_gym = pyimport(\"custom_sepsis\");"
   ]
  },
  {
   "cell_type": "code",
   "execution_count": 2,
   "metadata": {},
   "outputs": [
    {
     "data": {
      "text/plain": [
       "2-element Vector{PPHistoryRun}:\n",
       " PPHistoryRun(\"SimplePPL\", MCMCModel(:SimplePPL, DynamicChoiceMap(Dict{Any, Any}(), Dict{Any, Any}()), Dict{State, Action}[], State[]), Dict{Int64, Vector{Dict{State, Action}}}(), Dict{Int64, Checkpoint}(), Dict{Int64, Vector{Float64}}(), Dict{Any, Any}(\"name\" => \"SimplePPL\", \"date\" => Dates.DateTime(\"2024-12-28T22:37:47.038\")))\n",
       " PPHistoryRun(\"SoftmaxPPL\", MCMCModel(:Softmax, DynamicChoiceMap(Dict{Any, Any}(), Dict{Any, Any}()), Dict{State, Action}[], State[]), Dict{Int64, Vector{Dict{State, Action}}}(), Dict{Int64, Checkpoint}(), Dict{Int64, Vector{Float64}}(), Dict{Any, Any}(\"name\" => \"SoftmaxPPL\", \"date\" => Dates.DateTime(\"2024-12-28T22:37:47.038\")))"
      ]
     },
     "execution_count": 2,
     "metadata": {},
     "output_type": "execute_result"
    }
   ],
   "source": [
    "models = [MCMCModel(type, choicemap(), [], []) for type in [:SimplePPL, :Softmax]]\n",
    "histories = [PPHistoryRun(label_dict[model.type], model) for model in models]"
   ]
  },
  {
   "cell_type": "code",
   "execution_count": 3,
   "metadata": {},
   "outputs": [],
   "source": [
    "# initialize, get mcmc running --> needs 200 iterations\n",
    "for history in histories\n",
    "    update_model!(history.model, 1)\n",
    "    run_history_mcmc!(history, 1, 200)\n",
    "end"
   ]
  },
  {
   "cell_type": "code",
   "execution_count": null,
   "metadata": {},
   "outputs": [
    {
     "name": "stdout",
     "output_type": "stream",
     "text": [
      "Finished episode SimplePPL 2\n",
      "Finished episode Softmax 2\n",
      "Finished episode SimplePPL 4\n",
      "Finished episode Softmax 4\n",
      "Finished episode SimplePPL 8\n",
      "Finished episode Softmax 8\n",
      "Finished episode SimplePPL 16\n",
      "Finished episode "
     ]
    }
   ],
   "source": [
    "for i in 2:100000000\n",
    "    for history in histories\n",
    "        if i < 100 && log2(i) % 1 == 0 \n",
    "            update_model!(history.model, i)\n",
    "            run_history_mcmc!(history, i, 100)\n",
    "            save_history_jld(history)\n",
    "            println(\"Finished episode \", history.model.type, \" \", i)\n",
    "        end\n",
    "    end\n",
    "end"
   ]
  },
  {
   "cell_type": "code",
   "execution_count": null,
   "metadata": {},
   "outputs": [],
   "source": []
  }
 ],
 "metadata": {
  "kernelspec": {
   "display_name": "Julia 1.10.4",
   "language": "julia",
   "name": "julia-1.10"
  },
  "language_info": {
   "file_extension": ".jl",
   "mimetype": "application/julia",
   "name": "julia",
   "version": "1.10.4"
  }
 },
 "nbformat": 4,
 "nbformat_minor": 2
}
