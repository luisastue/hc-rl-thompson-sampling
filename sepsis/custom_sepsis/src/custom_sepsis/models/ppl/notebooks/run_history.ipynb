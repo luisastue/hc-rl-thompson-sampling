{
 "cells": [
  {
   "cell_type": "code",
   "execution_count": 1,
   "metadata": {},
   "outputs": [],
   "source": [
    "include(\"../main.jl\")\n",
    "using PyCall;\n",
    "using Revise;\n",
    "using Gen;\n",
    "using CairoMakie\n",
    "using Serialization\n",
    "sepsis_gym = pyimport(\"custom_sepsis\");"
   ]
  },
  {
   "cell_type": "code",
   "execution_count": null,
   "metadata": {},
   "outputs": [],
   "source": [
    "models = Dict(\n",
    "    :SimplePPL => [MCMCModel(:SimplePPL, choicemap(), [], []) for i in 1:10],\n",
    "    :Softmax => [MCMCModel(:Softmax, choicemap(), [], []) for i in 1:10]\n",
    ")\n",
    "ts_runs = Dict(\n",
    "    :SimplePPL => [PPTSRun(\"history-$(label_dict[model.type])-$i\", model) for (i, model) in enumerate(models[:SimplePPL])],\n",
    "    :Softmax => [PPTSRun(\"history-$(label_dict[model.type])-$i\", model) for (i, model) in enumerate(models[:Softmax])],\n",
    ")\n",
    "\n",
    "indices = [2^i for i in [0,1,2,3,4,5,6,8,10,12,14,17,20,26]]\n",
    "history_size = maximum(indices)\n",
    "\n",
    "pols = [sepsis_gym.random_policy() for _ in 1:history_size]\n",
    "episodes = [sepsis_gym.run_episode(pols[i]) for i in 1:history_size]"
   ]
  },
  {
   "cell_type": "code",
   "execution_count": null,
   "metadata": {},
   "outputs": [],
   "source": [
    "for i in indices\n",
    "    for type in [:SimplePPL, :Softmax]\n",
    "        for history_run in history_runs[type]\n",
    "            iterations = i == 1 ? 200 : 20\n",
    "            run_history_mcmc!(history_run, i, iterations)\n",
    "            policy = history_run.policies[i]\n",
    "            update_model_history!(history_run.model, i, policy)\n",
    "            save_ts_jld(history_run)\n",
    "            println(\"Finished episode \", history_run.name, \" \", i)\n",
    "        end\n",
    "    end\n",
    "end"
   ]
  },
  {
   "cell_type": "code",
   "execution_count": 6,
   "metadata": {},
   "outputs": [
    {
     "data": {
      "text/plain": [
       "2048"
      ]
     },
     "execution_count": 6,
     "metadata": {},
     "output_type": "execute_result"
    }
   ],
   "source": [
    "maximum(keys(histories[1].models))"
   ]
  },
  {
   "cell_type": "code",
   "execution_count": null,
   "metadata": {},
   "outputs": [],
   "source": [
    "for i in 2049:100000000\n",
    "    for history in histories\n",
    "        if log2(i) % 1 == 0 \n",
    "            update_model!(history.model, i)\n",
    "            run_history_mcmc!(history, i, 100)\n",
    "            save_history_jld(history)\n",
    "            println(\"Finished episode \", history.model.type, \" \", i)\n",
    "        end\n",
    "    end\n",
    "end"
   ]
  },
  {
   "cell_type": "code",
   "execution_count": null,
   "metadata": {},
   "outputs": [],
   "source": []
  }
 ],
 "metadata": {
  "kernelspec": {
   "display_name": "Julia 1.10.4",
   "language": "julia",
   "name": "julia-1.10"
  },
  "language_info": {
   "file_extension": ".jl",
   "mimetype": "application/julia",
   "name": "julia",
   "version": "1.10.4"
  }
 },
 "nbformat": 4,
 "nbformat_minor": 2
}
