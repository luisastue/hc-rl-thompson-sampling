{
 "cells": [
  {
   "cell_type": "code",
   "execution_count": 1,
   "metadata": {},
   "outputs": [],
   "source": [
    "include(\"../../../main.jl\")\n",
    "using PyCall;\n",
    "using Revise;\n",
    "using Gen;\n",
    "using CairoMakie\n",
    "using Serialization\n",
    "sepsis_gym = pyimport(\"custom_sepsis\");"
   ]
  },
  {
   "cell_type": "code",
   "execution_count": 3,
   "metadata": {},
   "outputs": [
    {
     "data": {
      "text/plain": [
       "Dict{Symbol, Vector{RunData}} with 2 entries:\n",
       "  :Softmax   => [RunData(\"history-SoftmaxPPL-1\", :Softmax, ModelData(DynamicCho…\n",
       "  :SimplePPL => [RunData(\"history-SimplePPL-1\", :SimplePPL, ModelData(DynamicCh…"
      ]
     },
     "execution_count": 3,
     "metadata": {},
     "output_type": "execute_result"
    }
   ],
   "source": [
    "histories = Dict(\n",
    "    :Softmax => [load_jld(\"../../../data/mcmc/runs/history-SoftmaxPPL-$i.jld\")  for i in 1:10],\n",
    "    :SimplePPL => [load_jld(\"../../../data/mcmc/runs/history-SimplePPL-$i.jld\")  for i in 1:10]\n",
    ")"
   ]
  },
  {
   "cell_type": "code",
   "execution_count": null,
   "metadata": {},
   "outputs": [],
   "source": []
  },
  {
   "cell_type": "code",
   "execution_count": 2,
   "metadata": {},
   "outputs": [
    {
     "data": {
      "text/plain": [
       "Dict{Symbol, Vector{RunData}} with 2 entries:\n",
       "  :Softmax   => [RunData(\"history-SoftmaxPPL-1\", :Softmax, ModelData(DynamicCho…\n",
       "  :SimplePPL => [RunData(\"history-SimplePPL-1\", :SimplePPL, ModelData(DynamicCh…"
      ]
     },
     "execution_count": 2,
     "metadata": {},
     "output_type": "execute_result"
    }
   ],
   "source": [
    "# histories = Dict(\n",
    "#     :SimplePPL => [RunData(\"history-SimplePPL-$(i)\", :SimplePPL) for i in 1:10],\n",
    "#     :Softmax => [RunData(\"history-SoftmaxPPL-$(i)\", :Softmax) for i in 1:10],\n",
    "# )"
   ]
  },
  {
   "cell_type": "code",
   "execution_count": 3,
   "metadata": {},
   "outputs": [
    {
     "data": {
      "text/plain": [
       "13-element Vector{Int64}:\n",
       "        1\n",
       "        2\n",
       "        4\n",
       "        8\n",
       "       16\n",
       "       32\n",
       "      192\n",
       "      768\n",
       "     3072\n",
       "    12288\n",
       "   114688\n",
       "   917504\n",
       " 66060288"
      ]
     },
     "execution_count": 3,
     "metadata": {},
     "output_type": "execute_result"
    }
   ],
   "source": [
    "\n",
    "indices = [2^i for i in [0,1,2,3,4,5,6,8,10,12,14,17,20,26,]]\n",
    "\n",
    "batch_sizes = [indices[i] - indices[i-1] for i in 2:length(indices)]\n"
   ]
  },
  {
   "cell_type": "code",
   "execution_count": 1,
   "metadata": {},
   "outputs": [
    {
     "ename": "LoadError",
     "evalue": "UndefVarError: `batch_sizes` not defined",
     "output_type": "error",
     "traceback": [
      "UndefVarError: `batch_sizes` not defined",
      "",
      "Stacktrace:",
      " [1] top-level scope",
      "   @ In[1]:1"
     ]
    }
   ],
   "source": [
    "batch_sizes = filter(x -> x > 192, batch_sizes)"
   ]
  },
  {
   "cell_type": "code",
   "execution_count": null,
   "metadata": {},
   "outputs": [],
   "source": [
    "for batch_size in batch_sizes\n",
    "    for i in 1:10\n",
    "        for type in [:SimplePPL, :Softmax]\n",
    "            histories[type][i] = history_run(histories[type][i], batch_size, 1)\n",
    "            println(\"$(type) $(i) $(batch_size)\")\n",
    "        end\n",
    "    end\n",
    "end"
   ]
  },
  {
   "cell_type": "code",
   "execution_count": null,
   "metadata": {},
   "outputs": [],
   "source": [
    "\n",
    "# struct HistoryType\n",
    "#     mean_rewards::Dict{Int,Vector{Float64}}\n",
    "#     name::String\n",
    "#     info::Dict\n",
    "# end\n"
   ]
  },
  {
   "cell_type": "code",
   "execution_count": null,
   "metadata": {},
   "outputs": [],
   "source": [
    "# RunData\n",
    "# name::String\n",
    "# type::Symbol\n",
    "# model::ModelData\n",
    "# mcmcs::Dict{Int,MCMCRun}\n",
    "# mean_rewards::Dict{Int,Float64}\n",
    "# index::Int"
   ]
  },
  {
   "cell_type": "code",
   "execution_count": 12,
   "metadata": {},
   "outputs": [
    {
     "data": {
      "text/plain": [
       "evaluate_on_samples_local (generic function with 1 method)"
      ]
     },
     "execution_count": 12,
     "metadata": {},
     "output_type": "execute_result"
    }
   ],
   "source": [
    "\n",
    "function evaluate_on_samples_local(mcmc::MCMCRun, functions, n_samples::Int)\n",
    "    # perform planning\n",
    "    posterior_size = Int(round(length(mcmc.scores[end]) / 3))\n",
    "    posterior = mcmc.params[end-posterior_size:end]\n",
    "    mean_rewards = []\n",
    "    sampled_params = []\n",
    "    policies = []\n",
    "    for i in 1:n_samples\n",
    "        param = rand(posterior)\n",
    "        push!(sampled_params, param)\n",
    "        policy, V = optimize(param, functions)\n",
    "        push!(policies, policy)\n",
    "        # evaluate policy\n",
    "        mean_reward = sepsis_gym.evaluate_policy(to_gym_pol(policy), 100000)\n",
    "        push!(mean_rewards, mean_reward)\n",
    "    end\n",
    "\n",
    "    return mean_rewards, policies, sampled_params\n",
    "end"
   ]
  },
  {
   "cell_type": "code",
   "execution_count": 13,
   "metadata": {},
   "outputs": [
    {
     "ename": "LoadError",
     "evalue": "MethodError: \u001b[0mCannot `convert` an object of type \u001b[92mTuple{Vector{Any}, Vector{Any}, Vector{Any}}\u001b[39m\u001b[0m to an object of type \u001b[91mVector{Float64}\u001b[39m\n\n\u001b[0mClosest candidates are:\n\u001b[0m  convert(::Type{Array{T, N}}, \u001b[91m::StaticArraysCore.SizedArray{S, T, N, N, Array{T, N}}\u001b[39m) where {S, T, N}\n\u001b[0m\u001b[90m   @\u001b[39m \u001b[33mStaticArrays\u001b[39m \u001b[90m~/.julia/packages/StaticArrays/xEhFV/src/\u001b[39m\u001b[90m\u001b[4mSizedArray.jl:88\u001b[24m\u001b[39m\n\u001b[0m  convert(::Type{Array{T, N}}, \u001b[91m::StaticArraysCore.SizedArray{S, T, N, M, TData} where {M, TData<:AbstractArray{T, M}}\u001b[39m) where {T, S, N}\n\u001b[0m\u001b[90m   @\u001b[39m \u001b[33mStaticArrays\u001b[39m \u001b[90m~/.julia/packages/StaticArrays/xEhFV/src/\u001b[39m\u001b[90m\u001b[4mSizedArray.jl:82\u001b[24m\u001b[39m\n\u001b[0m  convert(::Type{T}, \u001b[91m::T\u001b[39m) where T\n\u001b[0m\u001b[90m   @\u001b[39m \u001b[90mBase\u001b[39m \u001b[90m\u001b[4mBase.jl:84\u001b[24m\u001b[39m\n\u001b[0m  ...\n",
     "output_type": "error",
     "traceback": [
      "MethodError: \u001b[0mCannot `convert` an object of type \u001b[92mTuple{Vector{Any}, Vector{Any}, Vector{Any}}\u001b[39m\u001b[0m to an object of type \u001b[91mVector{Float64}\u001b[39m\n\n\u001b[0mClosest candidates are:\n\u001b[0m  convert(::Type{Array{T, N}}, \u001b[91m::StaticArraysCore.SizedArray{S, T, N, N, Array{T, N}}\u001b[39m) where {S, T, N}\n\u001b[0m\u001b[90m   @\u001b[39m \u001b[33mStaticArrays\u001b[39m \u001b[90m~/.julia/packages/StaticArrays/xEhFV/src/\u001b[39m\u001b[90m\u001b[4mSizedArray.jl:88\u001b[24m\u001b[39m\n\u001b[0m  convert(::Type{Array{T, N}}, \u001b[91m::StaticArraysCore.SizedArray{S, T, N, M, TData} where {M, TData<:AbstractArray{T, M}}\u001b[39m) where {T, S, N}\n\u001b[0m\u001b[90m   @\u001b[39m \u001b[33mStaticArrays\u001b[39m \u001b[90m~/.julia/packages/StaticArrays/xEhFV/src/\u001b[39m\u001b[90m\u001b[4mSizedArray.jl:82\u001b[24m\u001b[39m\n\u001b[0m  convert(::Type{T}, \u001b[91m::T\u001b[39m) where T\n\u001b[0m\u001b[90m   @\u001b[39m \u001b[90mBase\u001b[39m \u001b[90m\u001b[4mBase.jl:84\u001b[24m\u001b[39m\n\u001b[0m  ...\n",
      "",
      "Stacktrace:",
      " [1] setindex!(h::Dict{Int64, Vector{Float64}}, v0::Tuple{Vector{Any}, Vector{Any}, Vector{Any}}, key::Int64)",
      "   @ Base ./dict.jl:376",
      " [2] Dict{Int64, Vector{Float64}}(kv::Dict{Any, Any})",
      "   @ Base ./dict.jl:84",
      " [3] convert",
      "   @ ./abstractdict.jl:568 [inlined]",
      " [4] HistoryType",
      "   @ ~/thesis/hc-rl-thompson-sampling/sepsis/custom_sepsis/src/custom_sepsis/plot/plot.jl:61 [inlined]",
      " [5] top-level scope",
      "   @ ./In[13]:8"
     ]
    }
   ],
   "source": [
    "history_types = []\n",
    "for run in histories[:SimplePPL]\n",
    "    mean_rewards = Dict()\n",
    "    for (k, mcmc) in run.mcmcs\n",
    "        mean_rewards[k] = evaluate_on_samples_local(mcmc, simple_functions, 10)\n",
    "        println(\"$(run.name) $(k) $(mean_rewards[k])\")\n",
    "    end\n",
    "    push!(history_types, HistoryType(mean_rewards, \"SimplePPL\", Dict(\"description\" => \"At every checkpoint, 10 samples are drawn from the posterior\")))\n",
    "end\n"
   ]
  },
  {
   "cell_type": "code",
   "execution_count": null,
   "metadata": {},
   "outputs": [],
   "source": []
  }
 ],
 "metadata": {
  "kernelspec": {
   "display_name": "Julia 1.10.4",
   "language": "julia",
   "name": "julia-1.10"
  },
  "language_info": {
   "file_extension": ".jl",
   "mimetype": "application/julia",
   "name": "julia",
   "version": "1.10.4"
  }
 },
 "nbformat": 4,
 "nbformat_minor": 2
}
