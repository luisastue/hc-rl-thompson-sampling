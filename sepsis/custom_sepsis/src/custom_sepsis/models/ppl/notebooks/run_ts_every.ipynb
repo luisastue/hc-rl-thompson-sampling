{
 "cells": [
  {
   "cell_type": "code",
   "execution_count": 1,
   "metadata": {},
   "outputs": [],
   "source": [
    "include(\"../main.jl\")\n",
    "using PyCall;\n",
    "using Revise;\n",
    "using Gen;\n",
    "using Serialization\n",
    "using CairoMakie\n",
    "sepsis_gym = pyimport(\"custom_sepsis\");"
   ]
  },
  {
   "cell_type": "code",
   "execution_count": 2,
   "metadata": {},
   "outputs": [
    {
     "data": {
      "text/plain": [
       "Dict{Symbol, Vector{RunData}} with 2 entries:\n",
       "  :Softmax   => [RunData(\"SoftmaxPPL-every-1\", :Softmax, ModelData(DynamicChoic…\n",
       "  :SimplePPL => [RunData(\"SimplePPL-every-1\", :SimplePPL, ModelData(DynamicChoi…"
      ]
     },
     "execution_count": 2,
     "metadata": {},
     "output_type": "execute_result"
    }
   ],
   "source": [
    "ts_runs = Dict(\n",
    "    :SimplePPL => [load_jld(\"../../../data/mcmc/runs/$(label_dict[:SimplePPL])-every-$i.jld\") for i in 1:3],\n",
    "    :Softmax => [load_jld(\"../../../data/mcmc/runs/$(label_dict[:Softmax])-every-$i.jld\") for i in 1:3],\n",
    ")\n"
   ]
  },
  {
   "cell_type": "code",
   "execution_count": 3,
   "metadata": {},
   "outputs": [
    {
     "data": {
      "text/plain": [
       "294"
      ]
     },
     "execution_count": 3,
     "metadata": {},
     "output_type": "execute_result"
    }
   ],
   "source": [
    "mx = maximum(keys(ts_runs[:Softmax][1].mean_rewards))"
   ]
  },
  {
   "cell_type": "code",
   "execution_count": 4,
   "metadata": {},
   "outputs": [
    {
     "name": "stdout",
     "output_type": "stream",
     "text": [
      "295 1\n",
      "295 2\n",
      "295 3\n",
      "296 1\n",
      "296 2\n",
      "296 3\n",
      "297 1\n",
      "297 2\n",
      "297 3\n",
      "298 1\n",
      "298 2\n",
      "298 3\n",
      "299 1\n",
      "299 2\n",
      "299 3\n",
      "300 1\n",
      "300 2\n",
      "300 3\n",
      "301 1\n",
      "301 2\n",
      "301 3\n",
      "302 1\n"
     ]
    },
    {
     "ename": "LoadError",
     "evalue": "InterruptException:",
     "output_type": "error",
     "traceback": [
      "InterruptException:",
      "",
      "Stacktrace:",
      " [1] value_iteration(transition_model::Array{Float64, 3}, prev_V::Vector{Float64}, gamma::Float64, theta::Float64)",
      "   @ Main.ValueIteration ~/thesis/hc-rl-thompson-sampling/sepsis/custom_sepsis/src/custom_sepsis/models/ppl/value_iter.jl:86",
      " [2] value_iteration(transition_model::Array{Float64, 3}, prev_V::Vector{Float64})",
      "   @ Main.ValueIteration ~/thesis/hc-rl-thompson-sampling/sepsis/custom_sepsis/src/custom_sepsis/models/ppl/value_iter.jl:67",
      " [3] optimize(parameters::Dict{Tuple{Symbol, Level, Symbol}, Vector{Float64}}, functions::SepsisParams, prev_V::Vector{Float64})",
      "   @ Main.ValueIteration ~/thesis/hc-rl-thompson-sampling/sepsis/custom_sepsis/src/custom_sepsis/models/ppl/value_iter.jl:109",
      " [4] optimize(parameters::Dict{Tuple{Symbol, Level, Symbol}, Vector{Float64}}, functions::SepsisParams)",
      "   @ Main.ValueIteration ~/thesis/hc-rl-thompson-sampling/sepsis/custom_sepsis/src/custom_sepsis/models/ppl/value_iter.jl:108",
      " [5] evaluate_mcmc(mcmc::MCMCRun, functions::SepsisParams)",
      "   @ Main.PPLRun ~/thesis/hc-rl-thompson-sampling/sepsis/custom_sepsis/src/custom_sepsis/models/ppl/evaluate/ppl_run.jl:32",
      " [6] thompson_sampling(run_data::RunData, batch_size::Int64, nr_batches::Int64)",
      "   @ Main.PPLRun ~/thesis/hc-rl-thompson-sampling/sepsis/custom_sepsis/src/custom_sepsis/models/ppl/evaluate/ppl_run.jl:65",
      " [7] top-level scope",
      "   @ ./In[4]:3"
     ]
    }
   ],
   "source": [
    "for i in (mx+1):1000\n",
    "    for j in 1:3\n",
    "        ts_runs[:Softmax][j] = thompson_sampling(ts_runs[:Softmax][j], 1, 1)\n",
    "        println(\"$i $j\")\n",
    "    end\n",
    "end\n"
   ]
  },
  {
   "cell_type": "code",
   "execution_count": null,
   "metadata": {},
   "outputs": [],
   "source": []
  }
 ],
 "metadata": {
  "kernelspec": {
   "display_name": "Julia 1.10.4",
   "language": "julia",
   "name": "julia-1.10"
  },
  "language_info": {
   "file_extension": ".jl",
   "mimetype": "application/julia",
   "name": "julia",
   "version": "1.10.4"
  }
 },
 "nbformat": 4,
 "nbformat_minor": 2
}
