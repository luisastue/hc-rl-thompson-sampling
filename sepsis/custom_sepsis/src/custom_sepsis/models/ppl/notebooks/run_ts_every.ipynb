{
 "cells": [
  {
   "cell_type": "code",
   "execution_count": 1,
   "metadata": {},
   "outputs": [],
   "source": [
    "include(\"../main.jl\")\n",
    "using PyCall;\n",
    "using Revise;\n",
    "using Gen;\n",
    "using Serialization\n",
    "using CairoMakie\n",
    "sepsis_gym = pyimport(\"custom_sepsis\");"
   ]
  },
  {
   "cell_type": "code",
   "execution_count": 2,
   "metadata": {},
   "outputs": [
    {
     "data": {
      "text/plain": [
       "Dict{Symbol, Vector{PPTSRun}} with 2 entries:\n",
       "  :Softmax   => [PPTSRun(\"SoftmaxPPL-every-1\", MCMCModel(:Softmax, DynamicChoic…\n",
       "  :SimplePPL => [PPTSRun(\"SimplePPL-every-1\", MCMCModel(:SimplePPL, DynamicChoi…"
      ]
     },
     "execution_count": 2,
     "metadata": {},
     "output_type": "execute_result"
    }
   ],
   "source": [
    "models = Dict(\n",
    "    :SimplePPL => [MCMCModel(:SimplePPL, choicemap(), [], []) for i in 1:3],\n",
    "    :Softmax => [MCMCModel(:Softmax, choicemap(), [], []) for i in 1:3]\n",
    ")\n",
    "ts_runs = Dict(\n",
    "    :SimplePPL => [PPTSRun(\"$(label_dict[model.type])-every-$i\", model) for (i, model) in enumerate(models[:SimplePPL])],\n",
    "    :Softmax => [PPTSRun(\"$(label_dict[model.type])-every-$i\", model) for (i, model) in enumerate(models[:Softmax])],\n",
    ")\n"
   ]
  },
  {
   "cell_type": "code",
   "execution_count": null,
   "metadata": {},
   "outputs": [
    {
     "name": "stdout",
     "output_type": "stream",
     "text": [
      "Finished episode SimplePPL-every-3 22\n",
      "Finished episode SoftmaxPPL-every-1 22\n",
      "Finished episode SoftmaxPPL-every-2 22\n",
      "Finished episode SoftmaxPPL-every-3 22\n",
      "Finished episode SimplePPL-every-1 23\n",
      "Finished episode SimplePPL-every-2 23\n",
      "Finished episode SimplePPL-every-3 23\n",
      "Finished episode SoftmaxPPL-every-1 23\n",
      "Finished episode SoftmaxPPL-every-2 23\n",
      "Finished episode SoftmaxPPL-every-3 23\n",
      "Finished episode SimplePPL-every-1 24\n",
      "Finished episode SimplePPL-every-2 24\n",
      "Finished episode SimplePPL-every-3 24\n",
      "Finished episode SoftmaxPPL-every-1 24\n",
      "Finished episode SoftmaxPPL-every-2 24\n",
      "Finished episode SoftmaxPPL-every-3 24\n"
     ]
    }
   ],
   "source": [
    "for i in 1:500\n",
    "    for type in [:SimplePPL, :Softmax]\n",
    "        for ts_run in ts_runs[type]\n",
    "            iterations = i == 1 ? 200 : 20\n",
    "            run_ts_mcmc!(ts_run, i, iterations)\n",
    "            policy = ts_run.policies[i]\n",
    "            update_model!(ts_run.model, i, policy)\n",
    "            save_ts_jld(ts_run)\n",
    "            println(\"Finished episode \", ts_run.name, \" \", i)\n",
    "        end\n",
    "    end\n",
    "end"
   ]
  },
  {
   "cell_type": "code",
   "execution_count": null,
   "metadata": {},
   "outputs": [],
   "source": []
  }
 ],
 "metadata": {
  "kernelspec": {
   "display_name": "Julia 1.10.4",
   "language": "julia",
   "name": "julia-1.10"
  },
  "language_info": {
   "file_extension": ".jl",
   "mimetype": "application/julia",
   "name": "julia",
   "version": "1.10.4"
  }
 },
 "nbformat": 4,
 "nbformat_minor": 2
}
