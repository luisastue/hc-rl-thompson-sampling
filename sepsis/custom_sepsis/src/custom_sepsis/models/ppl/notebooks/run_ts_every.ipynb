{
 "cells": [
  {
   "cell_type": "code",
   "execution_count": 1,
   "metadata": {},
   "outputs": [],
   "source": [
    "include(\"../main.jl\")\n",
    "using PyCall;\n",
    "using Revise;\n",
    "using Gen;\n",
    "using Serialization\n",
    "using CairoMakie\n",
    "sepsis_gym = pyimport(\"custom_sepsis\");"
   ]
  },
  {
   "cell_type": "code",
   "execution_count": 2,
   "metadata": {},
   "outputs": [
    {
     "data": {
      "text/plain": [
       "Dict{Symbol, Vector{PPTSRun}} with 2 entries:\n",
       "  :Softmax   => [PPTSRun(\"SoftmaxPPL-every-1\", MCMCModel(:Softmax, DynamicChoic…\n",
       "  :SimplePPL => [PPTSRun(\"SimplePPL-every-1\", MCMCModel(:SimplePPL, DynamicChoi…"
      ]
     },
     "execution_count": 2,
     "metadata": {},
     "output_type": "execute_result"
    }
   ],
   "source": [
    "# models = Dict(\n",
    "#     :SimplePPL => [MCMCModel(:SimplePPL, choicemap(), [], []) for i in 1:3],\n",
    "#     :Softmax => [MCMCModel(:Softmax, choicemap(), [], []) for i in 1:3]\n",
    "# )\n",
    "# ts_runs = Dict(\n",
    "#     :SimplePPL => [PPTSRun(\"$(label_dict[model.type])-every-$i\", model) for (i, model) in enumerate(models[:SimplePPL])],\n",
    "#     :Softmax => [PPTSRun(\"$(label_dict[model.type])-every-$i\", model) for (i, model) in enumerate(models[:Softmax])],\n",
    "# )\n"
   ]
  },
  {
   "cell_type": "code",
   "execution_count": 2,
   "metadata": {},
   "outputs": [
    {
     "data": {
      "text/plain": [
       "Dict{Symbol, Vector{PPTSRun}} with 2 entries:\n",
       "  :Softmax   => [PPTSRun(\"SoftmaxPPL-every-1\", MCMCModel(:Softmax, DynamicChoic…\n",
       "  :SimplePPL => [PPTSRun(\"SimplePPL-every-1\", MCMCModel(:SimplePPL, DynamicChoi…"
      ]
     },
     "execution_count": 2,
     "metadata": {},
     "output_type": "execute_result"
    }
   ],
   "source": [
    "ts_runs = Dict(\n",
    "    :SimplePPL => [load_jld(\"../../../data/mcmc/ts/$(label_dict[:SimplePPL])-every-$i.jld\") for i in 1:3],\n",
    "    :Softmax => [load_jld(\"../../../data/mcmc/ts/$(label_dict[:Softmax])-every-$i.jld\") for i in 1:3],\n",
    ")\n"
   ]
  },
  {
   "cell_type": "code",
   "execution_count": 4,
   "metadata": {},
   "outputs": [
    {
     "data": {
      "text/plain": [
       "132"
      ]
     },
     "execution_count": 4,
     "metadata": {},
     "output_type": "execute_result"
    }
   ],
   "source": [
    "maximum(keys(ts_runs[:SimplePPL][1].models))"
   ]
  },
  {
   "cell_type": "code",
   "execution_count": 5,
   "metadata": {},
   "outputs": [
    {
     "name": "stdout",
     "output_type": "stream",
     "text": [
      "Finished episode SoftmaxPPL-every-2 148\n",
      "Finished episode SoftmaxPPL-every-3 148\n",
      "Finished episode SimplePPL-every-1 149\n",
      "Finished episode SimplePPL-every-2 149\n",
      "Finished episode SimplePPL-every-3 149\n",
      "Finished episode SoftmaxPPL-every-1 149\n",
      "Finished episode SoftmaxPPL-every-2 149\n",
      "Finished episode SoftmaxPPL-every-3 149\n",
      "Finished episode SimplePPL-every-1 150\n",
      "Finished episode SimplePPL-every-2 150\n",
      "Finished episode SimplePPL-every-3 150\n",
      "Finished episode SoftmaxPPL-every-1 150\n",
      "Finished episode SoftmaxPPL-every-2 150\n",
      "Finished episode SoftmaxPPL-every-3 150\n"
     ]
    }
   ],
   "source": [
    "for i in 132:150\n",
    "    for type in [:SimplePPL, :Softmax]\n",
    "        for ts_run in ts_runs[type]\n",
    "            if i == 112 && type == :SimplePPL\n",
    "                continue\n",
    "            end\n",
    "            iterations = i == 1 ? 200 : 20\n",
    "            run_ts_mcmc!(ts_run, i, iterations)\n",
    "            policy = ts_run.policies[i]\n",
    "            update_model!(ts_run.model, i, policy)\n",
    "            save_ts_jld(ts_run)\n",
    "            println(\"Finished episode \", ts_run.name, \" \", i)\n",
    "        end\n",
    "    end\n",
    "end"
   ]
  },
  {
   "cell_type": "code",
   "execution_count": null,
   "metadata": {},
   "outputs": [
    {
     "name": "stdout",
     "output_type": "stream",
     "text": [
      "Finished episode SoftmaxPPL-every-1 151\n",
      "Finished episode SoftmaxPPL-every-2 151\n",
      "Finished episode SoftmaxPPL-every-3 151\n",
      "Finished episode SoftmaxPPL-every-1 152\n",
      "Finished episode SoftmaxPPL-every-2 152\n",
      "Finished episode SoftmaxPPL-every-3 152\n",
      "Finished episode SoftmaxPPL-every-1 153\n",
      "Finished episode SoftmaxPPL-every-2 153\n",
      "Finished episode SoftmaxPPL-every-3 153\n",
      "Finished episode SoftmaxPPL-every-1 154\n",
      "Finished episode SoftmaxPPL-every-2 154\n",
      "Finished episode SoftmaxPPL-every-3 154\n",
      "Finished episode SoftmaxPPL-every-1 155\n",
      "Finished episode SoftmaxPPL-every-2 155\n",
      "Finished episode SoftmaxPPL-every-3 155\n",
      "Finished episode SoftmaxPPL-every-1 156\n",
      "Finished episode SoftmaxPPL-every-2 156\n",
      "Finished episode SoftmaxPPL-every-3 156\n",
      "Finished episode SoftmaxPPL-every-1 157\n",
      "Finished episode SoftmaxPPL-every-2 157\n",
      "Finished episode SoftmaxPPL-every-3 157\n",
      "Finished episode SoftmaxPPL-every-1 158\n",
      "Finished episode SoftmaxPPL-every-2 158\n",
      "Finished episode SoftmaxPPL-every-3 158\n",
      "Finished episode SoftmaxPPL-every-1 159\n",
      "Finished episode SoftmaxPPL-every-2 159\n",
      "Finished episode SoftmaxPPL-every-3 159\n",
      "Finished episode SoftmaxPPL-every-1 160\n",
      "Finished episode SoftmaxPPL-every-2 160\n",
      "Finished episode SoftmaxPPL-every-3 160\n",
      "Finished episode SoftmaxPPL-every-1 161\n",
      "Finished episode SoftmaxPPL-every-2 161\n",
      "Finished episode SoftmaxPPL-every-3 161\n",
      "Finished episode SoftmaxPPL-every-1 162\n",
      "Finished episode SoftmaxPPL-every-2 162\n",
      "Finished episode SoftmaxPPL-every-3 162\n",
      "Finished episode SoftmaxPPL-every-1 163\n",
      "Finished episode SoftmaxPPL-every-2 163\n",
      "Finished episode SoftmaxPPL-every-3 163\n",
      "Finished episode SoftmaxPPL-every-1 164\n",
      "Finished episode SoftmaxPPL-every-2 164\n",
      "Finished episode SoftmaxPPL-every-3 164\n",
      "Finished episode SoftmaxPPL-every-1 165\n",
      "Finished episode SoftmaxPPL-every-2 165\n",
      "Finished episode SoftmaxPPL-every-3 165\n",
      "Finished episode SoftmaxPPL-every-1 166\n",
      "Finished episode SoftmaxPPL-every-2 166\n",
      "Finished episode SoftmaxPPL-every-3 166\n",
      "Finished episode SoftmaxPPL-every-1 167\n",
      "Finished episode SoftmaxPPL-every-2 167\n",
      "Finished episode SoftmaxPPL-every-3 167\n",
      "Finished episode SoftmaxPPL-every-1 168\n",
      "Finished episode SoftmaxPPL-every-2 168\n",
      "Finished episode SoftmaxPPL-every-3 168\n",
      "Finished episode SoftmaxPPL-every-1 169\n",
      "Finished episode SoftmaxPPL-every-2 169\n",
      "Finished episode SoftmaxPPL-every-3 169\n",
      "Finished episode SoftmaxPPL-every-1 170\n",
      "Finished episode SoftmaxPPL-every-2 170\n",
      "Finished episode SoftmaxPPL-every-3 170\n",
      "Finished episode SoftmaxPPL-every-1 171\n",
      "Finished episode SoftmaxPPL-every-2 171\n",
      "Finished episode SoftmaxPPL-every-3 171\n",
      "Finished episode SoftmaxPPL-every-1 172\n",
      "Finished episode SoftmaxPPL-every-2 172\n",
      "Finished episode SoftmaxPPL-every-3 172\n",
      "Finished episode SoftmaxPPL-every-1 173\n",
      "Finished episode SoftmaxPPL-every-2 173\n",
      "Finished episode SoftmaxPPL-every-3 173\n",
      "Finished episode SoftmaxPPL-every-1 174\n",
      "Finished episode SoftmaxPPL-every-2 174\n",
      "Finished episode SoftmaxPPL-every-3 174\n",
      "Finished episode SoftmaxPPL-every-1 175\n",
      "Finished episode SoftmaxPPL-every-2 175\n",
      "Finished episode SoftmaxPPL-every-3 175\n",
      "Finished episode SoftmaxPPL-every-1 176\n",
      "Finished episode SoftmaxPPL-every-2 176\n",
      "Finished episode SoftmaxPPL-every-3 176\n",
      "Finished episode SoftmaxPPL-every-1 177\n",
      "Finished episode SoftmaxPPL-every-2 177\n",
      "Finished episode SoftmaxPPL-every-3 177\n",
      "Finished episode SoftmaxPPL-every-1 178\n",
      "Finished episode SoftmaxPPL-every-2 178\n",
      "Finished episode SoftmaxPPL-every-3 178\n",
      "Finished episode SoftmaxPPL-every-1 179\n",
      "Finished episode SoftmaxPPL-every-2 179\n",
      "Finished episode SoftmaxPPL-every-3 179\n",
      "Finished episode SoftmaxPPL-every-1 180\n",
      "Finished episode SoftmaxPPL-every-2 180\n",
      "Finished episode SoftmaxPPL-every-3 180\n",
      "Finished episode SoftmaxPPL-every-1 181\n",
      "Finished episode SoftmaxPPL-every-2 181\n",
      "Finished episode SoftmaxPPL-every-3 181\n",
      "Finished episode SoftmaxPPL-every-1 182\n",
      "Finished episode SoftmaxPPL-every-2 182\n",
      "Finished episode SoftmaxPPL-every-3 182\n",
      "Finished episode SoftmaxPPL-every-1 183\n",
      "Finished episode SoftmaxPPL-every-2 183\n",
      "Finished episode SoftmaxPPL-every-3 183\n",
      "Finished episode SoftmaxPPL-every-1 184\n",
      "Finished episode SoftmaxPPL-every-2 184\n",
      "Finished episode SoftmaxPPL-every-3 184\n",
      "Finished episode SoftmaxPPL-every-1 185\n",
      "Finished episode SoftmaxPPL-every-2 185\n",
      "Finished episode SoftmaxPPL-every-3 185\n",
      "Finished episode SoftmaxPPL-every-1 186\n",
      "Finished episode SoftmaxPPL-every-2 186\n",
      "Finished episode SoftmaxPPL-every-3 186\n",
      "Finished episode SoftmaxPPL-every-1 187\n",
      "Finished episode SoftmaxPPL-every-2 187\n",
      "Finished episode SoftmaxPPL-every-3 187\n",
      "Finished episode SoftmaxPPL-every-1 188\n",
      "Finished episode SoftmaxPPL-every-2 188\n",
      "Finished episode SoftmaxPPL-every-3 188\n",
      "Finished episode SoftmaxPPL-every-1 189\n",
      "Finished episode SoftmaxPPL-every-2 189\n",
      "Finished episode SoftmaxPPL-every-3 189\n",
      "Finished episode SoftmaxPPL-every-1 190\n",
      "Finished episode SoftmaxPPL-every-2 190\n",
      "Finished episode SoftmaxPPL-every-3 190\n",
      "Finished episode SoftmaxPPL-every-1 191\n",
      "Finished episode SoftmaxPPL-every-2 191\n",
      "Finished episode SoftmaxPPL-every-3 191\n",
      "Finished episode SoftmaxPPL-every-1 192\n",
      "Finished episode SoftmaxPPL-every-2 192\n",
      "Finished episode SoftmaxPPL-every-3 192\n",
      "Finished episode SoftmaxPPL-every-1 193\n",
      "Finished episode SoftmaxPPL-every-2 193\n",
      "Finished episode SoftmaxPPL-every-3 193\n",
      "Finished episode SoftmaxPPL-every-1 194\n",
      "Finished episode SoftmaxPPL-every-2 194\n",
      "Finished episode SoftmaxPPL-every-3 194\n",
      "Finished episode SoftmaxPPL-every-1 195\n",
      "Finished episode SoftmaxPPL-every-2 195\n",
      "Finished episode SoftmaxPPL-every-3 195\n",
      "Finished episode SoftmaxPPL-every-1 196\n",
      "Finished episode SoftmaxPPL-every-2 196\n",
      "Finished episode SoftmaxPPL-every-3 196\n",
      "Finished episode SoftmaxPPL-every-1 197\n",
      "Finished episode SoftmaxPPL-every-2 197\n",
      "Finished episode SoftmaxPPL-every-3 197\n",
      "Finished episode SoftmaxPPL-every-1 198\n",
      "Finished episode SoftmaxPPL-every-2 198\n",
      "Finished episode SoftmaxPPL-every-3 198\n",
      "Finished episode SoftmaxPPL-every-1 199\n",
      "Finished episode SoftmaxPPL-every-2 199\n",
      "Finished episode SoftmaxPPL-every-3 199\n",
      "Finished episode SoftmaxPPL-every-1 200\n",
      "Finished episode SoftmaxPPL-every-2 200\n",
      "Finished episode SoftmaxPPL-every-3 200\n",
      "Finished episode SoftmaxPPL-every-1 201\n",
      "Finished episode SoftmaxPPL-every-2 201\n",
      "Finished episode SoftmaxPPL-every-3 201\n",
      "Finished episode "
     ]
    }
   ],
   "source": [
    "for i in 151:500\n",
    "    for type in [:Softmax]\n",
    "        for ts_run in ts_runs[type]\n",
    "            iterations = i == 1 ? 200 : 20\n",
    "            run_ts_mcmc!(ts_run, i, iterations)\n",
    "            policy = ts_run.policies[i]\n",
    "            update_model!(ts_run.model, i, policy)\n",
    "            save_ts_jld(ts_run)\n",
    "            println(\"Finished episode \", ts_run.name, \" \", i)\n",
    "        end\n",
    "    end\n",
    "end"
   ]
  },
  {
   "cell_type": "code",
   "execution_count": null,
   "metadata": {},
   "outputs": [],
   "source": []
  }
 ],
 "metadata": {
  "kernelspec": {
   "display_name": "Julia 1.10.4",
   "language": "julia",
   "name": "julia-1.10"
  },
  "language_info": {
   "file_extension": ".jl",
   "mimetype": "application/julia",
   "name": "julia",
   "version": "1.10.4"
  }
 },
 "nbformat": 4,
 "nbformat_minor": 2
}
