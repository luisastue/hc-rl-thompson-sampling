{
 "cells": [
  {
   "cell_type": "code",
   "execution_count": 1,
   "metadata": {},
   "outputs": [],
   "source": [
    "include(\"../main.jl\")\n",
    "using PyCall;\n",
    "using Revise;\n",
    "using Gen;\n",
    "using Serialization\n",
    "using CairoMakie\n",
    "sepsis_gym = pyimport(\"custom_sepsis\");"
   ]
  },
  {
   "cell_type": "code",
   "execution_count": 2,
   "metadata": {},
   "outputs": [
    {
     "data": {
      "text/plain": [
       "Dict{Symbol, Vector{PPTSRun}} with 2 entries:\n",
       "  :Softmax   => [PPTSRun(\"SoftmaxPPL-every-1\", MCMCModel(:Softmax, DynamicChoic…\n",
       "  :SimplePPL => [PPTSRun(\"SimplePPL-every-1\", MCMCModel(:SimplePPL, DynamicChoi…"
      ]
     },
     "execution_count": 2,
     "metadata": {},
     "output_type": "execute_result"
    }
   ],
   "source": [
    "# models = Dict(\n",
    "#     :SimplePPL => [MCMCModel(:SimplePPL, choicemap(), [], []) for i in 1:3],\n",
    "#     :Softmax => [MCMCModel(:Softmax, choicemap(), [], []) for i in 1:3]\n",
    "# )\n",
    "# ts_runs = Dict(\n",
    "#     :SimplePPL => [PPTSRun(\"$(label_dict[model.type])-every-$i\", model) for (i, model) in enumerate(models[:SimplePPL])],\n",
    "#     :Softmax => [PPTSRun(\"$(label_dict[model.type])-every-$i\", model) for (i, model) in enumerate(models[:Softmax])],\n",
    "# )\n"
   ]
  },
  {
   "cell_type": "code",
   "execution_count": 2,
   "metadata": {},
   "outputs": [
    {
     "data": {
      "text/plain": [
       "Dict{Symbol, Vector{PPTSRun}} with 2 entries:\n",
       "  :Softmax   => [PPTSRun(\"SoftmaxPPL-every-1\", MCMCModel(:Softmax, DynamicChoic…\n",
       "  :SimplePPL => [PPTSRun(\"SimplePPL-every-1\", MCMCModel(:SimplePPL, DynamicChoi…"
      ]
     },
     "execution_count": 2,
     "metadata": {},
     "output_type": "execute_result"
    }
   ],
   "source": [
    "ts_runs = Dict(\n",
    "    :SimplePPL => [load_jld(\"../../../data/mcmc/ts/$(label_dict[:SimplePPL])-every-$i.jld\") for i in 1:3],\n",
    "    :Softmax => [load_jld(\"../../../data/mcmc/ts/$(label_dict[:Softmax])-every-$i.jld\") for i in 1:3],\n",
    ")\n"
   ]
  },
  {
   "cell_type": "code",
   "execution_count": null,
   "metadata": {},
   "outputs": [
    {
     "name": "stdout",
     "output_type": "stream",
     "text": [
      "Finished episode SoftmaxPPL-every-1 112\n",
      "Finished episode SoftmaxPPL-every-2 112\n",
      "Finished episode SoftmaxPPL-every-3 112\n",
      "Finished episode SimplePPL-every-1 113\n",
      "Finished episode SimplePPL-every-2 113\n",
      "Finished episode SimplePPL-every-3 113\n",
      "Finished episode SoftmaxPPL-every-1 113\n",
      "Finished episode SoftmaxPPL-every-2 113\n",
      "Finished episode SoftmaxPPL-every-3 113\n",
      "Finished episode SimplePPL-every-1 114\n",
      "Finished episode SimplePPL-every-2 114\n",
      "Finished episode SimplePPL-every-3 114\n",
      "Finished episode SoftmaxPPL-every-1 114\n",
      "Finished episode SoftmaxPPL-every-2 114\n",
      "Finished episode SoftmaxPPL-every-3 114\n",
      "Finished episode SimplePPL-every-1 115\n",
      "Finished episode SimplePPL-every-2 115\n",
      "Finished episode SimplePPL-every-3 115\n",
      "Finished episode SoftmaxPPL-every-1 115\n",
      "Finished episode SoftmaxPPL-every-2 115\n",
      "Finished episode SoftmaxPPL-every-3 115\n",
      "Finished episode SimplePPL-every-1 116\n",
      "Finished episode SimplePPL-every-2 116\n",
      "Finished episode SimplePPL-every-3 116\n",
      "Finished episode SoftmaxPPL-every-1 116\n",
      "Finished episode SoftmaxPPL-every-2 116\n",
      "Finished episode SoftmaxPPL-every-3 116\n",
      "Finished episode SimplePPL-every-1 117\n",
      "Finished episode SimplePPL-every-2 117\n",
      "Finished episode SimplePPL-every-3 117\n",
      "Finished episode SoftmaxPPL-every-1 117\n",
      "Finished episode SoftmaxPPL-every-2 117\n",
      "Finished episode SoftmaxPPL-every-3 117\n",
      "Finished episode SimplePPL-every-1 118\n",
      "Finished episode SimplePPL-every-2 118\n",
      "Finished episode SimplePPL-every-3 118\n",
      "Finished episode SoftmaxPPL-every-1 118\n",
      "Finished episode SoftmaxPPL-every-2 118\n",
      "Finished episode SoftmaxPPL-every-3 118\n",
      "Finished episode SimplePPL-every-1 119\n",
      "Finished episode SimplePPL-every-2 119\n",
      "Finished episode SimplePPL-every-3 119\n",
      "Finished episode SoftmaxPPL-every-1 119\n",
      "Finished episode SoftmaxPPL-every-2 119\n",
      "Finished episode SoftmaxPPL-every-3 119\n",
      "Finished episode SimplePPL-every-1 120\n",
      "Finished episode SimplePPL-every-2 120\n",
      "Finished episode SimplePPL-every-3 120\n",
      "Finished episode SoftmaxPPL-every-1 120\n",
      "Finished episode SoftmaxPPL-every-2 120\n",
      "Finished episode SoftmaxPPL-every-3 120\n",
      "Finished episode SimplePPL-every-1 121\n",
      "Finished episode SimplePPL-every-2 121\n",
      "Finished episode SimplePPL-every-3 121\n",
      "Finished episode SoftmaxPPL-every-1 121\n",
      "Finished episode SoftmaxPPL-every-2 121\n",
      "Finished episode SoftmaxPPL-every-3 121\n",
      "Finished episode SimplePPL-every-1 122\n",
      "Finished episode SimplePPL-every-2 122\n",
      "Finished episode SimplePPL-every-3 122\n",
      "Finished episode SoftmaxPPL-every-1 122\n",
      "Finished episode SoftmaxPPL-every-2 122\n",
      "Finished episode SoftmaxPPL-every-3 122\n",
      "Finished episode SimplePPL-every-1 123\n",
      "Finished episode SimplePPL-every-2 123\n",
      "Finished episode SimplePPL-every-3 123\n",
      "Finished episode SoftmaxPPL-every-1 123\n",
      "Finished episode SoftmaxPPL-every-2 123\n",
      "Finished episode SoftmaxPPL-every-3 123\n",
      "Finished episode "
     ]
    }
   ],
   "source": [
    "for i in 112:500\n",
    "    for type in [:SimplePPL, :Softmax]\n",
    "        for ts_run in ts_runs[type]\n",
    "            if i == 112 && type == :SimplePPL\n",
    "                continue\n",
    "            end\n",
    "            iterations = i == 1 ? 200 : 20\n",
    "            run_ts_mcmc!(ts_run, i, iterations)\n",
    "            policy = ts_run.policies[i]\n",
    "            update_model!(ts_run.model, i, policy)\n",
    "            save_ts_jld(ts_run)\n",
    "            println(\"Finished episode \", ts_run.name, \" \", i)\n",
    "        end\n",
    "    end\n",
    "end"
   ]
  },
  {
   "cell_type": "code",
   "execution_count": null,
   "metadata": {},
   "outputs": [],
   "source": []
  }
 ],
 "metadata": {
  "kernelspec": {
   "display_name": "Julia 1.10.4",
   "language": "julia",
   "name": "julia-1.10"
  },
  "language_info": {
   "file_extension": ".jl",
   "mimetype": "application/julia",
   "name": "julia",
   "version": "1.10.4"
  }
 },
 "nbformat": 4,
 "nbformat_minor": 2
}
