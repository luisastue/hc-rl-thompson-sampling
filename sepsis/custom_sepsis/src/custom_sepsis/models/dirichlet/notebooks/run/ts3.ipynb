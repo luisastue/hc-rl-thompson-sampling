{
 "cells": [
  {
   "cell_type": "markdown",
   "metadata": {},
   "source": [
    "# None"
   ]
  },
  {
   "cell_type": "code",
   "execution_count": 8,
   "metadata": {},
   "outputs": [],
   "source": [
    "import matplotlib.pyplot as plt\n",
    "import numpy as np\n",
    "from custom_sepsis import *"
   ]
  },
  {
   "cell_type": "code",
   "execution_count": 9,
   "metadata": {},
   "outputs": [],
   "source": [
    "ts = [{\n",
    "    Simplification.NONE: DirThompsonSampling.load(f\"data/dir_ts/None-{i}.pkl.gz\"),\n",
    "} for i in [0,5,9]]\n",
    "policies = [{\n",
    "    Simplification.SIMPLE: random_policy(),\n",
    "    Simplification.MEDIUM: random_policy(),\n",
    "    Simplification.NONE: random_policy(),\n",
    "} for i in [0,5,9]]\n",
    "rewards = [{\n",
    "    Simplification.SIMPLE: [],\n",
    "    Simplification.MEDIUM: [],\n",
    "    Simplification.NONE: [],\n",
    "} for i in [0,5,9]]\n",
    "\n",
    "model_types = [Simplification.NONE]"
   ]
  },
  {
   "cell_type": "code",
   "execution_count": 15,
   "metadata": {},
   "outputs": [
    {
     "data": {
      "text/plain": [
       "dict_keys([1, 2, 4, 8, 16, 32, 64, 100, 200, 300, 400, 500, 600, 700, 800, 900, 1000, 1100, 1200, 1300, 1400, 1500, 1600, 1700, 1800, 1900, 2000, 2100, 2200, 2300, 2400, 2500, 2600, 2700, 2800, 2900, 3000])"
      ]
     },
     "execution_count": 15,
     "metadata": {},
     "output_type": "execute_result"
    }
   ],
   "source": [
    "len(ts[0][Simplification.NONE].rewards)\n",
    "# ts[0][Simplification.NONE].policies.keys()"
   ]
  },
  {
   "cell_type": "code",
   "execution_count": 5,
   "metadata": {},
   "outputs": [],
   "source": [
    "nr_episodes = 2**20\n",
    "start_episode = len(ts[0][Simplification.NONE].rewards)\n"
   ]
  },
  {
   "cell_type": "code",
   "execution_count": 7,
   "metadata": {},
   "outputs": [
    {
     "ename": "KeyboardInterrupt",
     "evalue": "",
     "output_type": "error",
     "traceback": [
      "\u001b[0;31m---------------------------------------------------------------------------\u001b[0m",
      "\u001b[0;31mKeyboardInterrupt\u001b[0m                         Traceback (most recent call last)",
      "Cell \u001b[0;32mIn[7], line 7\u001b[0m\n\u001b[1;32m      5\u001b[0m \u001b[38;5;28;01mfor\u001b[39;00m model_type \u001b[38;5;129;01min\u001b[39;00m model_types:\n\u001b[1;32m      6\u001b[0m     state_counts \u001b[38;5;241m=\u001b[39m ts[key][model_type]\u001b[38;5;241m.\u001b[39mmodel\u001b[38;5;241m.\u001b[39mget_state_counts()\n\u001b[0;32m----> 7\u001b[0m     policy, V \u001b[38;5;241m=\u001b[39m matrix_value_iteration(V, \u001b[43mts\u001b[49m\u001b[43m[\u001b[49m\u001b[43mkey\u001b[49m\u001b[43m]\u001b[49m\u001b[43m[\u001b[49m\u001b[43mmodel_type\u001b[49m\u001b[43m]\u001b[49m\u001b[38;5;241;43m.\u001b[39;49m\u001b[43mmodel\u001b[49m\u001b[38;5;241;43m.\u001b[39;49m\u001b[43mtransition_model\u001b[49m\u001b[43m(\u001b[49m\u001b[43m)\u001b[49m)\n\u001b[1;32m      8\u001b[0m     ts[key][model_type]\u001b[38;5;241m.\u001b[39madd_data(i, rewards[key][model_type], policy, state_counts)\n\u001b[1;32m      9\u001b[0m     ts[key][model_type]\u001b[38;5;241m.\u001b[39msave()\n",
      "File \u001b[0;32m~/julia/hc-rl-thompson-sampling/sepsis/custom_sepsis/src/custom_sepsis/inference/dirichlet/full.py:50\u001b[0m, in \u001b[0;36mFullModel.transition_model\u001b[0;34m(self)\u001b[0m\n\u001b[1;32m     48\u001b[0m     \u001b[38;5;28;01mfor\u001b[39;00m j \u001b[38;5;129;01min\u001b[39;00m \u001b[38;5;28mrange\u001b[39m(n_actions):\n\u001b[1;32m     49\u001b[0m         counts \u001b[38;5;241m=\u001b[39m \u001b[38;5;28mself\u001b[39m\u001b[38;5;241m.\u001b[39mget_state_counts_decompressed()[i, j, :]\n\u001b[0;32m---> 50\u001b[0m         transition_probs \u001b[38;5;241m=\u001b[39m \u001b[43mnp\u001b[49m\u001b[38;5;241;43m.\u001b[39;49m\u001b[43mrandom\u001b[49m\u001b[38;5;241;43m.\u001b[39;49m\u001b[43mdirichlet\u001b[49m\u001b[43m(\u001b[49m\u001b[43mcounts\u001b[49m\u001b[43m)\u001b[49m\n\u001b[1;32m     51\u001b[0m         model[i, j, :] \u001b[38;5;241m=\u001b[39m transition_probs\n\u001b[1;32m     52\u001b[0m \u001b[38;5;28;01mreturn\u001b[39;00m model\n",
      "File \u001b[0;32mmtrand.pyx:4509\u001b[0m, in \u001b[0;36mnumpy.random.mtrand.RandomState.dirichlet\u001b[0;34m()\u001b[0m\n",
      "File \u001b[0;32m~/miniconda3/lib/python3.10/site-packages/numpy/core/fromnumeric.py:2317\u001b[0m, in \u001b[0;36m_any_dispatcher\u001b[0;34m(a, axis, out, keepdims, where)\u001b[0m\n\u001b[1;32m   2311\u001b[0m         \u001b[38;5;28;01mreturn\u001b[39;00m res\n\u001b[1;32m   2313\u001b[0m     \u001b[38;5;28;01mreturn\u001b[39;00m _wrapreduction(a, np\u001b[38;5;241m.\u001b[39madd, \u001b[38;5;124m'\u001b[39m\u001b[38;5;124msum\u001b[39m\u001b[38;5;124m'\u001b[39m, axis, dtype, out, keepdims\u001b[38;5;241m=\u001b[39mkeepdims,\n\u001b[1;32m   2314\u001b[0m                           initial\u001b[38;5;241m=\u001b[39minitial, where\u001b[38;5;241m=\u001b[39mwhere)\n\u001b[0;32m-> 2317\u001b[0m \u001b[38;5;28;01mdef\u001b[39;00m \u001b[38;5;21m_any_dispatcher\u001b[39m(a, axis\u001b[38;5;241m=\u001b[39m\u001b[38;5;28;01mNone\u001b[39;00m, out\u001b[38;5;241m=\u001b[39m\u001b[38;5;28;01mNone\u001b[39;00m, keepdims\u001b[38;5;241m=\u001b[39m\u001b[38;5;28;01mNone\u001b[39;00m, \u001b[38;5;241m*\u001b[39m,\n\u001b[1;32m   2318\u001b[0m                     where\u001b[38;5;241m=\u001b[39mnp\u001b[38;5;241m.\u001b[39m_NoValue):\n\u001b[1;32m   2319\u001b[0m     \u001b[38;5;28;01mreturn\u001b[39;00m (a, where, out)\n\u001b[1;32m   2322\u001b[0m \u001b[38;5;129m@array_function_dispatch\u001b[39m(_any_dispatcher)\n\u001b[1;32m   2323\u001b[0m \u001b[38;5;28;01mdef\u001b[39;00m \u001b[38;5;21many\u001b[39m(a, axis\u001b[38;5;241m=\u001b[39m\u001b[38;5;28;01mNone\u001b[39;00m, out\u001b[38;5;241m=\u001b[39m\u001b[38;5;28;01mNone\u001b[39;00m, keepdims\u001b[38;5;241m=\u001b[39mnp\u001b[38;5;241m.\u001b[39m_NoValue, \u001b[38;5;241m*\u001b[39m, where\u001b[38;5;241m=\u001b[39mnp\u001b[38;5;241m.\u001b[39m_NoValue):\n",
      "\u001b[0;31mKeyboardInterrupt\u001b[0m: "
     ]
    }
   ],
   "source": [
    "V = np.zeros(n_states)\n",
    "for i in range(start_episode+1, nr_episodes+1):\n",
    "    for key in range(3):\n",
    "        if (np.log2(i) % 1 == 0 and i<100) or (i % 100 == 0): # every power of 2 or 100 episodes, a new policy is computed\n",
    "            for model_type in model_types:\n",
    "                state_counts = ts[key][model_type].model.get_state_counts()\n",
    "                policy, V = matrix_value_iteration(V, ts[key][model_type].model.transition_model())\n",
    "                ts[key][model_type].add_data(i, rewards[key][model_type], policy, state_counts)\n",
    "                ts[key][model_type].save()\n",
    "        for model_type in model_types:\n",
    "            episode = run_episode(policies[key][model_type])\n",
    "            rewards[key][model_type].append(np.sum(episode.rewards))\n",
    "            ts[key][model_type].model.update_state_counts(episode)\n",
    "            "
   ]
  },
  {
   "cell_type": "code",
   "execution_count": null,
   "metadata": {},
   "outputs": [],
   "source": []
  }
 ],
 "metadata": {
  "kernelspec": {
   "display_name": "base",
   "language": "python",
   "name": "python3"
  },
  "language_info": {
   "codemirror_mode": {
    "name": "ipython",
    "version": 3
   },
   "file_extension": ".py",
   "mimetype": "text/x-python",
   "name": "python",
   "nbconvert_exporter": "python",
   "pygments_lexer": "ipython3",
   "version": "3.10.10"
  }
 },
 "nbformat": 4,
 "nbformat_minor": 2
}
