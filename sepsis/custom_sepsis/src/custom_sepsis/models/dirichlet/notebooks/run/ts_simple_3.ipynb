{
  "cells": [
    {
      "cell_type": "code",
      "execution_count": null,
      "metadata": {
        "id": "cvnzzQoOFode"
      },
      "outputs": [],
      "source": [
        "from google.colab import drive\n",
        "drive.mount('/content/drive')"
      ]
    },
    {
      "cell_type": "code",
      "execution_count": null,
      "metadata": {
        "id": "r7VSQbHfWYVQ"
      },
      "outputs": [],
      "source": [
        "%cd /content/drive/My Drive/hc-rl-thompson-sampling/sepsis/custom_sepsis/src/custom_sepsis"
      ]
    },
    {
      "cell_type": "code",
      "execution_count": null,
      "metadata": {
        "id": "JawcThttHMcv"
      },
      "outputs": [],
      "source": [
        "!pip install stable_baselines3"
      ]
    },
    {
      "cell_type": "code",
      "execution_count": null,
      "metadata": {
        "id": "sStfpxwKHaRC"
      },
      "outputs": [],
      "source": [
        "!pip install dill"
      ]
    },
    {
      "cell_type": "code",
      "execution_count": null,
      "metadata": {
        "id": "knNK19jyGpUl"
      },
      "outputs": [],
      "source": [
        "import sys\n",
        "import os\n",
        "sys.path.append(os.path.abspath(\"/content/drive/My Drive/hc-rl-thompson-sampling/sepsis/custom_sepsis/\"))\n",
        "\n",
        "import matplotlib.pyplot as plt\n",
        "import numpy as np\n",
        "from custom_sepsis import *"
      ]
    },
    {
      "cell_type": "code",
      "execution_count": null,
      "metadata": {},
      "outputs": [],
      "source": [
        "ts = DirThompsonSampling(create_model(Simplification.SIMPLE), {},{}, {},{}, f\"Simple-every-{3}\", {})\n",
        "policy = random_policy()\n",
        "rewards = {}\n"
      ]
    },
    {
      "cell_type": "code",
      "execution_count": null,
      "metadata": {
        "colab": {
          "base_uri": "https://localhost:8080/",
          "height": 1000
        },
        "id": "SYheWtTuFnfa",
        "outputId": "421302f4-943d-4182-f6ba-52b8364a799a"
      },
      "outputs": [],
      "source": [
        "V = np.zeros(n_states)\n",
        "for ep_ix in range(0,1000):\n",
        "    state_counts = ts.model.get_state_counts()\n",
        "    policy, V = matrix_value_iteration(V, ts.model.transition_model())\n",
        "    rewards[ep_ix] = evaluate_policy(policy, 100000)\n",
        "    ts.add_data(ep_ix, rewards, policy, state_counts)\n",
        "    episode = run_episode(policy)\n",
        "    ts.model.update_state_counts(episode)\n",
        "    ts.save_json()\n",
        "    print(f\"Episode {ep_ix}, done\")\n"
      ]
    }
  ],
  "metadata": {
    "colab": {
      "provenance": []
    },
    "kernelspec": {
      "display_name": "base",
      "language": "python",
      "name": "python3"
    },
    "language_info": {
      "codemirror_mode": {
        "name": "ipython",
        "version": 3
      },
      "file_extension": ".py",
      "mimetype": "text/x-python",
      "name": "python",
      "nbconvert_exporter": "python",
      "pygments_lexer": "ipython3",
      "version": "3.10.10"
    }
  },
  "nbformat": 4,
  "nbformat_minor": 0
}
