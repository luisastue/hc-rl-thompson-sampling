{
 "cells": [
  {
   "cell_type": "code",
   "execution_count": 8,
   "metadata": {},
   "outputs": [],
   "source": [
    "import matplotlib.pyplot as plt\n",
    "import numpy as np\n",
    "from custom_sepsis import *"
   ]
  },
  {
   "cell_type": "markdown",
   "metadata": {},
   "source": [
    "# History of 100"
   ]
  },
  {
   "cell_type": "code",
   "execution_count": 9,
   "metadata": {},
   "outputs": [],
   "source": [
    "history = [run_episode(random_policy()) for _ in range(100)]"
   ]
  },
  {
   "cell_type": "code",
   "execution_count": 10,
   "metadata": {},
   "outputs": [],
   "source": [
    "hr_counts = init_hr_counts()\n",
    "bp_counts = init_bp_counts()\n",
    "o2_counts = init_o2_counts()\n",
    "glu_counts = init_glu_counts()\n",
    "state_counts = hr_counts, bp_counts, o2_counts, glu_counts\n",
    "for episode in history:\n",
    "    state_counts = update_factored_counts(episode, *state_counts)"
   ]
  },
  {
   "cell_type": "code",
   "execution_count": 11,
   "metadata": {},
   "outputs": [],
   "source": [
    "env = TrModelEnv(transition_model_factored(*state_counts))\n",
    "trmod_hist = train_dqn(env=env, nr_iter=100000, name=\"Transition_Model_Factored_100_History_100000_train\")\n",
    "# trmod_hist = Training.load(\"data/trainings/DQN-Transition_Model_History_of_100000_object.pkl\")"
   ]
  },
  {
   "cell_type": "code",
   "execution_count": 12,
   "metadata": {},
   "outputs": [
    {
     "data": {
      "text/plain": [
       "-0.3175"
      ]
     },
     "execution_count": 12,
     "metadata": {},
     "output_type": "execute_result"
    }
   ],
   "source": [
    "trmod_hist.evaluate_policy(10000)"
   ]
  },
  {
   "cell_type": "code",
   "execution_count": 84,
   "metadata": {},
   "outputs": [
    {
     "data": {
      "text/plain": [
       "-0.69243"
      ]
     },
     "execution_count": 84,
     "metadata": {},
     "output_type": "execute_result"
    }
   ],
   "source": [
    "dqn_training = train_dqn(true_env, 100, \"test\")\n",
    "dqn_training.evaluate_policy(100000)"
   ]
  },
  {
   "cell_type": "markdown",
   "metadata": {},
   "source": [
    "# History of 1000"
   ]
  },
  {
   "cell_type": "code",
   "execution_count": 13,
   "metadata": {},
   "outputs": [],
   "source": [
    "history_1000 = [run_episode(random_policy()) for _ in range(1000)]\n",
    "hr_counts = init_hr_counts()\n",
    "bp_counts = init_bp_counts()\n",
    "o2_counts = init_o2_counts()\n",
    "glu_counts = init_glu_counts()\n",
    "state_counts = hr_counts, bp_counts, o2_counts, glu_counts\n",
    "for episode in history_1000:\n",
    "    state_counts = update_factored_counts(episode, *state_counts)\n",
    "    \n",
    "env = TrModelEnv(transition_model_factored(*state_counts))\n",
    "trmod_hist_1000 = train_dqn(env=env, nr_iter=100000, name=\"Transition_Model_Factored_1000_History_100000_train\")"
   ]
  },
  {
   "cell_type": "code",
   "execution_count": 14,
   "metadata": {},
   "outputs": [
    {
     "data": {
      "text/plain": [
       "-0.2248"
      ]
     },
     "execution_count": 14,
     "metadata": {},
     "output_type": "execute_result"
    }
   ],
   "source": [
    "trmod_hist_1000.evaluate_policy(10000)\n"
   ]
  },
  {
   "cell_type": "code",
   "execution_count": null,
   "metadata": {},
   "outputs": [
    {
     "data": {
      "text/plain": [
       "-0.43129"
      ]
     },
     "execution_count": 78,
     "metadata": {},
     "output_type": "execute_result"
    }
   ],
   "source": [
    "dqn_training = train_dqn(true_env, 1000, \"test\")\n",
    "dqn_training.evaluate_policy(100000)"
   ]
  },
  {
   "cell_type": "markdown",
   "metadata": {},
   "source": [
    "# History of 5000"
   ]
  },
  {
   "cell_type": "code",
   "execution_count": 15,
   "metadata": {},
   "outputs": [],
   "source": [
    "history_5000 = [run_episode(random_policy()) for _ in range(5000)]\n",
    "hr_counts = init_hr_counts()\n",
    "bp_counts = init_bp_counts()\n",
    "o2_counts = init_o2_counts()\n",
    "glu_counts = init_glu_counts()\n",
    "state_counts = hr_counts, bp_counts, o2_counts, glu_counts\n",
    "for episode in history_5000:\n",
    "    state_counts = update_factored_counts(episode, *state_counts)\n",
    "    \n",
    "env = TrModelEnv(transition_model_factored(*state_counts))\n",
    "trmod_hist_5000 = train_dqn(env=env, nr_iter=100000, name=\"Transition_Model_Factored_5000_History_100000_train\")"
   ]
  },
  {
   "cell_type": "code",
   "execution_count": 16,
   "metadata": {},
   "outputs": [
    {
     "data": {
      "text/plain": [
       "-0.2567"
      ]
     },
     "execution_count": 16,
     "metadata": {},
     "output_type": "execute_result"
    }
   ],
   "source": [
    "trmod_hist_5000.evaluate_policy(10000)\n"
   ]
  },
  {
   "cell_type": "code",
   "execution_count": 5,
   "metadata": {},
   "outputs": [
    {
     "data": {
      "text/plain": [
       "-0.45495"
      ]
     },
     "execution_count": 5,
     "metadata": {},
     "output_type": "execute_result"
    }
   ],
   "source": [
    "dqn_training = train_dqn(true_env, 5000, \"test\")\n",
    "dqn_training.evaluate_policy(100000)"
   ]
  },
  {
   "cell_type": "markdown",
   "metadata": {},
   "source": [
    "# History of 10'000"
   ]
  },
  {
   "cell_type": "code",
   "execution_count": 17,
   "metadata": {},
   "outputs": [],
   "source": [
    "history_10000 = [run_episode(random_policy()) for _ in range(10000)]\n",
    "hr_counts = init_hr_counts()\n",
    "bp_counts = init_bp_counts()\n",
    "o2_counts = init_o2_counts()\n",
    "glu_counts = init_glu_counts()\n",
    "state_counts = hr_counts, bp_counts, o2_counts, glu_counts\n",
    "for episode in history_10000:\n",
    "    state_counts = update_factored_counts(episode, *state_counts)\n",
    "    \n",
    "env = TrModelEnv(transition_model_factored(*state_counts))\n",
    "trmod_hist_10000 = train_dqn(env=env, nr_iter=100000, name=\"Transition_Model_Factored_10000_History_100000_train\")"
   ]
  },
  {
   "cell_type": "code",
   "execution_count": 18,
   "metadata": {},
   "outputs": [
    {
     "data": {
      "text/plain": [
       "-0.1975"
      ]
     },
     "execution_count": 18,
     "metadata": {},
     "output_type": "execute_result"
    }
   ],
   "source": [
    "trmod_hist_10000.evaluate_policy(10000)\n"
   ]
  },
  {
   "cell_type": "code",
   "execution_count": 8,
   "metadata": {},
   "outputs": [
    {
     "data": {
      "text/plain": [
       "-0.45248"
      ]
     },
     "execution_count": 8,
     "metadata": {},
     "output_type": "execute_result"
    }
   ],
   "source": [
    "dqn_training = train_dqn(true_env, 10000, \"test\")\n",
    "dqn_training.evaluate_policy(100000)"
   ]
  },
  {
   "cell_type": "markdown",
   "metadata": {},
   "source": [
    "# Plot"
   ]
  },
  {
   "cell_type": "code",
   "execution_count": 19,
   "metadata": {},
   "outputs": [],
   "source": [
    "trmod_hist = Training.load(\"data/trainings/DQN-Transition_Model_Factored_100_History_100000_train_object.pkl\")\n",
    "trmod_hist_1000 = Training.load(\"data/trainings/DQN-Transition_Model_Factored_1000_History_100000_train_object.pkl\")\n",
    "trmod_hist_5000 = Training.load(\"data/trainings/DQN-Transition_Model_Factored_5000_History_100000_train_object.pkl\")\n",
    "trmod_hist_10000 = Training.load(\"data/trainings/DQN-Transition_Model_Factored_10000_History_100000_train_object.pkl\")\n",
    "\n"
   ]
  },
  {
   "cell_type": "code",
   "execution_count": 20,
   "metadata": {},
   "outputs": [],
   "source": [
    "# Number of episodes in the history\n",
    "history_sizes = [100, 1000, 5000, 10000]\n",
    "\n",
    "# Evaluation results\n",
    "evaluation_results = [\n",
    "    trmod_hist.evaluate_policy(10000),\n",
    "    trmod_hist_1000.evaluate_policy(10000),\n",
    "    trmod_hist_5000.evaluate_policy(10000),\n",
    "    trmod_hist_10000.evaluate_policy(10000),\n",
    "]"
   ]
  },
  {
   "cell_type": "code",
   "execution_count": null,
   "metadata": {},
   "outputs": [
    {
     "data": {
      "image/png": "[encoded data removed]",
      "text/plain": [
       "<Figure size 1000x600 with 1 Axes>"
      ]
     },
     "metadata": {},
     "output_type": "display_data"
    }
   ],
   "source": [
    "\n",
    "# Plotting\n",
    "plt.figure(figsize=(10, 6))\n",
    "plt.plot(history_sizes, evaluation_results, marker='o')\n",
    "plt.xlabel('Number of Episodes in History')\n",
    "plt.ylabel('Evaluation Result')\n",
    "plt.title('Evaluation Results vs Number of Episodes in History')\n",
    "plt.grid(True)\n",
    "\n",
    "plt.show()"
   ]
  },
  {
   "cell_type": "code",
   "execution_count": null,
   "metadata": {},
   "outputs": [],
   "source": []
  },
  {
   "cell_type": "code",
   "execution_count": null,
   "metadata": {},
   "outputs": [],
   "source": []
  }
 ],
 "metadata": {
  "kernelspec": {
   "display_name": "base",
   "language": "python",
   "name": "python3"
  },
  "language_info": {
   "codemirror_mode": {
    "name": "ipython",
    "version": 3
   },
   "file_extension": ".py",
   "mimetype": "text/x-python",
   "name": "python",
   "nbconvert_exporter": "python",
   "pygments_lexer": "ipython3",
   "version": "3.10.10"
  }
 },
 "nbformat": 4,
 "nbformat_minor": 2
}
