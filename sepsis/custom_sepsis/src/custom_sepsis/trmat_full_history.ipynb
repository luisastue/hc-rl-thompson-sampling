{
 "cells": [
  {
   "cell_type": "code",
   "execution_count": 1,
   "metadata": {},
   "outputs": [],
   "source": [
    "import matplotlib.pyplot as plt\n",
    "import numpy as np\n",
    "from custom_sepsis import *"
   ]
  },
  {
   "cell_type": "markdown",
   "metadata": {},
   "source": [
    "# History of 100"
   ]
  },
  {
   "cell_type": "code",
   "execution_count": 16,
   "metadata": {},
   "outputs": [],
   "source": [
    "history = [run_episode(random_policy()) for _ in range(100)]"
   ]
  },
  {
   "cell_type": "code",
   "execution_count": 17,
   "metadata": {},
   "outputs": [],
   "source": [
    "state_counts = np.ones((len(STATES), len(ACTIONS), len(STATES)))\n",
    "for episode in history:\n",
    "    state_counts = update_full_counts(episode, state_counts)"
   ]
  },
  {
   "cell_type": "code",
   "execution_count": 18,
   "metadata": {},
   "outputs": [],
   "source": [
    "env = TrModelEnv(transition_model_full(state_counts))\n",
    "trmod_hist = train_dqn(env=env, nr_iter=100000, name=\"Transition_Model_Full_100_History_100000_train\")"
   ]
  },
  {
   "cell_type": "code",
   "execution_count": 8,
   "metadata": {},
   "outputs": [
    {
     "data": {
      "text/plain": [
       "-0.7438"
      ]
     },
     "execution_count": 8,
     "metadata": {},
     "output_type": "execute_result"
    }
   ],
   "source": [
    "trmod_hist.evaluate_policy(10000)"
   ]
  },
  {
   "cell_type": "code",
   "execution_count": 9,
   "metadata": {},
   "outputs": [
    {
     "data": {
      "text/plain": [
       "-0.4276"
      ]
     },
     "execution_count": 9,
     "metadata": {},
     "output_type": "execute_result"
    }
   ],
   "source": [
    "dqn_training = train_dqn(true_env, 100, \"test\")\n",
    "dqn_training.evaluate_policy(100000)"
   ]
  },
  {
   "cell_type": "markdown",
   "metadata": {},
   "source": [
    "# History of 1000"
   ]
  },
  {
   "cell_type": "code",
   "execution_count": null,
   "metadata": {},
   "outputs": [],
   "source": [
    "history_1000 = [run_episode(random_policy()) for _ in range(1000)]\n",
    "state_counts = np.ones((len(STATES), len(ACTIONS), len(STATES)))\n",
    "for episode in history_1000:\n",
    "    state_counts = update_full_counts(episode, state_counts)\n",
    "    \n",
    "env = TrModelEnv(transition_model_full(state_counts))\n",
    "trmod_hist_1000 = train_dqn(env=env, nr_iter=100000, name=\"Transition_Model_Full_1000_History_100000_train\")\n"
   ]
  },
  {
   "cell_type": "code",
   "execution_count": null,
   "metadata": {},
   "outputs": [
    {
     "data": {
      "text/plain": [
       "-0.6556"
      ]
     },
     "execution_count": 13,
     "metadata": {},
     "output_type": "execute_result"
    }
   ],
   "source": [
    "trmod_hist_1000.evaluate_policy(10000)"
   ]
  },
  {
   "cell_type": "code",
   "execution_count": 14,
   "metadata": {},
   "outputs": [
    {
     "data": {
      "text/plain": [
       "-0.41957"
      ]
     },
     "execution_count": 14,
     "metadata": {},
     "output_type": "execute_result"
    }
   ],
   "source": [
    "dqn_training = train_dqn(true_env, 1000, \"test\")\n",
    "dqn_training.evaluate_policy(100000)"
   ]
  },
  {
   "cell_type": "markdown",
   "metadata": {},
   "source": [
    "# History of 5000"
   ]
  },
  {
   "cell_type": "code",
   "execution_count": 12,
   "metadata": {},
   "outputs": [],
   "source": [
    "history_5000 = [run_episode(random_policy()) for _ in range(5000)]\n",
    "state_counts = np.ones((len(STATES), len(ACTIONS), len(STATES)))\n",
    "for episode in history_5000:\n",
    "    state_counts = update_full_counts(episode, state_counts)\n",
    "    \n",
    "env = TrModelEnv(transition_model_full(state_counts))\n",
    "trmod_hist_5000 = train_dqn(env=env, nr_iter=100000, name=\"Transition_Model_Full_5000_History_100000_train\")"
   ]
  },
  {
   "cell_type": "code",
   "execution_count": 15,
   "metadata": {},
   "outputs": [
    {
     "data": {
      "text/plain": [
       "-0.7148"
      ]
     },
     "execution_count": 15,
     "metadata": {},
     "output_type": "execute_result"
    }
   ],
   "source": [
    "trmod_hist_5000.evaluate_policy(10000)\n"
   ]
  },
  {
   "cell_type": "code",
   "execution_count": 16,
   "metadata": {},
   "outputs": [
    {
     "data": {
      "text/plain": [
       "-0.44857"
      ]
     },
     "execution_count": 16,
     "metadata": {},
     "output_type": "execute_result"
    }
   ],
   "source": [
    "dqn_training = train_dqn(true_env, 5000, \"test\")\n",
    "dqn_training.evaluate_policy(100000)"
   ]
  },
  {
   "cell_type": "markdown",
   "metadata": {},
   "source": [
    "# History of 10'000"
   ]
  },
  {
   "cell_type": "code",
   "execution_count": 17,
   "metadata": {},
   "outputs": [],
   "source": [
    "history_10000 = [run_episode(random_policy()) for _ in range(10000)]\n",
    "state_counts = np.ones((len(STATES), len(ACTIONS), len(STATES)))\n",
    "for episode in history_10000:\n",
    "    state_counts = update_full_counts(episode, state_counts)\n",
    "    \n",
    "env = TrModelEnv(transition_model_full(state_counts))\n",
    "trmod_hist_10000 = train_dqn(env=env, nr_iter=100000, name=\"Transition_Model_Full_10000_History_100000_train\")"
   ]
  },
  {
   "cell_type": "code",
   "execution_count": 18,
   "metadata": {},
   "outputs": [
    {
     "data": {
      "text/plain": [
       "-0.684"
      ]
     },
     "execution_count": 18,
     "metadata": {},
     "output_type": "execute_result"
    }
   ],
   "source": [
    "trmod_hist_10000.evaluate_policy(10000)\n"
   ]
  },
  {
   "cell_type": "code",
   "execution_count": 19,
   "metadata": {},
   "outputs": [
    {
     "data": {
      "text/plain": [
       "-0.43701"
      ]
     },
     "execution_count": 19,
     "metadata": {},
     "output_type": "execute_result"
    }
   ],
   "source": [
    "dqn_training = train_dqn(true_env, 10000, \"test\")\n",
    "dqn_training.evaluate_policy(100000)"
   ]
  },
  {
   "cell_type": "markdown",
   "metadata": {},
   "source": [
    "# History of 100'000"
   ]
  },
  {
   "cell_type": "code",
   "execution_count": 20,
   "metadata": {},
   "outputs": [],
   "source": [
    "history_100000 = [run_episode(random_policy()) for _ in range(100000)]\n",
    "state_counts = np.ones((len(STATES), len(ACTIONS), len(STATES)))\n",
    "for episode in history_100000:\n",
    "    state_counts = update_full_counts(episode, state_counts)\n",
    "    \n",
    "env = TrModelEnv(transition_model_full(state_counts))\n",
    "trmod_hist_100000 = train_dqn(env=env, nr_iter=100000, name=\"Transition_Model_Full_100000_History_100000_train\")"
   ]
  },
  {
   "cell_type": "code",
   "execution_count": null,
   "metadata": {},
   "outputs": [
    {
     "data": {
      "text/plain": [
       "-0.6659"
      ]
     },
     "execution_count": 21,
     "metadata": {},
     "output_type": "execute_result"
    }
   ],
   "source": [
    "trmod_hist_100000.evaluate_policy(10000)"
   ]
  },
  {
   "cell_type": "code",
   "execution_count": 22,
   "metadata": {},
   "outputs": [
    {
     "data": {
      "text/plain": [
       "-0.16424"
      ]
     },
     "execution_count": 22,
     "metadata": {},
     "output_type": "execute_result"
    }
   ],
   "source": [
    "dqn_training = train_dqn(true_env, 100000, \"test\")\n",
    "dqn_training.evaluate_policy(100000)"
   ]
  },
  {
   "cell_type": "markdown",
   "metadata": {},
   "source": [
    "# History of 1'000'000"
   ]
  },
  {
   "cell_type": "code",
   "execution_count": 10,
   "metadata": {},
   "outputs": [],
   "source": [
    "state_counts = np.ones((len(STATES), len(ACTIONS), len(STATES)))\n",
    "for _ in range(1000000):\n",
    "    state_counts = update_full_counts(run_episode(random_policy()), state_counts)\n",
    "    "
   ]
  },
  {
   "cell_type": "code",
   "execution_count": 11,
   "metadata": {},
   "outputs": [
    {
     "data": {
      "text/plain": [
       "-0.3973"
      ]
     },
     "execution_count": 11,
     "metadata": {},
     "output_type": "execute_result"
    }
   ],
   "source": [
    "env = TrModelEnv(transition_model_full(state_counts))\n",
    "trmod_hist_1000000 = train_dqn(env=env, nr_iter=100000, name=\"Transition_Model_Full_1000000_History_100000_train\")\n",
    "trmod_hist_1000000.evaluate_policy(10000)"
   ]
  },
  {
   "cell_type": "code",
   "execution_count": 4,
   "metadata": {},
   "outputs": [
    {
     "data": {
      "text/plain": [
       "-0.08435"
      ]
     },
     "execution_count": 4,
     "metadata": {},
     "output_type": "execute_result"
    }
   ],
   "source": [
    "dqn_training = train_dqn(true_env, 1000000, \"test\")\n",
    "dqn_training.evaluate_policy(100000)"
   ]
  },
  {
   "cell_type": "markdown",
   "metadata": {},
   "source": [
    "# History of 2'000'000 \n",
    "Adding another 1'000'000 to the history of 1'000'000"
   ]
  },
  {
   "cell_type": "code",
   "execution_count": 5,
   "metadata": {},
   "outputs": [],
   "source": [
    "for _ in range(1000000):\n",
    "    state_counts = update_full_counts(run_episode(random_policy()), state_counts)\n"
   ]
  },
  {
   "cell_type": "code",
   "execution_count": null,
   "metadata": {},
   "outputs": [
    {
     "data": {
      "text/plain": [
       "-0.3988"
      ]
     },
     "execution_count": 14,
     "metadata": {},
     "output_type": "execute_result"
    }
   ],
   "source": [
    "# trmod_hist_2000000 = Training.load(\"data/trainings/DQN-Transition_Model_Full_2000000_History_100000_train_object.pkl\")\n",
    "env = TrModelEnv(transition_model_full(state_counts))\n",
    "trmod_hist_2000000 = train_dqn(env=env, nr_iter=100000, name=\"Transition_Model_Full_2000000_History_100000_train\")\n",
    "trmod_hist_2000000.evaluate_policy(10000)"
   ]
  },
  {
   "cell_type": "code",
   "execution_count": 7,
   "metadata": {},
   "outputs": [
    {
     "data": {
      "text/plain": [
       "-0.07934"
      ]
     },
     "execution_count": 7,
     "metadata": {},
     "output_type": "execute_result"
    }
   ],
   "source": [
    "dqn_training = train_dqn(true_env, 2000000, \"test\")\n",
    "dqn_training.evaluate_policy(100000)"
   ]
  },
  {
   "cell_type": "markdown",
   "metadata": {},
   "source": [
    "# History of 3'000'000\n",
    "Adding another 1'000'000 to the history of 2'000'000"
   ]
  },
  {
   "cell_type": "code",
   "execution_count": 8,
   "metadata": {},
   "outputs": [],
   "source": [
    "for _ in range(1000000):\n",
    "    state_counts = update_full_counts(run_episode(random_policy()), state_counts)\n"
   ]
  },
  {
   "cell_type": "code",
   "execution_count": 9,
   "metadata": {},
   "outputs": [
    {
     "data": {
      "text/plain": [
       "-0.2297"
      ]
     },
     "execution_count": 9,
     "metadata": {},
     "output_type": "execute_result"
    }
   ],
   "source": [
    "env = TrModelEnv(transition_model_full(state_counts))\n",
    "trmod_hist_3000000 = train_dqn(env=env, nr_iter=100000, name=\"Transition_Model_Full_3000000_History_100000_train\")\n",
    "trmod_hist_3000000.evaluate_policy(10000)"
   ]
  },
  {
   "cell_type": "markdown",
   "metadata": {},
   "source": [
    "# Plots"
   ]
  },
  {
   "cell_type": "code",
   "execution_count": 20,
   "metadata": {},
   "outputs": [],
   "source": [
    "trmod_hist = Training.load(\"data/trainings/DQN-Transition_Model_Full_100_History_100000_train_object.pkl\")\n",
    "trmod_hist_1000 = Training.load(\"data/trainings/DQN-Transition_Model_Full_1000_History_100000_train_object.pkl\")\n",
    "trmod_hist_5000 = Training.load(\"data/trainings/DQN-Transition_Model_Full_5000_History_100000_train_object.pkl\")\n",
    "trmod_hist_10000 = Training.load(\"data/trainings/DQN-Transition_Model_Full_10000_History_100000_train_object.pkl\")\n",
    "trmod_hist_100000 = Training.load(\"data/trainings/DQN-Transition_Model_Full_100000_History_100000_train_object.pkl\")\n",
    "trmod_hist_1000000 = Training.load(\"data/trainings/DQN-Transition_Model_Full_1000000_History_100000_train_object.pkl\")\n",
    "trmod_hist_2000000 = Training.load(\"data/trainings/DQN-Transition_Model_Full_2000000_History_100000_train_object.pkl\")\n",
    "trmod_hist_3000000 = Training.load(\"data/trainings/DQN-Transition_Model_Full_3000000_History_100000_train_object.pkl\")\n"
   ]
  },
  {
   "cell_type": "code",
   "execution_count": null,
   "metadata": {},
   "outputs": [],
   "source": [
    "# Number of episodes in the history\n",
    "history_sizes = [100, 1000, 5000, 10000, 100000, 1000000, 2000000, 3000000]\n",
    "\n",
    "# Evaluation results\n",
    "evaluation_results = [\n",
    "    trmod_hist.evaluate_policy(10000),\n",
    "    trmod_hist_1000.evaluate_policy(10000),\n",
    "    trmod_hist_5000.evaluate_policy(10000),\n",
    "    trmod_hist_10000.evaluate_policy(10000),\n",
    "    trmod_hist_100000.evaluate_policy(10000),\n",
    "    trmod_hist_1000000.evaluate_policy(10000),\n",
    "    trmod_hist_2000000.evaluate_policy(10000),\n",
    "    trmod_hist_3000000.evaluate_policy(10000)\n",
    "]"
   ]
  },
  {
   "cell_type": "code",
   "execution_count": 25,
   "metadata": {},
   "outputs": [
    {
     "data": {
      "image/png": "[encoded data removed]",
      "text/plain": [
       "<Figure size 1000x600 with 1 Axes>"
      ]
     },
     "metadata": {},
     "output_type": "display_data"
    }
   ],
   "source": [
    "\n",
    "# Plotting\n",
    "plt.figure(figsize=(10, 6))\n",
    "plt.plot(history_sizes, evaluation_results, marker='o')\n",
    "plt.xlabel('Number of Episodes in History')\n",
    "plt.ylabel('Evaluation Result')\n",
    "plt.title('Evaluation Results vs Number of Episodes in History')\n",
    "plt.xscale('log')\n",
    "plt.grid(True)\n",
    "plt.show()"
   ]
  },
  {
   "cell_type": "code",
   "execution_count": null,
   "metadata": {},
   "outputs": [],
   "source": []
  }
 ],
 "metadata": {
  "kernelspec": {
   "display_name": "base",
   "language": "python",
   "name": "python3"
  },
  "language_info": {
   "codemirror_mode": {
    "name": "ipython",
    "version": 3
   },
   "file_extension": ".py",
   "mimetype": "text/x-python",
   "name": "python",
   "nbconvert_exporter": "python",
   "pygments_lexer": "ipython3",
   "version": "3.10.10"
  }
 },
 "nbformat": 4,
 "nbformat_minor": 2
}
