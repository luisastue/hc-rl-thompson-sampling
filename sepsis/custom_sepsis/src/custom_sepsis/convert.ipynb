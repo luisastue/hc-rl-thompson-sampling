{
 "cells": [
  {
   "cell_type": "code",
   "execution_count": 2,
   "metadata": {},
   "outputs": [],
   "source": [
    "import matplotlib.pyplot as plt\n",
    "import numpy as np\n",
    "from custom_sepsis import *\n"
   ]
  },
  {
   "cell_type": "code",
   "execution_count": 7,
   "metadata": {},
   "outputs": [],
   "source": [
    "for i in range(3):\n",
    "    simple = DirThompsonSampling.load(f\"data/dir_ts/Simple-{i}.pkl.gz\")\n",
    "    simple.save_json()\n",
    "    simple = DirThompsonSampling.load_json(f\"json/dirichlet/ts/Simple-{i}.json\")\n",
    "    medium = DirThompsonSampling.load(f\"data/dir_ts/Medium-{i}.pkl.gz\")\n",
    "    medium.save_json()\n",
    "    medium = DirThompsonSampling.load_json(f\"json/dirichlet/ts/Medium-{i}.json\")\n",
    "    full = FullThompsonSampling.load(f\"data/dir_ts/None-{i}.pkl.gz\")\n",
    "    full.save_json()\n",
    "    full = DirThompsonSampling.load_json(f\"json/dirichlet/ts/None-{i}.json\")\n",
    "    \n"
   ]
  },
  {
   "cell_type": "code",
   "execution_count": null,
   "metadata": {},
   "outputs": [],
   "source": [
    "ts100 = None\n",
    "with gzip.open(\"data/dir_ts/TS-100.pkl.gz\", 'rb') as file:\n",
    "    file = pickle.load(file)\n",
    "    file.models = file.state_counts\n",
    "    ts100 = file\n",
    "ts100.save_json()\n",
    "ts100 = DirThompsonSampling.load_json(f\"json/dirichlet/ts/TS-100.json\")"
   ]
  },
  {
   "cell_type": "code",
   "execution_count": 12,
   "metadata": {},
   "outputs": [],
   "source": [
    "simple = DirHistory.load('data/history/Simple.pkl')\n",
    "medium = DirHistory.load('data/history/Medium.pkl')\n",
    "full = DirHistory.load('data/history/None.pkl')\n",
    "simple.save_json()\n",
    "medium.save_json()\n",
    "full.save_json()"
   ]
  }
 ],
 "metadata": {
  "kernelspec": {
   "display_name": "base",
   "language": "python",
   "name": "python3"
  },
  "language_info": {
   "codemirror_mode": {
    "name": "ipython",
    "version": 3
   },
   "file_extension": ".py",
   "mimetype": "text/x-python",
   "name": "python",
   "nbconvert_exporter": "python",
   "pygments_lexer": "ipython3",
   "version": "3.10.10"
  }
 },
 "nbformat": 4,
 "nbformat_minor": 2
}
