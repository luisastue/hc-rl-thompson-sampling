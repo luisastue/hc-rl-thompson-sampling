{
 "cells": [
  {
   "cell_type": "markdown",
   "metadata": {},
   "source": [
    "# Simple"
   ]
  },
  {
   "cell_type": "code",
   "execution_count": 9,
   "metadata": {},
   "outputs": [],
   "source": [
    "import matplotlib.pyplot as plt\n",
    "import numpy as np\n",
    "from custom_sepsis import *"
   ]
  },
  {
   "cell_type": "code",
   "execution_count": 16,
   "metadata": {},
   "outputs": [],
   "source": [
    "# ts = [DirThompsonSampling.load(f\"data/dir_ts/Simple-every-{0}.pkl.gz\") for i in range(3)]\n",
    "ts = [DirThompsonSampling(create_model(Simplification.SIMPLE), {}, {},{}, f\"Simple-every-{i}\", {}) for i in range(3)]\n",
    "policies = [random_policy() for _ in range(3)]\n",
    "rewards = [{} for _ in range(3)]"
   ]
  },
  {
   "cell_type": "code",
   "execution_count": 20,
   "metadata": {},
   "outputs": [],
   "source": [
    "nr_episodes = 150"
   ]
  },
  {
   "cell_type": "code",
   "execution_count": null,
   "metadata": {},
   "outputs": [],
   "source": [
    "V = np.zeros(n_states)\n",
    "# start_ep = list(ts[0].policies.keys())[-1]\n",
    "for i in range(101, nr_episodes+1):\n",
    "    if True: #(np.log2(i) % 1 == 0 and i<100) or (i % 100 == 0): # every power of 2 or 100 episodes, a new policy is computed\n",
    "        for m in range(3):\n",
    "            state_counts = ts[m].model.get_state_counts()\n",
    "            policy, V = matrix_value_iteration(V, ts[m].model.transition_model())\n",
    "            ts[m].add_data(i, rewards[m], policy, state_counts)\n",
    "            policies[m] = policy\n",
    "            ts[m].save()\n",
    "            rewards[m] = {}\n",
    "            print(f\"Episode {i}, {m} done\")\n",
    "    for m in range(3):\n",
    "        episode = run_episode(policies[m])\n",
    "        rewards[m][i] = (np.sum(episode.rewards))\n",
    "        ts[m].model.update_state_counts(episode)\n",
    "            "
   ]
  },
  {
   "cell_type": "code",
   "execution_count": null,
   "metadata": {},
   "outputs": [],
   "source": []
  }
 ],
 "metadata": {
  "kernelspec": {
   "display_name": "base",
   "language": "python",
   "name": "python3"
  },
  "language_info": {
   "codemirror_mode": {
    "name": "ipython",
    "version": 3
   },
   "file_extension": ".py",
   "mimetype": "text/x-python",
   "name": "python",
   "nbconvert_exporter": "python",
   "pygments_lexer": "ipython3",
   "version": "3.10.10"
  }
 },
 "nbformat": 4,
 "nbformat_minor": 2
}
