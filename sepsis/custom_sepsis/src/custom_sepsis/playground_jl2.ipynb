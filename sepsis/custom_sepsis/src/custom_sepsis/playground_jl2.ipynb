{
 "cells": [
  {
   "cell_type": "code",
   "execution_count": 1,
   "metadata": {},
   "outputs": [],
   "source": [
    "include(\"inference/mcmc/sepsis_types.jl\")\n",
    "using .SepsisTypes\n",
    "include(\"inference/mcmc/sepsis.jl\")\n",
    "using .Sepsis\n",
    "include(\"inference/mcmc/inference.jl\")\n",
    "using .Inference\n",
    "using Revise\n",
    "using PyCall;\n",
    "using Gen;\n",
    "using CairoMakie\n",
    "sepsis_gym = pyimport(\"custom_sepsis\");\n",
    "np = pyimport(\"numpy\");\n",
    "using BenchmarkTools\n"
   ]
  },
  {
   "cell_type": "code",
   "execution_count": 42,
   "metadata": {},
   "outputs": [],
   "source": [
    "function get_transition_matrix(parameters::Parameters)\n",
    "    states = enumerate(sepsis_gym.STATES)\n",
    "    n_states = length(states)\n",
    "    actions = enumerate(sepsis_gym.ACTIONS)\n",
    "    n_actions = length(states)\n",
    "    transition_matrix = PyObject(np.ndarray((n_states, n_actions, n_states)))\n",
    "    for (i, state) in states\n",
    "        state = to_state(state)\n",
    "        for (j, action) in actions\n",
    "            action = to_action(action)\n",
    "            hr_p = hr_probs(parameters, state, action)\n",
    "            hr_p = Dict(\n",
    "                LOW => hr_p[1],\n",
    "                NORMAL => hr_p[2],\n",
    "                HIGH => hr_p[3]\n",
    "                )\n",
    "            bp_p = bp_probs(parameters, state, action)\n",
    "            bp_p = Dict(\n",
    "                LOW => bp_p[1],\n",
    "                NORMAL => bp_p[2],\n",
    "                HIGH => bp_p[3]\n",
    "                )\n",
    "            o2_p = o2_probs(parameters, state, action)\n",
    "            o2_p = Dict(\n",
    "                LOW => o2_p[1],\n",
    "                NORMAL => o2_p[2],\n",
    "                )\n",
    "            glu_p = glu_probs(parameters, state, action)\n",
    "            glu_p = Dict(\n",
    "                SUPER_LOW => glu_p[1],\n",
    "                LOW => glu_p[2],\n",
    "                NORMAL => glu_p[3],\n",
    "                HIGH => glu_p[4],\n",
    "                SUPER_HIGH => glu_p[5]\n",
    "                )\n",
    "\n",
    "            diab_p = Dict(true=> Int(state.diabetic), false=> Int(!state.diabetic))\n",
    "            abx_p = Dict(true=> Int(action.abx), false=> Int(action.abx))\n",
    "            vaso_p = Dict(true=> Int(action.vaso), false=> Int(action.vaso))\n",
    "            vent_p = Dict(true=> Int(action.vent), false=> Int(action.vent))\n",
    "            \n",
    "            for (k, next_state) in states\n",
    "                next_state = to_state(next_state)\n",
    "                transition_matrix[i-1, j-1, k-1] = hr_p[next_state.hr] * bp_p[next_state.bp] * o2_p[next_state.o2] * glu_p[next_state.glu] * diab_p[next_state.diabetic] * abx_p[next_state.abx] * vaso_p[next_state.vaso] * vent_p[next_state.vent]\n",
    "            end\n",
    "        end\n",
    "    end\n",
    "    return transition_matrix\n",
    "end;"
   ]
  },
  {
   "cell_type": "code",
   "execution_count": null,
   "metadata": {},
   "outputs": [],
   "source": [
    "pms = @btime get_parameters()"
   ]
  },
  {
   "cell_type": "code",
   "execution_count": 20,
   "metadata": {},
   "outputs": [
    {
     "name": "stdout",
     "output_type": "stream",
     "text": [
      "  915.541 ns (9 allocations: 464 bytes)\n"
     ]
    },
    {
     "data": {
      "text/plain": [
       "3-element Vector{Float64}:\n",
       " 0.7191078150673792\n",
       " 0.03927453775722887\n",
       " 0.24161764717539197"
      ]
     },
     "metadata": {},
     "output_type": "display_data"
    }
   ],
   "source": [
    "hr_p = @btime hr_probs(pms, State(LOW, NORMAL, NORMAL, NORMAL, false, false, false, false), Action(false, false, false))\n"
   ]
  },
  {
   "cell_type": "code",
   "execution_count": 23,
   "metadata": {},
   "outputs": [
    {
     "name": "stdout",
     "output_type": "stream",
     "text": [
      "  210.828 s (675565663 allocations: 18.41 GiB)\n"
     ]
    },
    {
     "data": {
      "text/plain": [
       "1440×8×1440 Array{Float64, 3}:\n",
       "[:, :, 1] =\n",
       " 0.00124009   0.0  0.0  0.0  0.0  0.0  0.0  0.0\n",
       " 0.00124009   0.0  0.0  0.0  0.0  0.0  0.0  0.0\n",
       " 0.00124009   0.0  0.0  0.0  0.0  0.0  0.0  0.0\n",
       " 0.00124009   0.0  0.0  0.0  0.0  0.0  0.0  0.0\n",
       " 0.00124009   0.0  0.0  0.0  0.0  0.0  0.0  0.0\n",
       " 0.00124009   0.0  0.0  0.0  0.0  0.0  0.0  0.0\n",
       " 0.00124009   0.0  0.0  0.0  0.0  0.0  0.0  0.0\n",
       " 0.00124009   0.0  0.0  0.0  0.0  0.0  0.0  0.0\n",
       " 0.0          0.0  0.0  0.0  0.0  0.0  0.0  0.0\n",
       " 0.0          0.0  0.0  0.0  0.0  0.0  0.0  0.0\n",
       " ⋮                                ⋮         \n",
       " 0.000452451  0.0  0.0  0.0  0.0  0.0  0.0  0.0\n",
       " 0.0          0.0  0.0  0.0  0.0  0.0  0.0  0.0\n",
       " 0.0          0.0  0.0  0.0  0.0  0.0  0.0  0.0\n",
       " 0.0          0.0  0.0  0.0  0.0  0.0  0.0  0.0\n",
       " 0.0          0.0  0.0  0.0  0.0  0.0  0.0  0.0\n",
       " 0.0          0.0  0.0  0.0  0.0  0.0  0.0  0.0\n",
       " 0.0          0.0  0.0  0.0  0.0  0.0  0.0  0.0\n",
       " 0.0          0.0  0.0  0.0  0.0  0.0  0.0  0.0\n",
       " 0.0          0.0  0.0  0.0  0.0  0.0  0.0  0.0\n",
       "\n",
       "[:, :, 2] =\n",
       " 0.00124009   0.0  0.0  0.0  0.0  0.0  0.0  0.0\n",
       " 0.00124009   0.0  0.0  0.0  0.0  0.0  0.0  0.0\n",
       " 0.00124009   0.0  0.0  0.0  0.0  0.0  0.0  0.0\n",
       " 0.00124009   0.0  0.0  0.0  0.0  0.0  0.0  0.0\n",
       " 0.00124009   0.0  0.0  0.0  0.0  0.0  0.0  0.0\n",
       " 0.00124009   0.0  0.0  0.0  0.0  0.0  0.0  0.0\n",
       " 0.00124009   0.0  0.0  0.0  0.0  0.0  0.0  0.0\n",
       " 0.00124009   0.0  0.0  0.0  0.0  0.0  0.0  0.0\n",
       " 0.0          0.0  0.0  0.0  0.0  0.0  0.0  0.0\n",
       " 0.0          0.0  0.0  0.0  0.0  0.0  0.0  0.0\n",
       " ⋮                                ⋮         \n",
       " 0.000452451  0.0  0.0  0.0  0.0  0.0  0.0  0.0\n",
       " 0.0          0.0  0.0  0.0  0.0  0.0  0.0  0.0\n",
       " 0.0          0.0  0.0  0.0  0.0  0.0  0.0  0.0\n",
       " 0.0          0.0  0.0  0.0  0.0  0.0  0.0  0.0\n",
       " 0.0          0.0  0.0  0.0  0.0  0.0  0.0  0.0\n",
       " 0.0          0.0  0.0  0.0  0.0  0.0  0.0  0.0\n",
       " 0.0          0.0  0.0  0.0  0.0  0.0  0.0  0.0\n",
       " 0.0          0.0  0.0  0.0  0.0  0.0  0.0  0.0\n",
       " 0.0          0.0  0.0  0.0  0.0  0.0  0.0  0.0\n",
       "\n",
       "[:, :, 3] =\n",
       " 0.00124009   0.0  0.0  0.0  0.0  0.0  0.0  0.0\n",
       " 0.00124009   0.0  0.0  0.0  0.0  0.0  0.0  0.0\n",
       " 0.00124009   0.0  0.0  0.0  0.0  0.0  0.0  0.0\n",
       " 0.00124009   0.0  0.0  0.0  0.0  0.0  0.0  0.0\n",
       " 0.00124009   0.0  0.0  0.0  0.0  0.0  0.0  0.0\n",
       " 0.00124009   0.0  0.0  0.0  0.0  0.0  0.0  0.0\n",
       " 0.00124009   0.0  0.0  0.0  0.0  0.0  0.0  0.0\n",
       " 0.00124009   0.0  0.0  0.0  0.0  0.0  0.0  0.0\n",
       " 0.0          0.0  0.0  0.0  0.0  0.0  0.0  0.0\n",
       " 0.0          0.0  0.0  0.0  0.0  0.0  0.0  0.0\n",
       " ⋮                                ⋮         \n",
       " 0.000452451  0.0  0.0  0.0  0.0  0.0  0.0  0.0\n",
       " 0.0          0.0  0.0  0.0  0.0  0.0  0.0  0.0\n",
       " 0.0          0.0  0.0  0.0  0.0  0.0  0.0  0.0\n",
       " 0.0          0.0  0.0  0.0  0.0  0.0  0.0  0.0\n",
       " 0.0          0.0  0.0  0.0  0.0  0.0  0.0  0.0\n",
       " 0.0          0.0  0.0  0.0  0.0  0.0  0.0  0.0\n",
       " 0.0          0.0  0.0  0.0  0.0  0.0  0.0  0.0\n",
       " 0.0          0.0  0.0  0.0  0.0  0.0  0.0  0.0\n",
       " 0.0          0.0  0.0  0.0  0.0  0.0  0.0  0.0\n",
       "\n",
       ";;; … \n",
       "\n",
       "[:, :, 1438] =\n",
       " 0.0          0.0  0.0  0.0  0.0  0.0  0.0  0.0\n",
       " 0.0          0.0  0.0  0.0  0.0  0.0  0.0  0.0\n",
       " 0.0          0.0  0.0  0.0  0.0  0.0  0.0  0.0\n",
       " 0.0          0.0  0.0  0.0  0.0  0.0  0.0  0.0\n",
       " 0.0          0.0  0.0  0.0  0.0  0.0  0.0  0.0\n",
       " 0.0          0.0  0.0  0.0  0.0  0.0  0.0  0.0\n",
       " 0.0          0.0  0.0  0.0  0.0  0.0  0.0  0.0\n",
       " 0.0          0.0  0.0  0.0  0.0  0.0  0.0  0.0\n",
       " 0.0126577    0.0  0.0  0.0  0.0  0.0  0.0  0.0\n",
       " 0.0126577    0.0  0.0  0.0  0.0  0.0  0.0  0.0\n",
       " ⋮                                ⋮         \n",
       " 0.0          0.0  0.0  0.0  0.0  0.0  0.0  0.0\n",
       " 0.000395846  0.0  0.0  0.0  0.0  0.0  0.0  0.0\n",
       " 0.000395846  0.0  0.0  0.0  0.0  0.0  0.0  0.0\n",
       " 0.000395846  0.0  0.0  0.0  0.0  0.0  0.0  0.0\n",
       " 0.000395846  0.0  0.0  0.0  0.0  0.0  0.0  0.0\n",
       " 0.000395846  0.0  0.0  0.0  0.0  0.0  0.0  0.0\n",
       " 0.000395846  0.0  0.0  0.0  0.0  0.0  0.0  0.0\n",
       " 0.000395846  0.0  0.0  0.0  0.0  0.0  0.0  0.0\n",
       " 0.000395846  0.0  0.0  0.0  0.0  0.0  0.0  0.0\n",
       "\n",
       "[:, :, 1439] =\n",
       " 0.0          0.0  0.0  0.0  0.0  0.0  0.0  0.0\n",
       " 0.0          0.0  0.0  0.0  0.0  0.0  0.0  0.0\n",
       " 0.0          0.0  0.0  0.0  0.0  0.0  0.0  0.0\n",
       " 0.0          0.0  0.0  0.0  0.0  0.0  0.0  0.0\n",
       " 0.0          0.0  0.0  0.0  0.0  0.0  0.0  0.0\n",
       " 0.0          0.0  0.0  0.0  0.0  0.0  0.0  0.0\n",
       " 0.0          0.0  0.0  0.0  0.0  0.0  0.0  0.0\n",
       " 0.0          0.0  0.0  0.0  0.0  0.0  0.0  0.0\n",
       " 0.0126577    0.0  0.0  0.0  0.0  0.0  0.0  0.0\n",
       " 0.0126577    0.0  0.0  0.0  0.0  0.0  0.0  0.0\n",
       " ⋮                                ⋮         \n",
       " 0.0          0.0  0.0  0.0  0.0  0.0  0.0  0.0\n",
       " 0.000395846  0.0  0.0  0.0  0.0  0.0  0.0  0.0\n",
       " 0.000395846  0.0  0.0  0.0  0.0  0.0  0.0  0.0\n",
       " 0.000395846  0.0  0.0  0.0  0.0  0.0  0.0  0.0\n",
       " 0.000395846  0.0  0.0  0.0  0.0  0.0  0.0  0.0\n",
       " 0.000395846  0.0  0.0  0.0  0.0  0.0  0.0  0.0\n",
       " 0.000395846  0.0  0.0  0.0  0.0  0.0  0.0  0.0\n",
       " 0.000395846  0.0  0.0  0.0  0.0  0.0  0.0  0.0\n",
       " 0.000395846  0.0  0.0  0.0  0.0  0.0  0.0  0.0\n",
       "\n",
       "[:, :, 1440] =\n",
       " 0.0          0.0  0.0  0.0  0.0  0.0  0.0  0.0\n",
       " 0.0          0.0  0.0  0.0  0.0  0.0  0.0  0.0\n",
       " 0.0          0.0  0.0  0.0  0.0  0.0  0.0  0.0\n",
       " 0.0          0.0  0.0  0.0  0.0  0.0  0.0  0.0\n",
       " 0.0          0.0  0.0  0.0  0.0  0.0  0.0  0.0\n",
       " 0.0          0.0  0.0  0.0  0.0  0.0  0.0  0.0\n",
       " 0.0          0.0  0.0  0.0  0.0  0.0  0.0  0.0\n",
       " 0.0          0.0  0.0  0.0  0.0  0.0  0.0  0.0\n",
       " 0.0126577    0.0  0.0  0.0  0.0  0.0  0.0  0.0\n",
       " 0.0126577    0.0  0.0  0.0  0.0  0.0  0.0  0.0\n",
       " ⋮                                ⋮         \n",
       " 0.0          0.0  0.0  0.0  0.0  0.0  0.0  0.0\n",
       " 0.000395846  0.0  0.0  0.0  0.0  0.0  0.0  0.0\n",
       " 0.000395846  0.0  0.0  0.0  0.0  0.0  0.0  0.0\n",
       " 0.000395846  0.0  0.0  0.0  0.0  0.0  0.0  0.0\n",
       " 0.000395846  0.0  0.0  0.0  0.0  0.0  0.0  0.0\n",
       " 0.000395846  0.0  0.0  0.0  0.0  0.0  0.0  0.0\n",
       " 0.000395846  0.0  0.0  0.0  0.0  0.0  0.0  0.0\n",
       " 0.000395846  0.0  0.0  0.0  0.0  0.0  0.0  0.0\n",
       " 0.000395846  0.0  0.0  0.0  0.0  0.0  0.0  0.0"
      ]
     },
     "metadata": {},
     "output_type": "display_data"
    }
   ],
   "source": [
    "tr_mat = @btime get_transition_matrix(pms)\n",
    "# 3min 40s"
   ]
  },
  {
   "cell_type": "code",
   "execution_count": null,
   "metadata": {},
   "outputs": [],
   "source": [
    "tr_mat = get_transition_matrix(pms)\n",
    "# 3min 40s"
   ]
  },
  {
   "cell_type": "code",
   "execution_count": 25,
   "metadata": {},
   "outputs": [
    {
     "name": "stdout",
     "output_type": "stream",
     "text": [
      "  45.487 ms (80716 allocations: 2.26 MiB)\n"
     ]
    },
    {
     "data": {
      "text/plain": [
       "(Dict{Any, Any}((0, -1, 0, 2, false, true, true, true) => (true, true, false), (-1, 0, -1, 1, false, false, false, true) => (true, true, false), (0, 0, 0, 0, true, false, false, true) => (true, true, false), (-1, -1, 0, 0, false, false, false, false) => (true, true, false), (-1, 1, -1, 0, false, false, true, false) => (true, true, false), (-1, 1, 0, -2, false, false, false, false) => (true, true, false), (1, -1, -1, -2, true, false, false, true) => (true, true, false), (1, 1, -1, -1, true, true, false, false) => (true, true, false), (-1, -1, 0, 2, true, true, false, true) => (true, true, false), (-1, 0, -1, -2, true, false, true, false) => (true, true, false)…), [-1.0, -1.0, -1.0, -1.0, -1.0, -1.0, -1.0, -1.0, -1.0, -1.0  …  -1.0, -1.0, -1.0, -1.0, -1.0, -1.0, -1.0, -1.0, -1.0, -1.0])"
      ]
     },
     "metadata": {},
     "output_type": "display_data"
    }
   ],
   "source": [
    "V = np.zeros(length(sepsis_gym.STATES))\n",
    "@btime sepsis_gym.matrix_value_iteration(V, tr_mat)"
   ]
  },
  {
   "cell_type": "code",
   "execution_count": 40,
   "metadata": {},
   "outputs": [
    {
     "data": {
      "text/plain": [
       "0.0012400914260942805"
      ]
     },
     "metadata": {},
     "output_type": "display_data"
    }
   ],
   "source": [
    "tr_mat[1,1,1]"
   ]
  },
  {
   "cell_type": "code",
   "execution_count": 34,
   "metadata": {},
   "outputs": [
    {
     "ename": "PyCall.PyError",
     "evalue": "PyError ($(Expr(:escape, :(ccall(#= /Users/luisastue/.julia/packages/PyCall/1gn3u/src/pyfncall.jl:43 =# @pysym(:PyObject_Call), PyPtr, (PyPtr, PyPtr, PyPtr), o, pyargsptr, kw))))) <class 'ValueError'>\nValueError('einstein sum subscripts string contains too many subscripts for operand 1')\n  File \"/Users/luisastue/julia/hc-rl-thompson-sampling/sepsis/custom_sepsis/src/custom_sepsis/inference/dirichlet/tr_value_iter.py\", line 36, in matrix_value_iteration\n    Q = REWARDS + gamma * np.einsum('ijk,k->ij', transition_model, V)\n  File \"/Users/luisastue/miniconda3/lib/python3.10/site-packages/numpy/core/einsumfunc.py\", line 1371, in einsum\n    return c_einsum(*operands, **kwargs)\n",
     "output_type": "error",
     "traceback": [
      "PyError ($(Expr(:escape, :(ccall(#= /Users/luisastue/.julia/packages/PyCall/1gn3u/src/pyfncall.jl:43 =# @pysym(:PyObject_Call), PyPtr, (PyPtr, PyPtr, PyPtr), o, pyargsptr, kw))))) <class 'ValueError'>\n",
      "ValueError('einstein sum subscripts string contains too many subscripts for operand 1')\n",
      "  File \"/Users/luisastue/julia/hc-rl-thompson-sampling/sepsis/custom_sepsis/src/custom_sepsis/inference/dirichlet/tr_value_iter.py\", line 36, in matrix_value_iteration\n",
      "    Q = REWARDS + gamma * np.einsum('ijk,k->ij', transition_model, V)\n",
      "  File \"/Users/luisastue/miniconda3/lib/python3.10/site-packages/numpy/core/einsumfunc.py\", line 1371, in einsum\n",
      "    return c_einsum(*operands, **kwargs)\n",
      "\n",
      "\n",
      "Stacktrace:\n",
      "  [1] pyerr_check\n",
      "    @ ~/.julia/packages/PyCall/1gn3u/src/exception.jl:75 [inlined]\n",
      "  [2] pyerr_check\n",
      "    @ ~/.julia/packages/PyCall/1gn3u/src/exception.jl:79 [inlined]\n",
      "  [3] _handle_error(msg::String)\n",
      "    @ PyCall ~/.julia/packages/PyCall/1gn3u/src/exception.jl:96\n",
      "  [4] macro expansion\n",
      "    @ ~/.julia/packages/PyCall/1gn3u/src/exception.jl:110 [inlined]\n",
      "  [5] #107\n",
      "    @ ~/.julia/packages/PyCall/1gn3u/src/pyfncall.jl:43 [inlined]\n",
      "  [6] disable_sigint\n",
      "    @ ./c.jl:473 [inlined]\n",
      "  [7] __pycall!\n",
      "    @ ~/.julia/packages/PyCall/1gn3u/src/pyfncall.jl:42 [inlined]\n",
      "  [8] _pycall!(ret::PyObject, o::PyObject, args::Tuple{Dict{Any, Any}, PyObject}, nargs::Int64, kw::Ptr{Nothing})\n",
      "    @ PyCall ~/.julia/packages/PyCall/1gn3u/src/pyfncall.jl:29\n",
      "  [9] _pycall!(ret::PyObject, o::PyObject, args::Tuple{Dict{Any, Any}, PyObject}, kwargs::@Kwargs{})\n",
      "    @ PyCall ~/.julia/packages/PyCall/1gn3u/src/pyfncall.jl:11\n",
      " [10] (::PyObject)(::Dict{Any, Any}, ::Vararg{Any}; kwargs::@Kwargs{})\n",
      "    @ PyCall ~/.julia/packages/PyCall/1gn3u/src/pyfncall.jl:86\n",
      " [11] top-level scope\n",
      "    @ ~/thesis/hc-rl-thompson-sampling/sepsis/custom_sepsis/src/custom_sepsis/jl_notebook_cell_df34fa98e69747e1a8f8a730347b8e2f_X41sZmlsZQ==.jl:1"
     ]
    }
   ],
   "source": [
    "pol, V = sepsis_gym.matrix_value_iteration(V, PyObject(tr_mat))"
   ]
  },
  {
   "cell_type": "code",
   "execution_count": 27,
   "metadata": {},
   "outputs": [
    {
     "ename": "MethodError",
     "evalue": "MethodError: no method matching to_policy(::Vector{Float64})\n\nClosest candidates are:\n  to_policy(!Matched::Dict{Any, Any})\n   @ Main.SepsisTypes ~/thesis/hc-rl-thompson-sampling/sepsis/custom_sepsis/src/custom_sepsis/inference/mcmc/sepsis_types.jl:55\n",
     "output_type": "error",
     "traceback": [
      "MethodError: no method matching to_policy(::Vector{Float64})\n",
      "\n",
      "Closest candidates are:\n",
      "  to_policy(!Matched::Dict{Any, Any})\n",
      "   @ Main.SepsisTypes ~/thesis/hc-rl-thompson-sampling/sepsis/custom_sepsis/src/custom_sepsis/inference/mcmc/sepsis_types.jl:55\n",
      "\n",
      "\n",
      "Stacktrace:\n",
      " [1] top-level scope\n",
      "   @ ~/thesis/hc-rl-thompson-sampling/sepsis/custom_sepsis/src/custom_sepsis/jl_notebook_cell_df34fa98e69747e1a8f8a730347b8e2f_X42sZmlsZQ==.jl:1"
     ]
    }
   ],
   "source": [
    "policy = to_policy(pol)"
   ]
  },
  {
   "cell_type": "code",
   "execution_count": 24,
   "metadata": {},
   "outputs": [
    {
     "name": "stdout",
     "output_type": "stream",
     "text": [
      "  1.417 ns (0 allocations: 0 bytes)\n"
     ]
    },
    {
     "data": {
      "text/plain": [
       "Action(true, true, true)"
      ]
     },
     "metadata": {},
     "output_type": "display_data"
    }
   ],
   "source": [
    "@btime to_action((1,1,1))"
   ]
  },
  {
   "cell_type": "code",
   "execution_count": 22,
   "metadata": {},
   "outputs": [
    {
     "name": "stdout",
     "output_type": "stream",
     "text": [
      "  9.817 ms (43228 allocations: 1.14 MiB)\n"
     ]
    },
    {
     "data": {
      "text/plain": [
       "enumerate(Tuple{Int64, Int64, Int64, Int64, Vararg{Bool, 4}}[(-1, -1, -1, -2, 1, 1, 1, 1), (-1, -1, -1, -2, 1, 1, 1, 0), (-1, -1, -1, -2, 1, 1, 0, 1), (-1, -1, -1, -2, 1, 1, 0, 0), (-1, -1, -1, -2, 1, 0, 1, 1), (-1, -1, -1, -2, 1, 0, 1, 0), (-1, -1, -1, -2, 1, 0, 0, 1), (-1, -1, -1, -2, 1, 0, 0, 0), (-1, -1, -1, -2, 0, 1, 1, 1), (-1, -1, -1, -2, 0, 1, 1, 0)  …  (1, 1, 0, 2, 1, 0, 0, 1), (1, 1, 0, 2, 1, 0, 0, 0), (1, 1, 0, 2, 0, 1, 1, 1), (1, 1, 0, 2, 0, 1, 1, 0), (1, 1, 0, 2, 0, 1, 0, 1), (1, 1, 0, 2, 0, 1, 0, 0), (1, 1, 0, 2, 0, 0, 1, 1), (1, 1, 0, 2, 0, 0, 1, 0), (1, 1, 0, 2, 0, 0, 0, 1), (1, 1, 0, 2, 0, 0, 0, 0)])"
      ]
     },
     "metadata": {},
     "output_type": "display_data"
    }
   ],
   "source": [
    "@btime enumerate(sepsis_gym.STATES)"
   ]
  },
  {
   "cell_type": "code",
   "execution_count": 6,
   "metadata": {},
   "outputs": [],
   "source": [
    "state = State(NORMAL, LOW, NORMAL, NORMAL, false, false, false, false)\n",
    "policy = to_policy(sepsis_gym.random_policy())\n",
    "next_state = get_next_state(deterministic_params, state, policy[state])\n",
    "trace, sc = generate(get_next_state, (deterministic_params, state, Action(0, 0, 0)))\n",
    "\n",
    "states, rewards = simulate_episode(deterministic_params, policy, state)\n",
    "states"
   ]
  }
 ],
 "metadata": {
  "kernelspec": {
   "display_name": "Julia 1.10.6",
   "language": "julia",
   "name": "julia-1.10"
  },
  "language_info": {
   "file_extension": ".jl",
   "mimetype": "application/julia",
   "name": "julia",
   "version": "1.10.6"
  }
 },
 "nbformat": 4,
 "nbformat_minor": 2
}
