{
 "cells": [
  {
   "cell_type": "code",
   "execution_count": 1,
   "metadata": {},
   "outputs": [
    {
     "name": "stderr",
     "output_type": "stream",
     "text": [
      "┌ Warning: attempting to remove probably stale pidfile\n",
      "│   path = /Users/luisastue/.julia/compiled/v1.10/CairoMakie/9mSey_ZUpiO.ji.pidfile\n",
      "└ @ FileWatching.Pidfile /Users/luisastue/.julia/juliaup/julia-1.10.6+0.aarch64.apple.darwin14/share/julia/stdlib/v1.10/FileWatching/src/pidfile.jl:244\n"
     ]
    }
   ],
   "source": [
    "include(\"inference/mcmc/sepsis_types.jl\")\n",
    "using .SepsisTypes\n",
    "include(\"inference/mcmc/sepsis.jl\")\n",
    "using .Sepsis\n",
    "include(\"inference/mcmc/inference.jl\")\n",
    "using .Inference\n",
    "using Revise\n",
    "using PyCall;\n",
    "using Gen;\n",
    "using CairoMakie\n",
    "sepsis_gym = pyimport(\"custom_sepsis\");"
   ]
  },
  {
   "cell_type": "code",
   "execution_count": 2,
   "metadata": {},
   "outputs": [
    {
     "data": {
      "text/plain": [
       "PyObject <custom_sepsis.sepsis_env.sepsis_types.Episode object at 0x12f023c40>"
      ]
     },
     "metadata": {},
     "output_type": "display_data"
    }
   ],
   "source": [
    "policy = sepsis_gym.random_policy()\n",
    "episode = sepsis_gym.run_episode(policy)"
   ]
  },
  {
   "cell_type": "code",
   "execution_count": 3,
   "metadata": {},
   "outputs": [
    {
     "data": {
      "text/plain": [
       "State(NORMAL, LOW, NORMAL, SUPER_HIGH, true, false, false, false)"
      ]
     },
     "metadata": {},
     "output_type": "display_data"
    }
   ],
   "source": [
    "to_state(episode.visited[1])\n"
   ]
  },
  {
   "cell_type": "code",
   "execution_count": null,
   "metadata": {},
   "outputs": [],
   "source": [
    "beliefs = get_beliefs()\n",
    "init_state = to_state(sepsis_gym.random_initial_state())\n",
    "states, rewards = simulate_episode(beliefs, to_policy(policy), init_state)\n",
    "rewards\n",
    "\n",
    "get_reward(states[end])"
   ]
  },
  {
   "cell_type": "code",
   "execution_count": null,
   "metadata": {},
   "outputs": [
    {
     "data": {
      "text/plain": [
       "State(NORMAL, LOW, LOW, SUPER_HIGH, false, false, false, false)"
      ]
     },
     "metadata": {},
     "output_type": "display_data"
    }
   ],
   "source": [
    "to_state(episode.visited[1])"
   ]
  },
  {
   "cell_type": "code",
   "execution_count": null,
   "metadata": {},
   "outputs": [],
   "source": [
    "println(\"Checking if the actions in the episode are consistent with the state transitions\")\n",
    "for (i, state) in enumerate(episode.visited[1:end-1])\n",
    "    action = to_action(policy[state])\n",
    "    next_state = to_state(episode.visited[i+1])\n",
    "    println(action.abx == next_state.abx && action.vaso == next_state.vaso && action.vent == next_state.vent)\n",
    "end"
   ]
  },
  {
   "cell_type": "code",
   "execution_count": null,
   "metadata": {},
   "outputs": [],
   "source": [
    "env_params = get_beliefs()\n",
    "param_vector = get_env_params(env_params)\n"
   ]
  },
  {
   "cell_type": "code",
   "execution_count": null,
   "metadata": {},
   "outputs": [
    {
     "ename": "UndefVarError",
     "evalue": "UndefVarError: `param_vector` not defined",
     "output_type": "error",
     "traceback": [
      "UndefVarError: `param_vector` not defined\n",
      "\n",
      "Stacktrace:\n",
      " [1] top-level scope\n",
      "   @ ~/julia/hc-rl-thompson-sampling/sepsis/custom_sepsis/src/custom_sepsis/inference/mcmc/jl_notebook_cell_df34fa98e69747e1a8f8a730347b8e2f_W5sZmlsZQ==.jl:4"
     ]
    }
   ],
   "source": [
    "policy = sepsis_gym.random_policy()\n",
    "sepsis_gym.run_episode(policy).rewards\n",
    "\n",
    "env = sepsis_gym.SepsisEnv(param_vector)\n",
    "\n",
    "training = sepsis_gym.train_dqn(true_env, 10000, \"test_call_from_julia\")\n",
    "training.evaluate_policy(10000)"
   ]
  },
  {
   "cell_type": "code",
   "execution_count": null,
   "metadata": {},
   "outputs": [],
   "source": [
    "random_policies = [sepsis_gym.random_policy() for i in 1:100];"
   ]
  },
  {
   "cell_type": "code",
   "execution_count": null,
   "metadata": {},
   "outputs": [
    {
     "data": {
      "text/plain": [
       "2-element Vector{Tuple{Int64, Int64, Int64, Int64, Vararg{Bool, 4}}}:\n",
       " (-1, -1, 0, 1, 0, 0, 0, 0)\n",
       " (-1, -1, 0, 1, 0, 0, 0, 0)"
      ]
     },
     "metadata": {},
     "output_type": "display_data"
    }
   ],
   "source": [
    "sepsis_gym.run_episode(random_policies[1]).visited\n"
   ]
  },
  {
   "cell_type": "code",
   "execution_count": null,
   "metadata": {},
   "outputs": [],
   "source": [
    "# param_vector = get_env_params(traces[end][:beliefs])\n",
    "\n",
    "# env = sepsis_gym.SepsisEnv(param_vector)\n",
    "\n",
    "# training = sepsis_gym.train_dqn(env, 100000, \"thompson_sampling_try1\")\n"
   ]
  },
  {
   "cell_type": "code",
   "execution_count": null,
   "metadata": {},
   "outputs": [],
   "source": [
    "# training.evaluate_policy(10000)"
   ]
  },
  {
   "cell_type": "code",
   "execution_count": 4,
   "metadata": {},
   "outputs": [
    {
     "ename": "UndefVarError",
     "evalue": "UndefVarError: `EnvParameters` not defined",
     "output_type": "error",
     "traceback": [
      "UndefVarError: `EnvParameters` not defined\n",
      "\n",
      "Stacktrace:\n",
      " [1] top-level scope\n",
      "   @ ~/julia/hc-rl-thompson-sampling/sepsis/custom_sepsis/src/custom_sepsis/jl_notebook_cell_df34fa98e69747e1a8f8a730347b8e2f_X15sZmlsZQ==.jl:3"
     ]
    }
   ],
   "source": [
    "\n",
    "state = State(NORMAL, LOW, NORMAL, NORMAL, false, false, false, false)\n",
    "deterministic_params = EnvParameters([1 for _ in 1:length(fieldnames(EnvParameters))]...)\n",
    "policy = to_policy(sepsis_gym.random_policy())\n",
    "next_state = get_next_state(deterministic_params, state, policy[state])\n",
    "trace, sc = generate(get_next_state, (deterministic_params, state, Action(0, 0, 0)))\n",
    "\n",
    "states, rewards = simulate_episode(deterministic_params, policy, state)\n",
    "states"
   ]
  },
  {
   "cell_type": "code",
   "execution_count": null,
   "metadata": {},
   "outputs": [],
   "source": []
  }
 ],
 "metadata": {
  "kernelspec": {
   "display_name": "Julia 1.10.6",
   "language": "julia",
   "name": "julia-1.10"
  },
  "language_info": {
   "file_extension": ".jl",
   "mimetype": "application/julia",
   "name": "julia",
   "version": "1.10.6"
  }
 },
 "nbformat": 4,
 "nbformat_minor": 2
}
