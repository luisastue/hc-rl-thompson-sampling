{
 "cells": [
  {
   "cell_type": "code",
   "execution_count": 1,
   "metadata": {},
   "outputs": [],
   "source": [
    "import matplotlib.pyplot as plt\n",
    "import numpy as np\n",
    "from custom_sepsis import *"
   ]
  },
  {
   "cell_type": "code",
   "execution_count": 2,
   "metadata": {},
   "outputs": [],
   "source": [
    "ts = [{\n",
    "    Simplification.SIMPLE: DirThompsonSampling(create_model(Simplification.SIMPLE), {},{}, {}, f\"Simple-{i}\", {}),\n",
    "    Simplification.MEDIUM: DirThompsonSampling(create_model(Simplification.MEDIUM), {},{}, {}, f\"Medium-{i}\", {}),\n",
    "    Simplification.NONE: FullThompsonSampling(create_model(Simplification.NONE), {},{}, {}, f\"None-{i}\", {}),\n",
    "} for i in range(3)]\n",
    "policies = [{\n",
    "    Simplification.SIMPLE: random_policy(),\n",
    "    Simplification.MEDIUM: random_policy(),\n",
    "    Simplification.NONE: random_policy(),\n",
    "} for i in range(3)]\n",
    "rewards = [{\n",
    "    Simplification.SIMPLE: {},\n",
    "    Simplification.MEDIUM: {},\n",
    "    Simplification.NONE: {},\n",
    "} for i in range(3)]\n",
    "model_types = [Simplification.SIMPLE, Simplification.MEDIUM, Simplification.NONE]"
   ]
  },
  {
   "cell_type": "code",
   "execution_count": 6,
   "metadata": {},
   "outputs": [],
   "source": [
    "ts[0][Simplification.SIMPLE] = DirThompsonSampling.load(\"data/dir_ts/Simple-0.pkl.gz\")\n",
    "ts[1][Simplification.SIMPLE] = DirThompsonSampling.load(\"data/dir_ts/Simple-1.pkl.gz\")\n",
    "ts[2][Simplification.SIMPLE] = DirThompsonSampling.load(\"data/dir_ts/Simple-2.pkl.gz\")\n",
    "ts[0][Simplification.MEDIUM] = DirThompsonSampling.load(\"data/dir_ts/Medium-0.pkl.gz\")\n",
    "ts[1][Simplification.MEDIUM] = DirThompsonSampling.load(\"data/dir_ts/Medium-1.pkl.gz\")\n",
    "ts[2][Simplification.MEDIUM] = DirThompsonSampling.load(\"data/dir_ts/Medium-2.pkl.gz\")\n",
    "ts[0][Simplification.NONE] = DirThompsonSampling.load(\"data/dir_ts/None-0.pkl.gz\")\n",
    "ts[1][Simplification.NONE] = DirThompsonSampling.load(\"data/dir_ts/None-1.pkl.gz\")\n",
    "ts[2][Simplification.NONE] = DirThompsonSampling.load(\"data/dir_ts/None-2.pkl.gz\")"
   ]
  },
  {
   "cell_type": "code",
   "execution_count": 7,
   "metadata": {},
   "outputs": [],
   "source": [
    "start = 10000\n",
    "nr_episodes = 1000000\n"
   ]
  },
  {
   "cell_type": "code",
   "execution_count": null,
   "metadata": {},
   "outputs": [],
   "source": [
    "V = np.zeros(n_states)\n",
    "for ep_ix in range(start+1, nr_episodes+1):\n",
    "    for i in range(3):\n",
    "        if (np.log2(ep_ix) % 1 == 0 and ep_ix<100) or (ep_ix % 100 == 0): # every power of 2 or 100 episodes, a new policy is computed\n",
    "            for model_type in model_types:\n",
    "                state_counts = ts[i][model_type].model.get_state_counts()\n",
    "                policy, V = matrix_value_iteration(V, ts[i][model_type].model.transition_model())\n",
    "                ts[i][model_type].add_data(ep_ix, rewards[i][model_type], policy, state_counts)\n",
    "                ts[i][model_type].save()\n",
    "                print(f\"Episode {ep_ix}, {model_type}, {i} done\")\n",
    "                \n",
    "        for model_type in model_types:\n",
    "            episode = run_episode(policies[i][model_type])\n",
    "            rewards[i][model_type][ep_ix] = np.sum(episode.rewards)\n",
    "            ts[i][model_type].model.update_state_counts(episode)\n",
    "            "
   ]
  },
  {
   "cell_type": "code",
   "execution_count": null,
   "metadata": {},
   "outputs": [],
   "source": []
  }
 ],
 "metadata": {
  "kernelspec": {
   "display_name": "base",
   "language": "python",
   "name": "python3"
  },
  "language_info": {
   "codemirror_mode": {
    "name": "ipython",
    "version": 3
   },
   "file_extension": ".py",
   "mimetype": "text/x-python",
   "name": "python",
   "nbconvert_exporter": "python",
   "pygments_lexer": "ipython3",
   "version": "3.10.10"
  }
 },
 "nbformat": 4,
 "nbformat_minor": 2
}
