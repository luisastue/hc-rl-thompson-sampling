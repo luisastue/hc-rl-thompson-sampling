{
 "cells": [
  {
   "cell_type": "code",
   "execution_count": 1,
   "metadata": {},
   "outputs": [],
   "source": [
    "import matplotlib.pyplot as plt\n",
    "import numpy as np\n",
    "from custom_sepsis import *"
   ]
  },
  {
   "cell_type": "code",
   "execution_count": 2,
   "metadata": {},
   "outputs": [],
   "source": [
    "ts = [{\n",
    "    Simplification.SIMPLE: DirThompsonSampling(create_model(Simplification.SIMPLE), [],{}, {}, f\"Simple-{i}\", {}),\n",
    "    Simplification.MEDIUM: DirThompsonSampling(create_model(Simplification.MEDIUM), [],{}, {}, f\"Medium-{i}\", {}),\n",
    "    Simplification.NONE: DirThompsonSampling(create_model(Simplification.NONE), [],{}, {}, f\"None-{i}\", {}),\n",
    "} for i in range(10)]\n",
    "policies = [{\n",
    "    Simplification.SIMPLE: random_policy(),\n",
    "    Simplification.MEDIUM: random_policy(),\n",
    "    Simplification.NONE: random_policy(),\n",
    "} for i in range(10)]\n",
    "rewards = [{\n",
    "    Simplification.SIMPLE: [],\n",
    "    Simplification.MEDIUM: [],\n",
    "    Simplification.NONE: [],\n",
    "} for i in range(10)]\n",
    "model_types = [Simplification.SIMPLE, Simplification.MEDIUM, Simplification.NONE]"
   ]
  },
  {
   "cell_type": "code",
   "execution_count": 3,
   "metadata": {},
   "outputs": [],
   "source": [
    "nr_episodes = 2**20\n"
   ]
  },
  {
   "cell_type": "code",
   "execution_count": null,
   "metadata": {},
   "outputs": [],
   "source": [
    "V = np.zeros(n_states)\n",
    "for key in reversed(range(10)):\n",
    "    for i in range(1, nr_episodes+1):\n",
    "        if (np.log2(i) % 1 == 0 and i<100) or (i % 100 == 0): # every power of 2 or 100 episodes, a new policy is computed\n",
    "            for model_type in model_types:\n",
    "                state_counts = ts[key][model_type].model.get_state_counts()\n",
    "                policy, V = matrix_value_iteration(V, ts[key][model_type].model.transition_model())\n",
    "                ts[key][model_type].add_data(i, rewards[key][model_type], policy, state_counts)\n",
    "                ts[key][model_type].save()\n",
    "        for model_type in model_types:\n",
    "            episode = run_episode(policies[key][model_type])\n",
    "            rewards[key][model_type].append(np.sum(episode.rewards))\n",
    "            ts[key][model_type].model.update_state_counts(episode)\n",
    "            "
   ]
  },
  {
   "cell_type": "code",
   "execution_count": null,
   "metadata": {},
   "outputs": [],
   "source": []
  }
 ],
 "metadata": {
  "kernelspec": {
   "display_name": "base",
   "language": "python",
   "name": "python3"
  },
  "language_info": {
   "codemirror_mode": {
    "name": "ipython",
    "version": 3
   },
   "file_extension": ".py",
   "mimetype": "text/x-python",
   "name": "python",
   "nbconvert_exporter": "python",
   "pygments_lexer": "ipython3",
   "version": "3.10.10"
  }
 },
 "nbformat": 4,
 "nbformat_minor": 2
}
