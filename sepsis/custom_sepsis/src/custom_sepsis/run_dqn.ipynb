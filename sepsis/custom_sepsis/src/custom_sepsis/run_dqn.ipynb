{
 "cells": [
  {
   "cell_type": "code",
   "execution_count": 1,
   "metadata": {},
   "outputs": [
    {
     "name": "stderr",
     "output_type": "stream",
     "text": [
      "/Users/luisastue/miniconda3/lib/python3.10/site-packages/pandas/core/arrays/masked.py:60: UserWarning: Pandas requires version '1.3.6' or newer of 'bottleneck' (version '1.3.5' currently installed).\n",
      "  from pandas.core import (\n"
     ]
    }
   ],
   "source": [
    "import matplotlib.pyplot as plt\n",
    "import numpy as np\n",
    "from custom_sepsis import *"
   ]
  },
  {
   "cell_type": "code",
   "execution_count": 3,
   "metadata": {},
   "outputs": [],
   "source": [
    "import numpy as np\n",
    "import pandas as pd\n",
    "from itertools import product\n",
    "from multiprocessing import Pool, cpu_count\n",
    "\n",
    "# Define parameter grids for each optimization goal\n",
    "param_grids = {\n",
    "    \"sample_efficiency\": {\n",
    "        \"buffer_size\": [50000, 100000],\n",
    "        \"batch_size\": [16, 32],\n",
    "        \"train_freq\": [1, 2],\n",
    "        \"gradient_steps\": [1, 5],\n",
    "        \"exploration_fraction\": [0.2, 0.3],\n",
    "        \"exploration_final_eps\": [0.01, 0.05],\n",
    "        \"target_update_interval\": [100, 200],\n",
    "    },\n",
    "    \"asymptotic_rewards\": {\n",
    "        \"buffer_size\": [500000, 1000000],\n",
    "        \"batch_size\": [128, 256],\n",
    "        \"train_freq\": [4, 8],\n",
    "        \"gradient_steps\": [10, 20],\n",
    "        \"exploration_fraction\": [0.05, 0.1],\n",
    "        \"exploration_final_eps\": [0.01, 0.02],\n",
    "        \"target_update_interval\": [500, 1000],\n",
    "    },\n",
    "    \"cumulative_rewards\": {\n",
    "        \"buffer_size\": [100000, 500000],\n",
    "        \"batch_size\": [64, 128],\n",
    "        \"train_freq\": [2, 4],\n",
    "        \"gradient_steps\": [5, 10],\n",
    "        \"exploration_fraction\": [0.1, 0.2],\n",
    "        \"exploration_final_eps\": [0.01, 0.05],\n",
    "        \"target_update_interval\": [200, 500],\n",
    "    },\n",
    "}\n",
    "results = []\n"
   ]
  },
  {
   "cell_type": "code",
   "execution_count": null,
   "metadata": {},
   "outputs": [
    {
     "name": "stderr",
     "output_type": "stream",
     "text": [
      "/Users/luisastue/miniconda3/lib/python3.10/site-packages/pandas/core/arrays/masked.py:60: UserWarning: Pandas requires version '1.3.6' or newer of 'bottleneck' (version '1.3.5' currently installed).\n",
      "  from pandas.core import (\n",
      "/Users/luisastue/miniconda3/lib/python3.10/site-packages/pandas/core/arrays/masked.py:60: UserWarning: Pandas requires version '1.3.6' or newer of 'bottleneck' (version '1.3.5' currently installed).\n",
      "  from pandas.core import (\n",
      "/Users/luisastue/miniconda3/lib/python3.10/site-packages/pandas/core/arrays/masked.py:60: UserWarning: Pandas requires version '1.3.6' or newer of 'bottleneck' (version '1.3.5' currently installed).\n",
      "  from pandas.core import (\n",
      "/Users/luisastue/miniconda3/lib/python3.10/site-packages/pandas/core/arrays/masked.py:60: UserWarning: Pandas requires version '1.3.6' or newer of 'bottleneck' (version '1.3.5' currently installed).\n",
      "  from pandas.core import (\n",
      "/Users/luisastue/miniconda3/lib/python3.10/site-packages/pandas/core/arrays/masked.py:60: UserWarning: Pandas requires version '1.3.6' or newer of 'bottleneck' (version '1.3.5' currently installed).\n",
      "  from pandas.core import (\n",
      "/Users/luisastue/miniconda3/lib/python3.10/site-packages/pandas/core/arrays/masked.py:60: UserWarning: Pandas requires version '1.3.6' or newer of 'bottleneck' (version '1.3.5' currently installed).\n",
      "  from pandas.core import (\n",
      "/Users/luisastue/miniconda3/lib/python3.10/site-packages/pandas/core/arrays/masked.py:60: UserWarning: Pandas requires version '1.3.6' or newer of 'bottleneck' (version '1.3.5' currently installed).\n",
      "  from pandas.core import (\n",
      "/Users/luisastue/miniconda3/lib/python3.10/site-packages/pandas/core/arrays/masked.py:60: UserWarning: Pandas requires version '1.3.6' or newer of 'bottleneck' (version '1.3.5' currently installed).\n",
      "  from pandas.core import (\n"
     ]
    }
   ],
   "source": [
    "tasks = create_tasks(param_grids)\n",
    "\n",
    "# Use a single pool to process all tasks\n",
    "num_cpus = cpu_count()\n",
    "with Pool(num_cpus) as pool:\n",
    "    results = pool.map(process_task, tasks)\n",
    "    print(\"results \", len(results))\n",
    "\n",
    "# Process results as needed\n",
    "print(\"Total experiments completed:\", len(results))"
   ]
  },
  {
   "cell_type": "code",
   "execution_count": 3,
   "metadata": {},
   "outputs": [
    {
     "data": {
      "text/plain": [
       "0"
      ]
     },
     "execution_count": 3,
     "metadata": {},
     "output_type": "execute_result"
    }
   ],
   "source": [
    "len(results)"
   ]
  },
  {
   "cell_type": "code",
   "execution_count": null,
   "metadata": {},
   "outputs": [],
   "source": [
    "\n",
    "# Analyze results\n",
    "results_df = pd.DataFrame([\n",
    "    {\n",
    "        \"params\": res[0],\n",
    "        \"sample_efficiency\": np.argmax(np.array(res[1]) >= -0.5) if np.any(np.array(res[1]) >= -0.5) else float('inf'),\n",
    "        \"asymptotic_rewards\": np.mean(res[1][-100:]),\n",
    "        \"cumulative_rewards\": np.sum(res[1]),\n",
    "    }\n",
    "    for res in results\n",
    "])\n",
    "\n",
    "# Normalize scores and rank\n",
    "results_df[\"sample_efficiency_score\"] = 1 / results_df[\"sample_efficiency\"]  # Lower is better\n",
    "results_df[\"asymptotic_rewards_score\"] = results_df[\"asymptotic_rewards\"]\n",
    "results_df[\"cumulative_rewards_score\"] = results_df[\"cumulative_rewards\"]\n",
    "\n",
    "# Extract best parameters for each goal\n",
    "best_sample_efficiency = results_df.iloc[results_df[\"sample_efficiency_score\"].idxmax()][\"params\"]\n",
    "best_asymptotic_rewards = results_df.iloc[results_df[\"asymptotic_rewards_score\"].idxmax()][\"params\"]\n",
    "best_cumulative_rewards = results_df.iloc[results_df[\"cumulative_rewards_score\"].idxmax()][\"params\"]\n",
    "\n",
    "# Print results\n",
    "print(\"Best parameters for sample efficiency:\", best_sample_efficiency)\n",
    "print(\"Best parameters for asymptotic rewards:\", best_asymptotic_rewards)\n",
    "print(\"Best parameters for cumulative rewards:\", best_cumulative_rewards)\n"
   ]
  },
  {
   "cell_type": "code",
   "execution_count": null,
   "metadata": {},
   "outputs": [],
   "source": [
    "import matplotlib.pyplot as plt\n",
    "\n",
    "# Function to calculate moving average\n",
    "def moving_average(data, window_size=50):\n",
    "    return np.convolve(data, np.ones(window_size) / window_size, mode='valid')\n",
    "\n",
    "# Re-train the best models to gather their episode rewards\n",
    "def train_best_model(params):\n",
    "    true_env = ...  # Replace with your environment initialization\n",
    "    callback = CustomLoggingCallback()\n",
    "\n",
    "    model = DQN(\n",
    "        \"MlpPolicy\",\n",
    "        true_env,\n",
    "        buffer_size=params[\"buffer_size\"],\n",
    "        batch_size=params[\"batch_size\"],\n",
    "        train_freq=params[\"train_freq\"],\n",
    "        gradient_steps=params[\"gradient_steps\"],\n",
    "        exploration_fraction=params[\"exploration_fraction\"],\n",
    "        exploration_final_eps=params[\"exploration_final_eps\"],\n",
    "        target_update_interval=params[\"target_update_interval\"],\n",
    "        learning_rate=1e-4,\n",
    "        gamma=0.99,\n",
    "        verbose=0,\n",
    "    )\n",
    "\n",
    "    model.learn(total_timesteps=200000, callback=callback)\n",
    "    episode_rewards = [np.sum(episode.rewards) for episode in callback.episodes]\n",
    "    return episode_rewards\n",
    "\n",
    "# Train and collect rewards for the three best models\n",
    "best_models = {\n",
    "    \"Sample Efficiency\": best_sample_efficiency,\n",
    "    \"Asymptotic Rewards\": best_asymptotic_rewards,\n",
    "    \"Cumulative Rewards\": best_cumulative_rewards,\n",
    "}\n",
    "\n",
    "rewards_data = {}\n",
    "\n",
    "for model_name, params in best_models.items():\n",
    "    rewards_data[model_name] = train_best_model(params)\n",
    "\n",
    "# Plot moving averages of the rewards\n",
    "plt.figure(figsize=(12, 6))\n",
    "for model_name, rewards in rewards_data.items():\n",
    "    moving_avg = moving_average(rewards, window_size=50)\n",
    "    plt.plot(moving_avg, label=f\"{model_name} (Moving Average)\")\n",
    "\n",
    "plt.title(\"Moving Average of Rewards for Best Models\")\n",
    "plt.xlabel(\"Episode\")\n",
    "plt.ylabel(\"Reward (Moving Average)\")\n",
    "plt.legend()\n",
    "plt.grid()\n",
    "plt.show()\n"
   ]
  },
  {
   "cell_type": "code",
   "execution_count": null,
   "metadata": {},
   "outputs": [],
   "source": []
  }
 ],
 "metadata": {
  "kernelspec": {
   "display_name": "base",
   "language": "python",
   "name": "python3"
  },
  "language_info": {
   "codemirror_mode": {
    "name": "ipython",
    "version": 3
   },
   "file_extension": ".py",
   "mimetype": "text/x-python",
   "name": "python",
   "nbconvert_exporter": "python",
   "pygments_lexer": "ipython3",
   "version": "3.10.10"
  }
 },
 "nbformat": 4,
 "nbformat_minor": 2
}
