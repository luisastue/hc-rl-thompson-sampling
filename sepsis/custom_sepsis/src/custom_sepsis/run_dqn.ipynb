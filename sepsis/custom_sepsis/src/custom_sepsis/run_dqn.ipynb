{
 "cells": [
  {
   "cell_type": "code",
   "execution_count": 1,
   "metadata": {},
   "outputs": [
    {
     "name": "stderr",
     "output_type": "stream",
     "text": [
      "/Users/luisastue/miniconda3/lib/python3.10/site-packages/pandas/core/arrays/masked.py:60: UserWarning: Pandas requires version '1.3.6' or newer of 'bottleneck' (version '1.3.5' currently installed).\n",
      "  from pandas.core import (\n"
     ]
    }
   ],
   "source": [
    "import matplotlib.pyplot as plt\n",
    "import numpy as np\n",
    "from custom_sepsis import *"
   ]
  },
  {
   "cell_type": "code",
   "execution_count": 2,
   "metadata": {},
   "outputs": [],
   "source": [
    "import json\n",
    "import numpy as np\n",
    "\n",
    "# Define parameter sets\n",
    "param_sets = {\n",
    "    \"sample_efficiency\": {\n",
    "        \"buffer_size\": 50000,\n",
    "        \"batch_size\": 16,\n",
    "        \"train_freq\": 1,\n",
    "        \"gradient_steps\": 1,\n",
    "        \"exploration_fraction\": 0.2,\n",
    "        \"exploration_final_eps\": 0.05,\n",
    "        \"target_update_interval\": 1000,\n",
    "    },\n",
    "    \"asymptotic_rewards\": {\n",
    "        \"buffer_size\": 1000000,\n",
    "        \"batch_size\": 256,\n",
    "        \"train_freq\": 8,\n",
    "        \"gradient_steps\": 20,\n",
    "        \"exploration_fraction\": 0.05,\n",
    "        \"exploration_final_eps\": 0.01,\n",
    "        \"target_update_interval\": 1000,\n",
    "    },\n",
    "    \"cumulative_rewards\": {\n",
    "        \"buffer_size\": 500000,\n",
    "        \"batch_size\": 128,\n",
    "        \"train_freq\": 4,\n",
    "        \"gradient_steps\": 10,\n",
    "        \"exploration_fraction\": 0.2,\n",
    "        \"exploration_final_eps\": 0.05,\n",
    "        \"target_update_interval\": 500,\n",
    "    },\n",
    "}\n",
    "\n",
    "# Configuration\n",
    "n_runs = 30\n",
    "n_steps = 200000\n",
    "\n",
    "# Flattened tasks for Pool\n",
    "metric = \"cumulative_rewards\"\n",
    "tasks = [\n",
    "    (metric, param_sets[metric], run, n_steps)\n",
    "    for run in range(23,30)\n",
    "]\n",
    "\n",
    "for task in tasks:\n",
    "    train_and_log_rewards(task)\n"
   ]
  },
  {
   "cell_type": "code",
   "execution_count": 3,
   "metadata": {},
   "outputs": [
    {
     "ename": "NameError",
     "evalue": "name 'results' is not defined",
     "output_type": "error",
     "traceback": [
      "\u001b[0;31m---------------------------------------------------------------------------\u001b[0m",
      "\u001b[0;31mNameError\u001b[0m                                 Traceback (most recent call last)",
      "Cell \u001b[0;32mIn[3], line 1\u001b[0m\n\u001b[0;32m----> 1\u001b[0m sample_eff \u001b[38;5;241m=\u001b[39m [result \u001b[38;5;28;01mfor\u001b[39;00m result \u001b[38;5;129;01min\u001b[39;00m \u001b[43mresults\u001b[49m \u001b[38;5;28;01mif\u001b[39;00m result[\u001b[38;5;124m\"\u001b[39m\u001b[38;5;124mmetric\u001b[39m\u001b[38;5;124m\"\u001b[39m] \u001b[38;5;241m==\u001b[39m \u001b[38;5;124m\"\u001b[39m\u001b[38;5;124msample_efficiency\u001b[39m\u001b[38;5;124m\"\u001b[39m]\n\u001b[1;32m      2\u001b[0m asympt \u001b[38;5;241m=\u001b[39m [result \u001b[38;5;28;01mfor\u001b[39;00m result \u001b[38;5;129;01min\u001b[39;00m results \u001b[38;5;28;01mif\u001b[39;00m result[\u001b[38;5;124m\"\u001b[39m\u001b[38;5;124mmetric\u001b[39m\u001b[38;5;124m\"\u001b[39m] \u001b[38;5;241m==\u001b[39m \u001b[38;5;124m\"\u001b[39m\u001b[38;5;124masymptotic_rewards\u001b[39m\u001b[38;5;124m\"\u001b[39m]\n\u001b[1;32m      3\u001b[0m cumul \u001b[38;5;241m=\u001b[39m [result \u001b[38;5;28;01mfor\u001b[39;00m result \u001b[38;5;129;01min\u001b[39;00m results \u001b[38;5;28;01mif\u001b[39;00m result[\u001b[38;5;124m\"\u001b[39m\u001b[38;5;124mmetric\u001b[39m\u001b[38;5;124m\"\u001b[39m] \u001b[38;5;241m==\u001b[39m \u001b[38;5;124m\"\u001b[39m\u001b[38;5;124mcumulative_rewards\u001b[39m\u001b[38;5;124m\"\u001b[39m]\n",
      "\u001b[0;31mNameError\u001b[0m: name 'results' is not defined"
     ]
    }
   ],
   "source": [
    "sample_eff = [result for result in results if result[\"metric\"] == \"sample_efficiency\"]\n",
    "asympt = [result for result in results if result[\"metric\"] == \"asymptotic_rewards\"]\n",
    "cumul = [result for result in results if result[\"metric\"] == \"cumulative_rewards\"]\n",
    "\n",
    "sample_eff_rewards = np.mean([result[\"episode_rewards\"] for result in sample_eff], axis=0)\n",
    "asympt_rewards = np.mean([result[\"episode_rewards\"] for result in asympt], axis=0)\n",
    "cumul_rewards = np.mean([result[\"episode_rewards\"] for result in cumul], axis=0)\n",
    "\n",
    "plt.plot(sample_eff_rewards, label=\"Sample Efficiency\")\n",
    "plt.plot(asympt_rewards, label=\"Asymptotic Rewards\")\n",
    "plt.plot(cumul_rewards, label=\"Cumulative Rewards\")\n"
   ]
  },
  {
   "cell_type": "code",
   "execution_count": null,
   "metadata": {},
   "outputs": [],
   "source": [
    "\n",
    "# Prepare the data for JSON\n",
    "sample_eff_data = {\n",
    "    \"name\": \"Sample Efficiency\",\n",
    "    \"info\": {\n",
    "        \"description\": \"Mean rewards across 30 runs over 200000 steps for sample efficiency.\",\n",
    "        \"n_steps\": n_steps,\n",
    "        \"n_runs\": n_runs,\n",
    "        \"params\": param_sets[\"sample_efficiency\"]\n",
    "    },\n",
    "    \"mean_rewards\": sample_eff_rewards.tolist(), # Convert numpy array to list\n",
    "    \"individual_runs\": [result[\"episode_rewards\"] for result in sample_eff] # include all runs for further analysis\n",
    "}\n",
    "\n",
    "asympt_data = {\n",
    "    \"name\": \"Asymptotic Rewards\",\n",
    "    \"info\": {\n",
    "        \"description\": \"Mean rewards across 30 runs over 200000 steps for asymptotic rewards.\",\n",
    "        \"n_steps\": n_steps,\n",
    "        \"n_runs\": n_runs,\n",
    "        \"params\": param_sets[\"asymptotic_rewards\"]\n",
    "    },\n",
    "    \"mean_rewards\": asympt_rewards.tolist(), # Convert numpy array to list\n",
    "    \"individual_runs\": [result[\"episode_rewards\"] for result in asympt] # include all runs for further analysis\n",
    "}\n",
    "\n",
    "cumul_data = {\n",
    "    \"name\": \"Cumulative Rewards\",\n",
    "    \"info\": {\n",
    "        \"description\": \"Mean rewards across 30 runs over 200000 steps for cumulative rewards.\",\n",
    "        \"n_steps\": n_steps,\n",
    "        \"n_runs\": n_runs,\n",
    "        \"params\": param_sets[\"cumulative_rewards\"]\n",
    "    },\n",
    "    \"mean_rewards\": cumul_rewards.tolist(), # Convert numpy array to list\n",
    "    \"individual_runs\": [result[\"episode_rewards\"] for result in cumul] # include all runs for further analysis\n",
    "}\n",
    "\n",
    "# Save the data to JSON files\n",
    "with open(\"json/dqn/sample_eff_results.json\", \"w\") as f:\n",
    "    json.dump(sample_eff_data, f, indent=4)\n",
    "\n",
    "with open(\"json/dqn/asympt_results.json\", \"w\") as f:\n",
    "    json.dump(asympt_data, f, indent=4)\n",
    "\n",
    "with open(\"json/dqn/cumul_results.json\", \"w\") as f:\n",
    "    json.dump(cumul_data, f, indent=4)"
   ]
  },
  {
   "cell_type": "code",
   "execution_count": null,
   "metadata": {},
   "outputs": [],
   "source": []
  }
 ],
 "metadata": {
  "kernelspec": {
   "display_name": "base",
   "language": "python",
   "name": "python3"
  },
  "language_info": {
   "codemirror_mode": {
    "name": "ipython",
    "version": 3
   },
   "file_extension": ".py",
   "mimetype": "text/x-python",
   "name": "python",
   "nbconvert_exporter": "python",
   "pygments_lexer": "ipython3",
   "version": "3.10.10"
  }
 },
 "nbformat": 4,
 "nbformat_minor": 2
}
